{
 "cells": [
  {
   "cell_type": "markdown",
   "id": "0e0051f0-b738-4b3d-8506-ed218db4190d",
   "metadata": {},
   "source": [
    "# Data Cleaning and initial Feature Engineering"
   ]
  },
  {
   "cell_type": "code",
   "execution_count": 81,
   "id": "78bd815a-27ae-4fe4-9ffc-d9264adcf8da",
   "metadata": {},
   "outputs": [],
   "source": [
    "import pandas as pd\n",
    "pd.options.mode.chained_assignment = None"
   ]
  },
  {
   "cell_type": "code",
   "execution_count": 2,
   "id": "d685ed6f-18fe-4543-acec-415e99b9bf49",
   "metadata": {},
   "outputs": [],
   "source": [
    "airbnb_nyc = pd.read_csv('/Users/valentinarizzati/Desktop/GitStuff/Projects/Classification-Airbnb/data/nyc_listings.csv')"
   ]
  },
  {
   "cell_type": "code",
   "execution_count": 3,
   "id": "9f55d5b9-1297-4ba2-8a6c-7a08160922dd",
   "metadata": {},
   "outputs": [
    {
     "data": {
      "text/html": [
       "<div>\n",
       "<style scoped>\n",
       "    .dataframe tbody tr th:only-of-type {\n",
       "        vertical-align: middle;\n",
       "    }\n",
       "\n",
       "    .dataframe tbody tr th {\n",
       "        vertical-align: top;\n",
       "    }\n",
       "\n",
       "    .dataframe thead th {\n",
       "        text-align: right;\n",
       "    }\n",
       "</style>\n",
       "<table border=\"1\" class=\"dataframe\">\n",
       "  <thead>\n",
       "    <tr style=\"text-align: right;\">\n",
       "      <th></th>\n",
       "      <th>id</th>\n",
       "      <th>listing_url</th>\n",
       "      <th>scrape_id</th>\n",
       "      <th>last_scraped</th>\n",
       "      <th>name</th>\n",
       "      <th>description</th>\n",
       "      <th>neighborhood_overview</th>\n",
       "      <th>picture_url</th>\n",
       "      <th>host_id</th>\n",
       "      <th>host_url</th>\n",
       "      <th>...</th>\n",
       "      <th>review_scores_communication</th>\n",
       "      <th>review_scores_location</th>\n",
       "      <th>review_scores_value</th>\n",
       "      <th>license</th>\n",
       "      <th>instant_bookable</th>\n",
       "      <th>calculated_host_listings_count</th>\n",
       "      <th>calculated_host_listings_count_entire_homes</th>\n",
       "      <th>calculated_host_listings_count_private_rooms</th>\n",
       "      <th>calculated_host_listings_count_shared_rooms</th>\n",
       "      <th>reviews_per_month</th>\n",
       "    </tr>\n",
       "  </thead>\n",
       "  <tbody>\n",
       "    <tr>\n",
       "      <th>0</th>\n",
       "      <td>2595</td>\n",
       "      <td>https://www.airbnb.com/rooms/2595</td>\n",
       "      <td>20210407173759</td>\n",
       "      <td>2021-04-09</td>\n",
       "      <td>Skylit Midtown Castle</td>\n",
       "      <td>Beautiful, spacious skylit studio in the heart...</td>\n",
       "      <td>Centrally located in the heart of Manhattan ju...</td>\n",
       "      <td>https://a0.muscache.com/pictures/f0813a11-40b2...</td>\n",
       "      <td>2845</td>\n",
       "      <td>https://www.airbnb.com/users/show/2845</td>\n",
       "      <td>...</td>\n",
       "      <td>10.0</td>\n",
       "      <td>10.0</td>\n",
       "      <td>9.0</td>\n",
       "      <td>NaN</td>\n",
       "      <td>f</td>\n",
       "      <td>3</td>\n",
       "      <td>3</td>\n",
       "      <td>0</td>\n",
       "      <td>0</td>\n",
       "      <td>0.35</td>\n",
       "    </tr>\n",
       "    <tr>\n",
       "      <th>1</th>\n",
       "      <td>3831</td>\n",
       "      <td>https://www.airbnb.com/rooms/3831</td>\n",
       "      <td>20210407173759</td>\n",
       "      <td>2021-04-12</td>\n",
       "      <td>Whole flr w/private bdrm, bath &amp; kitchen(pls r...</td>\n",
       "      <td>Enjoy 500 s.f. top floor in 1899 brownstone, w...</td>\n",
       "      <td>Just the right mix of urban center and local n...</td>\n",
       "      <td>https://a0.muscache.com/pictures/e49999c2-9fd5...</td>\n",
       "      <td>4869</td>\n",
       "      <td>https://www.airbnb.com/users/show/4869</td>\n",
       "      <td>...</td>\n",
       "      <td>10.0</td>\n",
       "      <td>10.0</td>\n",
       "      <td>10.0</td>\n",
       "      <td>NaN</td>\n",
       "      <td>f</td>\n",
       "      <td>1</td>\n",
       "      <td>1</td>\n",
       "      <td>0</td>\n",
       "      <td>0</td>\n",
       "      <td>4.98</td>\n",
       "    </tr>\n",
       "    <tr>\n",
       "      <th>2</th>\n",
       "      <td>5121</td>\n",
       "      <td>https://www.airbnb.com/rooms/5121</td>\n",
       "      <td>20210407173759</td>\n",
       "      <td>2021-04-09</td>\n",
       "      <td>BlissArtsSpace!</td>\n",
       "      <td>&lt;b&gt;The space&lt;/b&gt;&lt;br /&gt;HELLO EVERYONE AND THANK...</td>\n",
       "      <td>NaN</td>\n",
       "      <td>https://a0.muscache.com/pictures/2090980c-b68e...</td>\n",
       "      <td>7356</td>\n",
       "      <td>https://www.airbnb.com/users/show/7356</td>\n",
       "      <td>...</td>\n",
       "      <td>10.0</td>\n",
       "      <td>9.0</td>\n",
       "      <td>9.0</td>\n",
       "      <td>NaN</td>\n",
       "      <td>f</td>\n",
       "      <td>1</td>\n",
       "      <td>0</td>\n",
       "      <td>1</td>\n",
       "      <td>0</td>\n",
       "      <td>0.35</td>\n",
       "    </tr>\n",
       "    <tr>\n",
       "      <th>3</th>\n",
       "      <td>5136</td>\n",
       "      <td>https://www.airbnb.com/rooms/5136</td>\n",
       "      <td>20210407173759</td>\n",
       "      <td>2021-04-10</td>\n",
       "      <td>Spacious Brooklyn Duplex, Patio + Garden</td>\n",
       "      <td>We welcome you to stay in our lovely 2 br dupl...</td>\n",
       "      <td>NaN</td>\n",
       "      <td>https://a0.muscache.com/pictures/a3f7ace8-e7a9...</td>\n",
       "      <td>7378</td>\n",
       "      <td>https://www.airbnb.com/users/show/7378</td>\n",
       "      <td>...</td>\n",
       "      <td>10.0</td>\n",
       "      <td>8.0</td>\n",
       "      <td>10.0</td>\n",
       "      <td>NaN</td>\n",
       "      <td>f</td>\n",
       "      <td>1</td>\n",
       "      <td>1</td>\n",
       "      <td>0</td>\n",
       "      <td>0</td>\n",
       "      <td>0.01</td>\n",
       "    </tr>\n",
       "    <tr>\n",
       "      <th>4</th>\n",
       "      <td>5178</td>\n",
       "      <td>https://www.airbnb.com/rooms/5178</td>\n",
       "      <td>20210407173759</td>\n",
       "      <td>2021-04-12</td>\n",
       "      <td>Large Furnished Room Near B'way</td>\n",
       "      <td>Please don’t expect the luxury here just a bas...</td>\n",
       "      <td>Theater district, many restaurants around here.</td>\n",
       "      <td>https://a0.muscache.com/pictures/12065/f070997...</td>\n",
       "      <td>8967</td>\n",
       "      <td>https://www.airbnb.com/users/show/8967</td>\n",
       "      <td>...</td>\n",
       "      <td>9.0</td>\n",
       "      <td>10.0</td>\n",
       "      <td>9.0</td>\n",
       "      <td>NaN</td>\n",
       "      <td>f</td>\n",
       "      <td>1</td>\n",
       "      <td>0</td>\n",
       "      <td>1</td>\n",
       "      <td>0</td>\n",
       "      <td>3.26</td>\n",
       "    </tr>\n",
       "  </tbody>\n",
       "</table>\n",
       "<p>5 rows × 74 columns</p>\n",
       "</div>"
      ],
      "text/plain": [
       "     id                        listing_url       scrape_id last_scraped  \\\n",
       "0  2595  https://www.airbnb.com/rooms/2595  20210407173759   2021-04-09   \n",
       "1  3831  https://www.airbnb.com/rooms/3831  20210407173759   2021-04-12   \n",
       "2  5121  https://www.airbnb.com/rooms/5121  20210407173759   2021-04-09   \n",
       "3  5136  https://www.airbnb.com/rooms/5136  20210407173759   2021-04-10   \n",
       "4  5178  https://www.airbnb.com/rooms/5178  20210407173759   2021-04-12   \n",
       "\n",
       "                                                name  \\\n",
       "0                              Skylit Midtown Castle   \n",
       "1  Whole flr w/private bdrm, bath & kitchen(pls r...   \n",
       "2                                    BlissArtsSpace!   \n",
       "3           Spacious Brooklyn Duplex, Patio + Garden   \n",
       "4                   Large Furnished Room Near B'way　   \n",
       "\n",
       "                                         description  \\\n",
       "0  Beautiful, spacious skylit studio in the heart...   \n",
       "1  Enjoy 500 s.f. top floor in 1899 brownstone, w...   \n",
       "2  <b>The space</b><br />HELLO EVERYONE AND THANK...   \n",
       "3  We welcome you to stay in our lovely 2 br dupl...   \n",
       "4  Please don’t expect the luxury here just a bas...   \n",
       "\n",
       "                               neighborhood_overview  \\\n",
       "0  Centrally located in the heart of Manhattan ju...   \n",
       "1  Just the right mix of urban center and local n...   \n",
       "2                                                NaN   \n",
       "3                                                NaN   \n",
       "4    Theater district, many restaurants around here.   \n",
       "\n",
       "                                         picture_url  host_id  \\\n",
       "0  https://a0.muscache.com/pictures/f0813a11-40b2...     2845   \n",
       "1  https://a0.muscache.com/pictures/e49999c2-9fd5...     4869   \n",
       "2  https://a0.muscache.com/pictures/2090980c-b68e...     7356   \n",
       "3  https://a0.muscache.com/pictures/a3f7ace8-e7a9...     7378   \n",
       "4  https://a0.muscache.com/pictures/12065/f070997...     8967   \n",
       "\n",
       "                                 host_url  ... review_scores_communication  \\\n",
       "0  https://www.airbnb.com/users/show/2845  ...                        10.0   \n",
       "1  https://www.airbnb.com/users/show/4869  ...                        10.0   \n",
       "2  https://www.airbnb.com/users/show/7356  ...                        10.0   \n",
       "3  https://www.airbnb.com/users/show/7378  ...                        10.0   \n",
       "4  https://www.airbnb.com/users/show/8967  ...                         9.0   \n",
       "\n",
       "  review_scores_location review_scores_value license instant_bookable  \\\n",
       "0                   10.0                 9.0     NaN                f   \n",
       "1                   10.0                10.0     NaN                f   \n",
       "2                    9.0                 9.0     NaN                f   \n",
       "3                    8.0                10.0     NaN                f   \n",
       "4                   10.0                 9.0     NaN                f   \n",
       "\n",
       "  calculated_host_listings_count calculated_host_listings_count_entire_homes  \\\n",
       "0                              3                                           3   \n",
       "1                              1                                           1   \n",
       "2                              1                                           0   \n",
       "3                              1                                           1   \n",
       "4                              1                                           0   \n",
       "\n",
       "  calculated_host_listings_count_private_rooms  \\\n",
       "0                                            0   \n",
       "1                                            0   \n",
       "2                                            1   \n",
       "3                                            0   \n",
       "4                                            1   \n",
       "\n",
       "  calculated_host_listings_count_shared_rooms reviews_per_month  \n",
       "0                                           0              0.35  \n",
       "1                                           0              4.98  \n",
       "2                                           0              0.35  \n",
       "3                                           0              0.01  \n",
       "4                                           0              3.26  \n",
       "\n",
       "[5 rows x 74 columns]"
      ]
     },
     "execution_count": 3,
     "metadata": {},
     "output_type": "execute_result"
    }
   ],
   "source": [
    "airbnb_nyc.head()"
   ]
  },
  {
   "cell_type": "code",
   "execution_count": 4,
   "id": "e65c9883-9b06-49fd-a150-5124893f0477",
   "metadata": {},
   "outputs": [
    {
     "data": {
      "text/plain": [
       "(36905, 74)"
      ]
     },
     "execution_count": 4,
     "metadata": {},
     "output_type": "execute_result"
    }
   ],
   "source": [
    "airbnb_nyc.shape"
   ]
  },
  {
   "cell_type": "code",
   "execution_count": 8,
   "id": "6a8d1cfa-deeb-4eda-afc1-b98d46f23e9b",
   "metadata": {},
   "outputs": [
    {
     "data": {
      "text/plain": [
       "Index(['id', 'listing_url', 'scrape_id', 'last_scraped', 'name', 'description',\n",
       "       'neighborhood_overview', 'picture_url', 'host_id', 'host_url',\n",
       "       'host_name', 'host_since', 'host_location', 'host_about',\n",
       "       'host_response_time', 'host_response_rate', 'host_acceptance_rate',\n",
       "       'host_is_superhost', 'host_thumbnail_url', 'host_picture_url',\n",
       "       'host_neighbourhood', 'host_listings_count',\n",
       "       'host_total_listings_count', 'host_verifications',\n",
       "       'host_has_profile_pic', 'host_identity_verified', 'neighbourhood',\n",
       "       'neighbourhood_cleansed', 'neighbourhood_group_cleansed', 'latitude',\n",
       "       'longitude', 'property_type', 'room_type', 'accommodates', 'bathrooms',\n",
       "       'bathrooms_text', 'bedrooms', 'beds', 'amenities', 'price',\n",
       "       'minimum_nights', 'maximum_nights', 'minimum_minimum_nights',\n",
       "       'maximum_minimum_nights', 'minimum_maximum_nights',\n",
       "       'maximum_maximum_nights', 'minimum_nights_avg_ntm',\n",
       "       'maximum_nights_avg_ntm', 'calendar_updated', 'has_availability',\n",
       "       'availability_30', 'availability_60', 'availability_90',\n",
       "       'availability_365', 'calendar_last_scraped', 'number_of_reviews',\n",
       "       'number_of_reviews_ltm', 'number_of_reviews_l30d', 'first_review',\n",
       "       'last_review', 'review_scores_rating', 'review_scores_accuracy',\n",
       "       'review_scores_cleanliness', 'review_scores_checkin',\n",
       "       'review_scores_communication', 'review_scores_location',\n",
       "       'review_scores_value', 'license', 'instant_bookable',\n",
       "       'calculated_host_listings_count',\n",
       "       'calculated_host_listings_count_entire_homes',\n",
       "       'calculated_host_listings_count_private_rooms',\n",
       "       'calculated_host_listings_count_shared_rooms', 'reviews_per_month'],\n",
       "      dtype='object')"
      ]
     },
     "execution_count": 8,
     "metadata": {},
     "output_type": "execute_result"
    }
   ],
   "source": [
    "airbnb_nyc.columns"
   ]
  },
  {
   "cell_type": "code",
   "execution_count": 9,
   "id": "f2fa1221-f59b-4c82-9f81-9210154b0ffd",
   "metadata": {},
   "outputs": [],
   "source": [
    "# Drop columns that are not to be included in the analysis\n",
    "airbnb_nyc = airbnb_nyc.drop(['scrape_id','last_scraped','picture_url','host_id','host_url','host_name',\n",
    "                            'host_thumbnail_url','host_picture_url','host_neighbourhood', 'host_listings_count',\n",
    "                            'host_total_listings_count','neighbourhood','bathrooms','maximum_nights', 'minimum_minimum_nights',\n",
    "                            'maximum_minimum_nights', 'minimum_maximum_nights','maximum_maximum_nights', 'minimum_nights_avg_ntm',\n",
    "                            'maximum_nights_avg_ntm', 'calendar_updated','calendar_last_scraped','number_of_reviews_ltm', \n",
    "                            'number_of_reviews_l30d', 'first_review','last_review','license'], axis = 1)"
   ]
  },
  {
   "cell_type": "code",
   "execution_count": 10,
   "id": "db1db2d3-21bf-4bd0-abfc-7bb3fe99a7ea",
   "metadata": {},
   "outputs": [
    {
     "data": {
      "text/plain": [
       "Index(['id', 'listing_url', 'name', 'description', 'neighborhood_overview',\n",
       "       'host_since', 'host_location', 'host_about', 'host_response_time',\n",
       "       'host_response_rate', 'host_acceptance_rate', 'host_is_superhost',\n",
       "       'host_verifications', 'host_has_profile_pic', 'host_identity_verified',\n",
       "       'neighbourhood_cleansed', 'neighbourhood_group_cleansed', 'latitude',\n",
       "       'longitude', 'property_type', 'room_type', 'accommodates',\n",
       "       'bathrooms_text', 'bedrooms', 'beds', 'amenities', 'price',\n",
       "       'minimum_nights', 'has_availability', 'availability_30',\n",
       "       'availability_60', 'availability_90', 'availability_365',\n",
       "       'number_of_reviews', 'review_scores_rating', 'review_scores_accuracy',\n",
       "       'review_scores_cleanliness', 'review_scores_checkin',\n",
       "       'review_scores_communication', 'review_scores_location',\n",
       "       'review_scores_value', 'instant_bookable',\n",
       "       'calculated_host_listings_count',\n",
       "       'calculated_host_listings_count_entire_homes',\n",
       "       'calculated_host_listings_count_private_rooms',\n",
       "       'calculated_host_listings_count_shared_rooms', 'reviews_per_month'],\n",
       "      dtype='object')"
      ]
     },
     "execution_count": 10,
     "metadata": {},
     "output_type": "execute_result"
    }
   ],
   "source": [
    "airbnb_nyc.columns"
   ]
  },
  {
   "cell_type": "markdown",
   "id": "562de9be-f2ab-4f72-9d7b-87ca449b60d4",
   "metadata": {},
   "source": [
    "Every column will be cleaned individually because different cleaning methodologies will be applied to different columns."
   ]
  },
  {
   "cell_type": "markdown",
   "id": "01d6218d-4b97-48a5-b8a4-ba5523972e0c",
   "metadata": {},
   "source": [
    "## Id"
   ]
  },
  {
   "cell_type": "code",
   "execution_count": 12,
   "id": "8e8e8f40-01e6-4486-8b04-ee1a997bf68e",
   "metadata": {},
   "outputs": [
    {
     "data": {
      "text/plain": [
       "True"
      ]
     },
     "execution_count": 12,
     "metadata": {},
     "output_type": "execute_result"
    }
   ],
   "source": [
    "# Check that there are no duplicates of airbnb id\n",
    "pd.Series(airbnb_nyc['id']).is_unique"
   ]
  },
  {
   "cell_type": "code",
   "execution_count": 15,
   "id": "aca43664-a578-4d04-b6d0-683b73d77b79",
   "metadata": {},
   "outputs": [
    {
     "data": {
      "text/plain": [
       "32493112    1\n",
       "31177794    1\n",
       "14918404    1\n",
       "45789923    1\n",
       "20679396    1\n",
       "           ..\n",
       "38411561    1\n",
       "30955204    1\n",
       "43267372    1\n",
       "44103415    1\n",
       "11667455    1\n",
       "Name: id, Length: 36905, dtype: int64"
      ]
     },
     "execution_count": 15,
     "metadata": {},
     "output_type": "execute_result"
    }
   ],
   "source": [
    "airbnb_nyc['id'].value_counts()"
   ]
  },
  {
   "cell_type": "code",
   "execution_count": 16,
   "id": "7db958d7-cb2f-4489-9721-0093c4fa8156",
   "metadata": {},
   "outputs": [
    {
     "data": {
      "text/plain": [
       "False"
      ]
     },
     "execution_count": 16,
     "metadata": {},
     "output_type": "execute_result"
    }
   ],
   "source": [
    "# Check there is no null value in the column 'id'\n",
    "airbnb_nyc['id'].isnull().values.any()"
   ]
  },
  {
   "cell_type": "markdown",
   "id": "cc759890-f1fd-4996-a0c2-32576e51c7db",
   "metadata": {},
   "source": [
    "## Listing url"
   ]
  },
  {
   "cell_type": "code",
   "execution_count": 17,
   "id": "a1c66c4c-bee5-452d-a254-40fb7e63c804",
   "metadata": {},
   "outputs": [
    {
     "data": {
      "text/plain": [
       "True"
      ]
     },
     "execution_count": 17,
     "metadata": {},
     "output_type": "execute_result"
    }
   ],
   "source": [
    "# Check that there are no duplicates of listing url\n",
    "pd.Series(airbnb_nyc['listing_url']).is_unique"
   ]
  },
  {
   "cell_type": "code",
   "execution_count": 18,
   "id": "0ca757ac-5972-4add-9a32-31378cdba9b8",
   "metadata": {},
   "outputs": [
    {
     "data": {
      "text/plain": [
       "False"
      ]
     },
     "execution_count": 18,
     "metadata": {},
     "output_type": "execute_result"
    }
   ],
   "source": [
    "# Check there is no null value in the column 'listing_url'\n",
    "airbnb_nyc['listing_url'].isnull().values.any()"
   ]
  },
  {
   "cell_type": "markdown",
   "id": "9d8f857c-7e78-4bd2-9c93-d23b31447983",
   "metadata": {},
   "source": [
    "## Name"
   ]
  },
  {
   "cell_type": "code",
   "execution_count": 20,
   "id": "9738941d-0b22-4bee-b01d-7eef1f13ebc4",
   "metadata": {},
   "outputs": [
    {
     "data": {
      "text/plain": [
       "True"
      ]
     },
     "execution_count": 20,
     "metadata": {},
     "output_type": "execute_result"
    }
   ],
   "source": [
    "# Check there is no null value in the column 'name'\n",
    "airbnb_nyc['name'].isnull().values.any()"
   ]
  },
  {
   "cell_type": "code",
   "execution_count": 22,
   "id": "3ed7935e-b3c2-48bc-a908-4d8fc3427843",
   "metadata": {},
   "outputs": [
    {
     "data": {
      "text/html": [
       "<div>\n",
       "<style scoped>\n",
       "    .dataframe tbody tr th:only-of-type {\n",
       "        vertical-align: middle;\n",
       "    }\n",
       "\n",
       "    .dataframe tbody tr th {\n",
       "        vertical-align: top;\n",
       "    }\n",
       "\n",
       "    .dataframe thead th {\n",
       "        text-align: right;\n",
       "    }\n",
       "</style>\n",
       "<table border=\"1\" class=\"dataframe\">\n",
       "  <thead>\n",
       "    <tr style=\"text-align: right;\">\n",
       "      <th></th>\n",
       "      <th>id</th>\n",
       "      <th>listing_url</th>\n",
       "      <th>name</th>\n",
       "      <th>description</th>\n",
       "      <th>neighborhood_overview</th>\n",
       "      <th>host_since</th>\n",
       "      <th>host_location</th>\n",
       "      <th>host_about</th>\n",
       "      <th>host_response_time</th>\n",
       "      <th>host_response_rate</th>\n",
       "      <th>...</th>\n",
       "      <th>review_scores_checkin</th>\n",
       "      <th>review_scores_communication</th>\n",
       "      <th>review_scores_location</th>\n",
       "      <th>review_scores_value</th>\n",
       "      <th>instant_bookable</th>\n",
       "      <th>calculated_host_listings_count</th>\n",
       "      <th>calculated_host_listings_count_entire_homes</th>\n",
       "      <th>calculated_host_listings_count_private_rooms</th>\n",
       "      <th>calculated_host_listings_count_shared_rooms</th>\n",
       "      <th>reviews_per_month</th>\n",
       "    </tr>\n",
       "  </thead>\n",
       "  <tbody>\n",
       "    <tr>\n",
       "      <th>1774</th>\n",
       "      <td>1615764</td>\n",
       "      <td>https://www.airbnb.com/rooms/1615764</td>\n",
       "      <td>NaN</td>\n",
       "      <td>&lt;b&gt;Guest access&lt;/b&gt;&lt;br /&gt;Entire space (some st...</td>\n",
       "      <td>It is the financial district but it doesn't fe...</td>\n",
       "      <td>2013-05-31</td>\n",
       "      <td>New York, New York, United States</td>\n",
       "      <td>Friendly, efficient and considerate.</td>\n",
       "      <td>NaN</td>\n",
       "      <td>NaN</td>\n",
       "      <td>...</td>\n",
       "      <td>NaN</td>\n",
       "      <td>NaN</td>\n",
       "      <td>NaN</td>\n",
       "      <td>NaN</td>\n",
       "      <td>f</td>\n",
       "      <td>1</td>\n",
       "      <td>1</td>\n",
       "      <td>0</td>\n",
       "      <td>0</td>\n",
       "      <td>NaN</td>\n",
       "    </tr>\n",
       "    <tr>\n",
       "      <th>2279</th>\n",
       "      <td>2232600</td>\n",
       "      <td>https://www.airbnb.com/rooms/2232600</td>\n",
       "      <td>NaN</td>\n",
       "      <td>NaN</td>\n",
       "      <td>NaN</td>\n",
       "      <td>2014-01-17</td>\n",
       "      <td>New York, New York, United States</td>\n",
       "      <td>NaN</td>\n",
       "      <td>NaN</td>\n",
       "      <td>NaN</td>\n",
       "      <td>...</td>\n",
       "      <td>10.0</td>\n",
       "      <td>10.0</td>\n",
       "      <td>10.0</td>\n",
       "      <td>10.0</td>\n",
       "      <td>f</td>\n",
       "      <td>1</td>\n",
       "      <td>1</td>\n",
       "      <td>0</td>\n",
       "      <td>0</td>\n",
       "      <td>0.33</td>\n",
       "    </tr>\n",
       "    <tr>\n",
       "      <th>3606</th>\n",
       "      <td>4209595</td>\n",
       "      <td>https://www.airbnb.com/rooms/4209595</td>\n",
       "      <td>NaN</td>\n",
       "      <td>NaN</td>\n",
       "      <td>NaN</td>\n",
       "      <td>2014-08-29</td>\n",
       "      <td>New York, New York, United States</td>\n",
       "      <td>Hello! We are a kindergarten teacher and a fin...</td>\n",
       "      <td>NaN</td>\n",
       "      <td>NaN</td>\n",
       "      <td>...</td>\n",
       "      <td>10.0</td>\n",
       "      <td>10.0</td>\n",
       "      <td>10.0</td>\n",
       "      <td>10.0</td>\n",
       "      <td>f</td>\n",
       "      <td>1</td>\n",
       "      <td>1</td>\n",
       "      <td>0</td>\n",
       "      <td>0</td>\n",
       "      <td>0.01</td>\n",
       "    </tr>\n",
       "    <tr>\n",
       "      <th>3725</th>\n",
       "      <td>4370230</td>\n",
       "      <td>https://www.airbnb.com/rooms/4370230</td>\n",
       "      <td>NaN</td>\n",
       "      <td>Beautiful 1BR apartment in the heart of Nolita...</td>\n",
       "      <td>NaN</td>\n",
       "      <td>2014-10-18</td>\n",
       "      <td>Paris, Île-de-France, France</td>\n",
       "      <td>NaN</td>\n",
       "      <td>NaN</td>\n",
       "      <td>NaN</td>\n",
       "      <td>...</td>\n",
       "      <td>10.0</td>\n",
       "      <td>10.0</td>\n",
       "      <td>10.0</td>\n",
       "      <td>10.0</td>\n",
       "      <td>f</td>\n",
       "      <td>1</td>\n",
       "      <td>1</td>\n",
       "      <td>0</td>\n",
       "      <td>0</td>\n",
       "      <td>0.06</td>\n",
       "    </tr>\n",
       "    <tr>\n",
       "      <th>3913</th>\n",
       "      <td>4581788</td>\n",
       "      <td>https://www.airbnb.com/rooms/4581788</td>\n",
       "      <td>NaN</td>\n",
       "      <td>NaN</td>\n",
       "      <td>NaN</td>\n",
       "      <td>2014-09-21</td>\n",
       "      <td>New York, New York, United States</td>\n",
       "      <td>NaN</td>\n",
       "      <td>NaN</td>\n",
       "      <td>NaN</td>\n",
       "      <td>...</td>\n",
       "      <td>NaN</td>\n",
       "      <td>NaN</td>\n",
       "      <td>NaN</td>\n",
       "      <td>NaN</td>\n",
       "      <td>f</td>\n",
       "      <td>1</td>\n",
       "      <td>0</td>\n",
       "      <td>1</td>\n",
       "      <td>0</td>\n",
       "      <td>NaN</td>\n",
       "    </tr>\n",
       "    <tr>\n",
       "      <th>4103</th>\n",
       "      <td>4756856</td>\n",
       "      <td>https://www.airbnb.com/rooms/4756856</td>\n",
       "      <td>NaN</td>\n",
       "      <td>Sunny bedroom in Castlebraid, Bushwick! I shar...</td>\n",
       "      <td>NaN</td>\n",
       "      <td>2012-02-29</td>\n",
       "      <td>New York, New York, United States</td>\n",
       "      <td>My name is Carolina. I´m a peruvian artist bas...</td>\n",
       "      <td>NaN</td>\n",
       "      <td>NaN</td>\n",
       "      <td>...</td>\n",
       "      <td>NaN</td>\n",
       "      <td>NaN</td>\n",
       "      <td>NaN</td>\n",
       "      <td>NaN</td>\n",
       "      <td>f</td>\n",
       "      <td>1</td>\n",
       "      <td>0</td>\n",
       "      <td>1</td>\n",
       "      <td>0</td>\n",
       "      <td>NaN</td>\n",
       "    </tr>\n",
       "    <tr>\n",
       "      <th>4126</th>\n",
       "      <td>4774658</td>\n",
       "      <td>https://www.airbnb.com/rooms/4774658</td>\n",
       "      <td>NaN</td>\n",
       "      <td>Room available (sublet) Jan.&lt;br /&gt;Price very n...</td>\n",
       "      <td>NaN</td>\n",
       "      <td>2014-12-08</td>\n",
       "      <td>New York, New York, United States</td>\n",
       "      <td>NaN</td>\n",
       "      <td>NaN</td>\n",
       "      <td>NaN</td>\n",
       "      <td>...</td>\n",
       "      <td>NaN</td>\n",
       "      <td>NaN</td>\n",
       "      <td>NaN</td>\n",
       "      <td>NaN</td>\n",
       "      <td>f</td>\n",
       "      <td>1</td>\n",
       "      <td>0</td>\n",
       "      <td>1</td>\n",
       "      <td>0</td>\n",
       "      <td>NaN</td>\n",
       "    </tr>\n",
       "    <tr>\n",
       "      <th>5533</th>\n",
       "      <td>6782407</td>\n",
       "      <td>https://www.airbnb.com/rooms/6782407</td>\n",
       "      <td>NaN</td>\n",
       "      <td>A cute and cozy private room in East Williamsb...</td>\n",
       "      <td>There is a laundromat and a deli around the co...</td>\n",
       "      <td>NaN</td>\n",
       "      <td>NaN</td>\n",
       "      <td>NaN</td>\n",
       "      <td>NaN</td>\n",
       "      <td>NaN</td>\n",
       "      <td>...</td>\n",
       "      <td>NaN</td>\n",
       "      <td>NaN</td>\n",
       "      <td>NaN</td>\n",
       "      <td>NaN</td>\n",
       "      <td>f</td>\n",
       "      <td>1</td>\n",
       "      <td>0</td>\n",
       "      <td>1</td>\n",
       "      <td>0</td>\n",
       "      <td>NaN</td>\n",
       "    </tr>\n",
       "    <tr>\n",
       "      <th>7505</th>\n",
       "      <td>9325951</td>\n",
       "      <td>https://www.airbnb.com/rooms/9325951</td>\n",
       "      <td>NaN</td>\n",
       "      <td>Ideally located in Midtown Manhattan, this lar...</td>\n",
       "      <td>NaN</td>\n",
       "      <td>2015-05-14</td>\n",
       "      <td>US</td>\n",
       "      <td>NaN</td>\n",
       "      <td>NaN</td>\n",
       "      <td>NaN</td>\n",
       "      <td>...</td>\n",
       "      <td>10.0</td>\n",
       "      <td>10.0</td>\n",
       "      <td>10.0</td>\n",
       "      <td>10.0</td>\n",
       "      <td>f</td>\n",
       "      <td>1</td>\n",
       "      <td>1</td>\n",
       "      <td>0</td>\n",
       "      <td>0</td>\n",
       "      <td>0.02</td>\n",
       "    </tr>\n",
       "    <tr>\n",
       "      <th>8028</th>\n",
       "      <td>9787590</td>\n",
       "      <td>https://www.airbnb.com/rooms/9787590</td>\n",
       "      <td>NaN</td>\n",
       "      <td>Cozy and charming apartment available in the h...</td>\n",
       "      <td>NaN</td>\n",
       "      <td>2015-12-03</td>\n",
       "      <td>New York, New York, United States</td>\n",
       "      <td>NaN</td>\n",
       "      <td>NaN</td>\n",
       "      <td>NaN</td>\n",
       "      <td>...</td>\n",
       "      <td>NaN</td>\n",
       "      <td>NaN</td>\n",
       "      <td>NaN</td>\n",
       "      <td>NaN</td>\n",
       "      <td>f</td>\n",
       "      <td>5</td>\n",
       "      <td>1</td>\n",
       "      <td>4</td>\n",
       "      <td>0</td>\n",
       "      <td>NaN</td>\n",
       "    </tr>\n",
       "    <tr>\n",
       "      <th>8406</th>\n",
       "      <td>10052289</td>\n",
       "      <td>https://www.airbnb.com/rooms/10052289</td>\n",
       "      <td>NaN</td>\n",
       "      <td>Room in an apartment in Brooklyn with a bed fu...</td>\n",
       "      <td>I like the neighhood, they are nice and gentle</td>\n",
       "      <td>2015-11-20</td>\n",
       "      <td>Brooklyn, New York, United States</td>\n",
       "      <td>NaN</td>\n",
       "      <td>NaN</td>\n",
       "      <td>NaN</td>\n",
       "      <td>...</td>\n",
       "      <td>10.0</td>\n",
       "      <td>10.0</td>\n",
       "      <td>7.0</td>\n",
       "      <td>9.0</td>\n",
       "      <td>f</td>\n",
       "      <td>1</td>\n",
       "      <td>0</td>\n",
       "      <td>1</td>\n",
       "      <td>0</td>\n",
       "      <td>0.05</td>\n",
       "    </tr>\n",
       "    <tr>\n",
       "      <th>9972</th>\n",
       "      <td>12797684</td>\n",
       "      <td>https://www.airbnb.com/rooms/12797684</td>\n",
       "      <td>NaN</td>\n",
       "      <td>Sunny Bedroom, 2 minutes from central park and...</td>\n",
       "      <td>NaN</td>\n",
       "      <td>2016-04-30</td>\n",
       "      <td>Houston, Texas, United States</td>\n",
       "      <td>NaN</td>\n",
       "      <td>NaN</td>\n",
       "      <td>NaN</td>\n",
       "      <td>...</td>\n",
       "      <td>NaN</td>\n",
       "      <td>NaN</td>\n",
       "      <td>NaN</td>\n",
       "      <td>NaN</td>\n",
       "      <td>f</td>\n",
       "      <td>2</td>\n",
       "      <td>0</td>\n",
       "      <td>2</td>\n",
       "      <td>0</td>\n",
       "      <td>NaN</td>\n",
       "    </tr>\n",
       "    <tr>\n",
       "      <th>10124</th>\n",
       "      <td>12988898</td>\n",
       "      <td>https://www.airbnb.com/rooms/12988898</td>\n",
       "      <td>NaN</td>\n",
       "      <td>El apartamento. Es confortable. La sala Cosina...</td>\n",
       "      <td>NaN</td>\n",
       "      <td>2016-05-11</td>\n",
       "      <td>New York, New York, United States</td>\n",
       "      <td>NaN</td>\n",
       "      <td>NaN</td>\n",
       "      <td>NaN</td>\n",
       "      <td>...</td>\n",
       "      <td>NaN</td>\n",
       "      <td>NaN</td>\n",
       "      <td>NaN</td>\n",
       "      <td>NaN</td>\n",
       "      <td>f</td>\n",
       "      <td>1</td>\n",
       "      <td>0</td>\n",
       "      <td>0</td>\n",
       "      <td>1</td>\n",
       "      <td>NaN</td>\n",
       "    </tr>\n",
       "  </tbody>\n",
       "</table>\n",
       "<p>13 rows × 47 columns</p>\n",
       "</div>"
      ],
      "text/plain": [
       "             id                            listing_url name  \\\n",
       "1774    1615764   https://www.airbnb.com/rooms/1615764  NaN   \n",
       "2279    2232600   https://www.airbnb.com/rooms/2232600  NaN   \n",
       "3606    4209595   https://www.airbnb.com/rooms/4209595  NaN   \n",
       "3725    4370230   https://www.airbnb.com/rooms/4370230  NaN   \n",
       "3913    4581788   https://www.airbnb.com/rooms/4581788  NaN   \n",
       "4103    4756856   https://www.airbnb.com/rooms/4756856  NaN   \n",
       "4126    4774658   https://www.airbnb.com/rooms/4774658  NaN   \n",
       "5533    6782407   https://www.airbnb.com/rooms/6782407  NaN   \n",
       "7505    9325951   https://www.airbnb.com/rooms/9325951  NaN   \n",
       "8028    9787590   https://www.airbnb.com/rooms/9787590  NaN   \n",
       "8406   10052289  https://www.airbnb.com/rooms/10052289  NaN   \n",
       "9972   12797684  https://www.airbnb.com/rooms/12797684  NaN   \n",
       "10124  12988898  https://www.airbnb.com/rooms/12988898  NaN   \n",
       "\n",
       "                                             description  \\\n",
       "1774   <b>Guest access</b><br />Entire space (some st...   \n",
       "2279                                                 NaN   \n",
       "3606                                                 NaN   \n",
       "3725   Beautiful 1BR apartment in the heart of Nolita...   \n",
       "3913                                                 NaN   \n",
       "4103   Sunny bedroom in Castlebraid, Bushwick! I shar...   \n",
       "4126   Room available (sublet) Jan.<br />Price very n...   \n",
       "5533   A cute and cozy private room in East Williamsb...   \n",
       "7505   Ideally located in Midtown Manhattan, this lar...   \n",
       "8028   Cozy and charming apartment available in the h...   \n",
       "8406   Room in an apartment in Brooklyn with a bed fu...   \n",
       "9972   Sunny Bedroom, 2 minutes from central park and...   \n",
       "10124  El apartamento. Es confortable. La sala Cosina...   \n",
       "\n",
       "                                   neighborhood_overview  host_since  \\\n",
       "1774   It is the financial district but it doesn't fe...  2013-05-31   \n",
       "2279                                                 NaN  2014-01-17   \n",
       "3606                                                 NaN  2014-08-29   \n",
       "3725                                                 NaN  2014-10-18   \n",
       "3913                                                 NaN  2014-09-21   \n",
       "4103                                                 NaN  2012-02-29   \n",
       "4126                                                 NaN  2014-12-08   \n",
       "5533   There is a laundromat and a deli around the co...         NaN   \n",
       "7505                                                 NaN  2015-05-14   \n",
       "8028                                                 NaN  2015-12-03   \n",
       "8406      I like the neighhood, they are nice and gentle  2015-11-20   \n",
       "9972                                                 NaN  2016-04-30   \n",
       "10124                                                NaN  2016-05-11   \n",
       "\n",
       "                           host_location  \\\n",
       "1774   New York, New York, United States   \n",
       "2279   New York, New York, United States   \n",
       "3606   New York, New York, United States   \n",
       "3725        Paris, Île-de-France, France   \n",
       "3913   New York, New York, United States   \n",
       "4103   New York, New York, United States   \n",
       "4126   New York, New York, United States   \n",
       "5533                                 NaN   \n",
       "7505                                  US   \n",
       "8028   New York, New York, United States   \n",
       "8406   Brooklyn, New York, United States   \n",
       "9972       Houston, Texas, United States   \n",
       "10124  New York, New York, United States   \n",
       "\n",
       "                                              host_about host_response_time  \\\n",
       "1774               Friendly, efficient and considerate.                 NaN   \n",
       "2279                                                 NaN                NaN   \n",
       "3606   Hello! We are a kindergarten teacher and a fin...                NaN   \n",
       "3725                                                 NaN                NaN   \n",
       "3913                                                 NaN                NaN   \n",
       "4103   My name is Carolina. I´m a peruvian artist bas...                NaN   \n",
       "4126                                                 NaN                NaN   \n",
       "5533                                                 NaN                NaN   \n",
       "7505                                                 NaN                NaN   \n",
       "8028                                                 NaN                NaN   \n",
       "8406                                                 NaN                NaN   \n",
       "9972                                                 NaN                NaN   \n",
       "10124                                                NaN                NaN   \n",
       "\n",
       "      host_response_rate  ... review_scores_checkin  \\\n",
       "1774                 NaN  ...                   NaN   \n",
       "2279                 NaN  ...                  10.0   \n",
       "3606                 NaN  ...                  10.0   \n",
       "3725                 NaN  ...                  10.0   \n",
       "3913                 NaN  ...                   NaN   \n",
       "4103                 NaN  ...                   NaN   \n",
       "4126                 NaN  ...                   NaN   \n",
       "5533                 NaN  ...                   NaN   \n",
       "7505                 NaN  ...                  10.0   \n",
       "8028                 NaN  ...                   NaN   \n",
       "8406                 NaN  ...                  10.0   \n",
       "9972                 NaN  ...                   NaN   \n",
       "10124                NaN  ...                   NaN   \n",
       "\n",
       "      review_scores_communication review_scores_location review_scores_value  \\\n",
       "1774                          NaN                    NaN                 NaN   \n",
       "2279                         10.0                   10.0                10.0   \n",
       "3606                         10.0                   10.0                10.0   \n",
       "3725                         10.0                   10.0                10.0   \n",
       "3913                          NaN                    NaN                 NaN   \n",
       "4103                          NaN                    NaN                 NaN   \n",
       "4126                          NaN                    NaN                 NaN   \n",
       "5533                          NaN                    NaN                 NaN   \n",
       "7505                         10.0                   10.0                10.0   \n",
       "8028                          NaN                    NaN                 NaN   \n",
       "8406                         10.0                    7.0                 9.0   \n",
       "9972                          NaN                    NaN                 NaN   \n",
       "10124                         NaN                    NaN                 NaN   \n",
       "\n",
       "      instant_bookable calculated_host_listings_count  \\\n",
       "1774                 f                              1   \n",
       "2279                 f                              1   \n",
       "3606                 f                              1   \n",
       "3725                 f                              1   \n",
       "3913                 f                              1   \n",
       "4103                 f                              1   \n",
       "4126                 f                              1   \n",
       "5533                 f                              1   \n",
       "7505                 f                              1   \n",
       "8028                 f                              5   \n",
       "8406                 f                              1   \n",
       "9972                 f                              2   \n",
       "10124                f                              1   \n",
       "\n",
       "      calculated_host_listings_count_entire_homes  \\\n",
       "1774                                            1   \n",
       "2279                                            1   \n",
       "3606                                            1   \n",
       "3725                                            1   \n",
       "3913                                            0   \n",
       "4103                                            0   \n",
       "4126                                            0   \n",
       "5533                                            0   \n",
       "7505                                            1   \n",
       "8028                                            1   \n",
       "8406                                            0   \n",
       "9972                                            0   \n",
       "10124                                           0   \n",
       "\n",
       "       calculated_host_listings_count_private_rooms  \\\n",
       "1774                                              0   \n",
       "2279                                              0   \n",
       "3606                                              0   \n",
       "3725                                              0   \n",
       "3913                                              1   \n",
       "4103                                              1   \n",
       "4126                                              1   \n",
       "5533                                              1   \n",
       "7505                                              0   \n",
       "8028                                              4   \n",
       "8406                                              1   \n",
       "9972                                              2   \n",
       "10124                                             0   \n",
       "\n",
       "       calculated_host_listings_count_shared_rooms reviews_per_month  \n",
       "1774                                             0               NaN  \n",
       "2279                                             0              0.33  \n",
       "3606                                             0              0.01  \n",
       "3725                                             0              0.06  \n",
       "3913                                             0               NaN  \n",
       "4103                                             0               NaN  \n",
       "4126                                             0               NaN  \n",
       "5533                                             0               NaN  \n",
       "7505                                             0              0.02  \n",
       "8028                                             0               NaN  \n",
       "8406                                             0              0.05  \n",
       "9972                                             0               NaN  \n",
       "10124                                            1               NaN  \n",
       "\n",
       "[13 rows x 47 columns]"
      ]
     },
     "execution_count": 22,
     "metadata": {},
     "output_type": "execute_result"
    }
   ],
   "source": [
    "# Create a mask for null value in 'name'\n",
    "null_name = airbnb_nyc[airbnb_nyc['name'].isnull()]\n",
    "null_name"
   ]
  },
  {
   "cell_type": "code",
   "execution_count": 23,
   "id": "10bdca03-b28e-4f2c-bbc2-66ef2ba82166",
   "metadata": {},
   "outputs": [],
   "source": [
    "# Redefine our df as including only rows with a non NA 'name'\n",
    "airbnb_nyc = airbnb_nyc[airbnb_nyc['name'].notna()]"
   ]
  },
  {
   "cell_type": "code",
   "execution_count": 24,
   "id": "63a90aa0-c1a0-4b42-a60b-3d33e0e99dc2",
   "metadata": {},
   "outputs": [
    {
     "data": {
      "text/plain": [
       "(36892, 47)"
      ]
     },
     "execution_count": 24,
     "metadata": {},
     "output_type": "execute_result"
    }
   ],
   "source": [
    "airbnb_nyc.shape"
   ]
  },
  {
   "cell_type": "code",
   "execution_count": 25,
   "id": "343e281f-7611-4d71-8f41-71ae2f1126ba",
   "metadata": {},
   "outputs": [
    {
     "data": {
      "text/plain": [
       "False"
      ]
     },
     "execution_count": 25,
     "metadata": {},
     "output_type": "execute_result"
    }
   ],
   "source": [
    "# Check there is no null value in the column 'name'\n",
    "airbnb_nyc['name'].isnull().values.any()"
   ]
  },
  {
   "cell_type": "code",
   "execution_count": 30,
   "id": "c5636cd0-0aa5-477d-aa8a-d246eba37266",
   "metadata": {},
   "outputs": [],
   "source": [
    "# Create new column counting the characters included in the name (hyp: length of name might impact user's decision-making about a listing)\n",
    "airbnb_nyc['name_len']= airbnb_nyc['name'].str.len()"
   ]
  },
  {
   "cell_type": "code",
   "execution_count": 31,
   "id": "453cad92-11ef-45dd-a04b-aa88c78c898a",
   "metadata": {},
   "outputs": [
    {
     "data": {
      "text/plain": [
       "50     3327\n",
       "49     2528\n",
       "35     2156\n",
       "48     1941\n",
       "47     1726\n",
       "       ... \n",
       "82        1\n",
       "81        1\n",
       "74        1\n",
       "76        1\n",
       "131       1\n",
       "Name: name_len, Length: 87, dtype: int64"
      ]
     },
     "execution_count": 31,
     "metadata": {},
     "output_type": "execute_result"
    }
   ],
   "source": [
    "airbnb_nyc['name_len'].value_counts()"
   ]
  },
  {
   "cell_type": "code",
   "execution_count": 35,
   "id": "e73125e3-1340-444c-97e2-5bbd3a8235f3",
   "metadata": {},
   "outputs": [
    {
     "data": {
      "text/plain": [
       "False"
      ]
     },
     "execution_count": 35,
     "metadata": {},
     "output_type": "execute_result"
    }
   ],
   "source": [
    "# Check there is no null value in the column 'name_len'\n",
    "airbnb_nyc['name_len'].isnull().values.any()"
   ]
  },
  {
   "cell_type": "markdown",
   "id": "2dafec4d-3dd2-4cb0-be47-ac7dbbedfe72",
   "metadata": {},
   "source": [
    "## Description"
   ]
  },
  {
   "cell_type": "code",
   "execution_count": 26,
   "id": "60110849-01d8-4f5c-9e2b-a89ce1bacd3c",
   "metadata": {},
   "outputs": [
    {
     "data": {
      "text/plain": [
       "True"
      ]
     },
     "execution_count": 26,
     "metadata": {},
     "output_type": "execute_result"
    }
   ],
   "source": [
    "# Check there is no null value in the column 'description'\n",
    "airbnb_nyc['description'].isnull().values.any()"
   ]
  },
  {
   "cell_type": "code",
   "execution_count": 27,
   "id": "cc169bdb-cbed-484d-a2ca-45211ad5ef08",
   "metadata": {},
   "outputs": [
    {
     "data": {
      "text/html": [
       "<div>\n",
       "<style scoped>\n",
       "    .dataframe tbody tr th:only-of-type {\n",
       "        vertical-align: middle;\n",
       "    }\n",
       "\n",
       "    .dataframe tbody tr th {\n",
       "        vertical-align: top;\n",
       "    }\n",
       "\n",
       "    .dataframe thead th {\n",
       "        text-align: right;\n",
       "    }\n",
       "</style>\n",
       "<table border=\"1\" class=\"dataframe\">\n",
       "  <thead>\n",
       "    <tr style=\"text-align: right;\">\n",
       "      <th></th>\n",
       "      <th>id</th>\n",
       "      <th>listing_url</th>\n",
       "      <th>name</th>\n",
       "      <th>description</th>\n",
       "      <th>neighborhood_overview</th>\n",
       "      <th>host_since</th>\n",
       "      <th>host_location</th>\n",
       "      <th>host_about</th>\n",
       "      <th>host_response_time</th>\n",
       "      <th>host_response_rate</th>\n",
       "      <th>...</th>\n",
       "      <th>review_scores_checkin</th>\n",
       "      <th>review_scores_communication</th>\n",
       "      <th>review_scores_location</th>\n",
       "      <th>review_scores_value</th>\n",
       "      <th>instant_bookable</th>\n",
       "      <th>calculated_host_listings_count</th>\n",
       "      <th>calculated_host_listings_count_entire_homes</th>\n",
       "      <th>calculated_host_listings_count_private_rooms</th>\n",
       "      <th>calculated_host_listings_count_shared_rooms</th>\n",
       "      <th>reviews_per_month</th>\n",
       "    </tr>\n",
       "  </thead>\n",
       "  <tbody>\n",
       "    <tr>\n",
       "      <th>1747</th>\n",
       "      <td>1550558</td>\n",
       "      <td>https://www.airbnb.com/rooms/1550558</td>\n",
       "      <td>Williamsburg Gem!</td>\n",
       "      <td>NaN</td>\n",
       "      <td>NaN</td>\n",
       "      <td>2013-04-22</td>\n",
       "      <td>New York, New York, United States</td>\n",
       "      <td>artist and chef that loves learning about the ...</td>\n",
       "      <td>within a few hours</td>\n",
       "      <td>100%</td>\n",
       "      <td>...</td>\n",
       "      <td>10.0</td>\n",
       "      <td>10.0</td>\n",
       "      <td>10.0</td>\n",
       "      <td>10.0</td>\n",
       "      <td>f</td>\n",
       "      <td>1</td>\n",
       "      <td>1</td>\n",
       "      <td>0</td>\n",
       "      <td>0</td>\n",
       "      <td>0.65</td>\n",
       "    </tr>\n",
       "    <tr>\n",
       "      <th>2281</th>\n",
       "      <td>2237708</td>\n",
       "      <td>https://www.airbnb.com/rooms/2237708</td>\n",
       "      <td>Spacious 1bdrm furnished wifi tv</td>\n",
       "      <td>NaN</td>\n",
       "      <td>NaN</td>\n",
       "      <td>2013-12-23</td>\n",
       "      <td>New York, New York, United States</td>\n",
       "      <td>I am only renting when I am out of town</td>\n",
       "      <td>NaN</td>\n",
       "      <td>NaN</td>\n",
       "      <td>...</td>\n",
       "      <td>NaN</td>\n",
       "      <td>NaN</td>\n",
       "      <td>NaN</td>\n",
       "      <td>NaN</td>\n",
       "      <td>f</td>\n",
       "      <td>1</td>\n",
       "      <td>1</td>\n",
       "      <td>0</td>\n",
       "      <td>0</td>\n",
       "      <td>NaN</td>\n",
       "    </tr>\n",
       "    <tr>\n",
       "      <th>2466</th>\n",
       "      <td>2478933</td>\n",
       "      <td>https://www.airbnb.com/rooms/2478933</td>\n",
       "      <td>Ambient stylish bedroom with private bathroom</td>\n",
       "      <td>NaN</td>\n",
       "      <td>NaN</td>\n",
       "      <td>2012-02-16</td>\n",
       "      <td>New York, New York, United States</td>\n",
       "      <td>NaN</td>\n",
       "      <td>within a day</td>\n",
       "      <td>75%</td>\n",
       "      <td>...</td>\n",
       "      <td>NaN</td>\n",
       "      <td>NaN</td>\n",
       "      <td>NaN</td>\n",
       "      <td>NaN</td>\n",
       "      <td>t</td>\n",
       "      <td>3</td>\n",
       "      <td>1</td>\n",
       "      <td>2</td>\n",
       "      <td>0</td>\n",
       "      <td>NaN</td>\n",
       "    </tr>\n",
       "    <tr>\n",
       "      <th>2533</th>\n",
       "      <td>2592533</td>\n",
       "      <td>https://www.airbnb.com/rooms/2592533</td>\n",
       "      <td>Private room in the heart of Williamsburg- L, G</td>\n",
       "      <td>NaN</td>\n",
       "      <td>NaN</td>\n",
       "      <td>2014-03-18</td>\n",
       "      <td>Brooklyn, New York, United States</td>\n",
       "      <td>NaN</td>\n",
       "      <td>within a day</td>\n",
       "      <td>50%</td>\n",
       "      <td>...</td>\n",
       "      <td>10.0</td>\n",
       "      <td>10.0</td>\n",
       "      <td>10.0</td>\n",
       "      <td>10.0</td>\n",
       "      <td>f</td>\n",
       "      <td>1</td>\n",
       "      <td>0</td>\n",
       "      <td>1</td>\n",
       "      <td>0</td>\n",
       "      <td>0.09</td>\n",
       "    </tr>\n",
       "    <tr>\n",
       "      <th>2981</th>\n",
       "      <td>3368427</td>\n",
       "      <td>https://www.airbnb.com/rooms/3368427</td>\n",
       "      <td>Happy big family</td>\n",
       "      <td>NaN</td>\n",
       "      <td>NaN</td>\n",
       "      <td>2012-11-02</td>\n",
       "      <td>Oslo, Oslo, Norway</td>\n",
       "      <td>NaN</td>\n",
       "      <td>NaN</td>\n",
       "      <td>NaN</td>\n",
       "      <td>...</td>\n",
       "      <td>NaN</td>\n",
       "      <td>NaN</td>\n",
       "      <td>NaN</td>\n",
       "      <td>NaN</td>\n",
       "      <td>f</td>\n",
       "      <td>1</td>\n",
       "      <td>0</td>\n",
       "      <td>1</td>\n",
       "      <td>0</td>\n",
       "      <td>NaN</td>\n",
       "    </tr>\n",
       "    <tr>\n",
       "      <th>...</th>\n",
       "      <td>...</td>\n",
       "      <td>...</td>\n",
       "      <td>...</td>\n",
       "      <td>...</td>\n",
       "      <td>...</td>\n",
       "      <td>...</td>\n",
       "      <td>...</td>\n",
       "      <td>...</td>\n",
       "      <td>...</td>\n",
       "      <td>...</td>\n",
       "      <td>...</td>\n",
       "      <td>...</td>\n",
       "      <td>...</td>\n",
       "      <td>...</td>\n",
       "      <td>...</td>\n",
       "      <td>...</td>\n",
       "      <td>...</td>\n",
       "      <td>...</td>\n",
       "      <td>...</td>\n",
       "      <td>...</td>\n",
       "      <td>...</td>\n",
       "    </tr>\n",
       "    <tr>\n",
       "      <th>36868</th>\n",
       "      <td>49063413</td>\n",
       "      <td>https://www.airbnb.com/rooms/49063413</td>\n",
       "      <td>Very cute bushwick apartment</td>\n",
       "      <td>NaN</td>\n",
       "      <td>NaN</td>\n",
       "      <td>2019-08-07</td>\n",
       "      <td>Queens, New York, United States</td>\n",
       "      <td>NaN</td>\n",
       "      <td>within an hour</td>\n",
       "      <td>100%</td>\n",
       "      <td>...</td>\n",
       "      <td>NaN</td>\n",
       "      <td>NaN</td>\n",
       "      <td>NaN</td>\n",
       "      <td>NaN</td>\n",
       "      <td>t</td>\n",
       "      <td>1</td>\n",
       "      <td>0</td>\n",
       "      <td>1</td>\n",
       "      <td>0</td>\n",
       "      <td>NaN</td>\n",
       "    </tr>\n",
       "    <tr>\n",
       "      <th>36869</th>\n",
       "      <td>49065181</td>\n",
       "      <td>https://www.airbnb.com/rooms/49065181</td>\n",
       "      <td>New location/ Bushwick BK / Big Room w TV in Bsmt</td>\n",
       "      <td>NaN</td>\n",
       "      <td>NaN</td>\n",
       "      <td>2016-07-02</td>\n",
       "      <td>New York, New York, United States</td>\n",
       "      <td>Hablo español, 我說廣東話, I'm learning English.\\nI...</td>\n",
       "      <td>within an hour</td>\n",
       "      <td>96%</td>\n",
       "      <td>...</td>\n",
       "      <td>NaN</td>\n",
       "      <td>NaN</td>\n",
       "      <td>NaN</td>\n",
       "      <td>NaN</td>\n",
       "      <td>f</td>\n",
       "      <td>3</td>\n",
       "      <td>0</td>\n",
       "      <td>3</td>\n",
       "      <td>0</td>\n",
       "      <td>NaN</td>\n",
       "    </tr>\n",
       "    <tr>\n",
       "      <th>36871</th>\n",
       "      <td>49069387</td>\n",
       "      <td>https://www.airbnb.com/rooms/49069387</td>\n",
       "      <td>BIG QUITE 1 BR CAN BE USE AS 2 BR.30 MIN TO NYC ,</td>\n",
       "      <td>NaN</td>\n",
       "      <td>NaN</td>\n",
       "      <td>2014-06-16</td>\n",
       "      <td>Bronx, New York, United States</td>\n",
       "      <td>I'm working  hard in the hospitality and Reale...</td>\n",
       "      <td>within an hour</td>\n",
       "      <td>100%</td>\n",
       "      <td>...</td>\n",
       "      <td>NaN</td>\n",
       "      <td>NaN</td>\n",
       "      <td>NaN</td>\n",
       "      <td>NaN</td>\n",
       "      <td>f</td>\n",
       "      <td>12</td>\n",
       "      <td>11</td>\n",
       "      <td>1</td>\n",
       "      <td>0</td>\n",
       "      <td>NaN</td>\n",
       "    </tr>\n",
       "    <tr>\n",
       "      <th>36873</th>\n",
       "      <td>49070478</td>\n",
       "      <td>https://www.airbnb.com/rooms/49070478</td>\n",
       "      <td>NEWLY 4 BEDROOM APARTMENT IN BEDSTUY</td>\n",
       "      <td>NaN</td>\n",
       "      <td>NaN</td>\n",
       "      <td>2020-11-17</td>\n",
       "      <td>New York, New York, United States</td>\n",
       "      <td>NaN</td>\n",
       "      <td>within a few hours</td>\n",
       "      <td>87%</td>\n",
       "      <td>...</td>\n",
       "      <td>NaN</td>\n",
       "      <td>NaN</td>\n",
       "      <td>NaN</td>\n",
       "      <td>NaN</td>\n",
       "      <td>f</td>\n",
       "      <td>28</td>\n",
       "      <td>11</td>\n",
       "      <td>17</td>\n",
       "      <td>0</td>\n",
       "      <td>NaN</td>\n",
       "    </tr>\n",
       "    <tr>\n",
       "      <th>36887</th>\n",
       "      <td>49078228</td>\n",
       "      <td>https://www.airbnb.com/rooms/49078228</td>\n",
       "      <td>Cozy 3 bedroom Apartment in Manhattan</td>\n",
       "      <td>NaN</td>\n",
       "      <td>NaN</td>\n",
       "      <td>2020-08-19</td>\n",
       "      <td>Ningbo, Zhejiang, China</td>\n",
       "      <td>Hi I’m from New York City and love to travel a...</td>\n",
       "      <td>NaN</td>\n",
       "      <td>NaN</td>\n",
       "      <td>...</td>\n",
       "      <td>NaN</td>\n",
       "      <td>NaN</td>\n",
       "      <td>NaN</td>\n",
       "      <td>NaN</td>\n",
       "      <td>t</td>\n",
       "      <td>1</td>\n",
       "      <td>1</td>\n",
       "      <td>0</td>\n",
       "      <td>0</td>\n",
       "      <td>NaN</td>\n",
       "    </tr>\n",
       "  </tbody>\n",
       "</table>\n",
       "<p>1265 rows × 47 columns</p>\n",
       "</div>"
      ],
      "text/plain": [
       "             id                            listing_url  \\\n",
       "1747    1550558   https://www.airbnb.com/rooms/1550558   \n",
       "2281    2237708   https://www.airbnb.com/rooms/2237708   \n",
       "2466    2478933   https://www.airbnb.com/rooms/2478933   \n",
       "2533    2592533   https://www.airbnb.com/rooms/2592533   \n",
       "2981    3368427   https://www.airbnb.com/rooms/3368427   \n",
       "...         ...                                    ...   \n",
       "36868  49063413  https://www.airbnb.com/rooms/49063413   \n",
       "36869  49065181  https://www.airbnb.com/rooms/49065181   \n",
       "36871  49069387  https://www.airbnb.com/rooms/49069387   \n",
       "36873  49070478  https://www.airbnb.com/rooms/49070478   \n",
       "36887  49078228  https://www.airbnb.com/rooms/49078228   \n",
       "\n",
       "                                                    name description  \\\n",
       "1747                                   Williamsburg Gem!         NaN   \n",
       "2281                    Spacious 1bdrm furnished wifi tv         NaN   \n",
       "2466       Ambient stylish bedroom with private bathroom         NaN   \n",
       "2533     Private room in the heart of Williamsburg- L, G         NaN   \n",
       "2981                                    Happy big family         NaN   \n",
       "...                                                  ...         ...   \n",
       "36868                       Very cute bushwick apartment         NaN   \n",
       "36869  New location/ Bushwick BK / Big Room w TV in Bsmt         NaN   \n",
       "36871  BIG QUITE 1 BR CAN BE USE AS 2 BR.30 MIN TO NYC ,         NaN   \n",
       "36873               NEWLY 4 BEDROOM APARTMENT IN BEDSTUY         NaN   \n",
       "36887              Cozy 3 bedroom Apartment in Manhattan         NaN   \n",
       "\n",
       "      neighborhood_overview  host_since                      host_location  \\\n",
       "1747                    NaN  2013-04-22  New York, New York, United States   \n",
       "2281                    NaN  2013-12-23  New York, New York, United States   \n",
       "2466                    NaN  2012-02-16  New York, New York, United States   \n",
       "2533                    NaN  2014-03-18  Brooklyn, New York, United States   \n",
       "2981                    NaN  2012-11-02                 Oslo, Oslo, Norway   \n",
       "...                     ...         ...                                ...   \n",
       "36868                   NaN  2019-08-07    Queens, New York, United States   \n",
       "36869                   NaN  2016-07-02  New York, New York, United States   \n",
       "36871                   NaN  2014-06-16     Bronx, New York, United States   \n",
       "36873                   NaN  2020-11-17  New York, New York, United States   \n",
       "36887                   NaN  2020-08-19            Ningbo, Zhejiang, China   \n",
       "\n",
       "                                              host_about  host_response_time  \\\n",
       "1747   artist and chef that loves learning about the ...  within a few hours   \n",
       "2281             I am only renting when I am out of town                 NaN   \n",
       "2466                                                 NaN        within a day   \n",
       "2533                                                 NaN        within a day   \n",
       "2981                                                 NaN                 NaN   \n",
       "...                                                  ...                 ...   \n",
       "36868                                                NaN      within an hour   \n",
       "36869  Hablo español, 我說廣東話, I'm learning English.\\nI...      within an hour   \n",
       "36871  I'm working  hard in the hospitality and Reale...      within an hour   \n",
       "36873                                                NaN  within a few hours   \n",
       "36887  Hi I’m from New York City and love to travel a...                 NaN   \n",
       "\n",
       "      host_response_rate  ... review_scores_checkin  \\\n",
       "1747                100%  ...                  10.0   \n",
       "2281                 NaN  ...                   NaN   \n",
       "2466                 75%  ...                   NaN   \n",
       "2533                 50%  ...                  10.0   \n",
       "2981                 NaN  ...                   NaN   \n",
       "...                  ...  ...                   ...   \n",
       "36868               100%  ...                   NaN   \n",
       "36869                96%  ...                   NaN   \n",
       "36871               100%  ...                   NaN   \n",
       "36873                87%  ...                   NaN   \n",
       "36887                NaN  ...                   NaN   \n",
       "\n",
       "      review_scores_communication review_scores_location review_scores_value  \\\n",
       "1747                         10.0                   10.0                10.0   \n",
       "2281                          NaN                    NaN                 NaN   \n",
       "2466                          NaN                    NaN                 NaN   \n",
       "2533                         10.0                   10.0                10.0   \n",
       "2981                          NaN                    NaN                 NaN   \n",
       "...                           ...                    ...                 ...   \n",
       "36868                         NaN                    NaN                 NaN   \n",
       "36869                         NaN                    NaN                 NaN   \n",
       "36871                         NaN                    NaN                 NaN   \n",
       "36873                         NaN                    NaN                 NaN   \n",
       "36887                         NaN                    NaN                 NaN   \n",
       "\n",
       "      instant_bookable calculated_host_listings_count  \\\n",
       "1747                 f                              1   \n",
       "2281                 f                              1   \n",
       "2466                 t                              3   \n",
       "2533                 f                              1   \n",
       "2981                 f                              1   \n",
       "...                ...                            ...   \n",
       "36868                t                              1   \n",
       "36869                f                              3   \n",
       "36871                f                             12   \n",
       "36873                f                             28   \n",
       "36887                t                              1   \n",
       "\n",
       "      calculated_host_listings_count_entire_homes  \\\n",
       "1747                                            1   \n",
       "2281                                            1   \n",
       "2466                                            1   \n",
       "2533                                            0   \n",
       "2981                                            0   \n",
       "...                                           ...   \n",
       "36868                                           0   \n",
       "36869                                           0   \n",
       "36871                                          11   \n",
       "36873                                          11   \n",
       "36887                                           1   \n",
       "\n",
       "       calculated_host_listings_count_private_rooms  \\\n",
       "1747                                              0   \n",
       "2281                                              0   \n",
       "2466                                              2   \n",
       "2533                                              1   \n",
       "2981                                              1   \n",
       "...                                             ...   \n",
       "36868                                             1   \n",
       "36869                                             3   \n",
       "36871                                             1   \n",
       "36873                                            17   \n",
       "36887                                             0   \n",
       "\n",
       "       calculated_host_listings_count_shared_rooms reviews_per_month  \n",
       "1747                                             0              0.65  \n",
       "2281                                             0               NaN  \n",
       "2466                                             0               NaN  \n",
       "2533                                             0              0.09  \n",
       "2981                                             0               NaN  \n",
       "...                                            ...               ...  \n",
       "36868                                            0               NaN  \n",
       "36869                                            0               NaN  \n",
       "36871                                            0               NaN  \n",
       "36873                                            0               NaN  \n",
       "36887                                            0               NaN  \n",
       "\n",
       "[1265 rows x 47 columns]"
      ]
     },
     "execution_count": 27,
     "metadata": {},
     "output_type": "execute_result"
    }
   ],
   "source": [
    "# Create a mask for null value in 'description'\n",
    "null_desc = airbnb_nyc[airbnb_nyc['description'].isnull()]\n",
    "null_desc"
   ]
  },
  {
   "cell_type": "code",
   "execution_count": 28,
   "id": "18db08c9-4495-4919-a4e7-68e255f126b9",
   "metadata": {},
   "outputs": [],
   "source": [
    "# Create new column counting the characters included in the description (hyp: length of description might impact user's decision-making about a listing)\n",
    "airbnb_nyc['desc_len']= airbnb_nyc['description'].str.len()"
   ]
  },
  {
   "cell_type": "code",
   "execution_count": 29,
   "id": "e0143147-65b2-4254-a5b8-ca99e2fb947b",
   "metadata": {},
   "outputs": [
    {
     "data": {
      "text/plain": [
       "1000.0    14883\n",
       "250.0       128\n",
       "500.0       108\n",
       "499.0        98\n",
       "249.0        93\n",
       "          ...  \n",
       "5.0           2\n",
       "4.0           2\n",
       "8.0           2\n",
       "16.0          1\n",
       "6.0           1\n",
       "Name: desc_len, Length: 1000, dtype: int64"
      ]
     },
     "execution_count": 29,
     "metadata": {},
     "output_type": "execute_result"
    }
   ],
   "source": [
    "airbnb_nyc['desc_len'].value_counts()"
   ]
  },
  {
   "cell_type": "code",
   "execution_count": 32,
   "id": "25dba8b8-8d68-4790-8fa6-fa7817107fe3",
   "metadata": {},
   "outputs": [
    {
     "data": {
      "text/plain": [
       "True"
      ]
     },
     "execution_count": 32,
     "metadata": {},
     "output_type": "execute_result"
    }
   ],
   "source": [
    "# Check there is no null value in the column 'desc_len'\n",
    "airbnb_nyc['desc_len'].isnull().values.any()"
   ]
  },
  {
   "cell_type": "code",
   "execution_count": 33,
   "id": "ec9b7e81-65f2-4b3b-b6a4-1488ba318f15",
   "metadata": {},
   "outputs": [
    {
     "data": {
      "text/html": [
       "<div>\n",
       "<style scoped>\n",
       "    .dataframe tbody tr th:only-of-type {\n",
       "        vertical-align: middle;\n",
       "    }\n",
       "\n",
       "    .dataframe tbody tr th {\n",
       "        vertical-align: top;\n",
       "    }\n",
       "\n",
       "    .dataframe thead th {\n",
       "        text-align: right;\n",
       "    }\n",
       "</style>\n",
       "<table border=\"1\" class=\"dataframe\">\n",
       "  <thead>\n",
       "    <tr style=\"text-align: right;\">\n",
       "      <th></th>\n",
       "      <th>id</th>\n",
       "      <th>listing_url</th>\n",
       "      <th>name</th>\n",
       "      <th>description</th>\n",
       "      <th>neighborhood_overview</th>\n",
       "      <th>host_since</th>\n",
       "      <th>host_location</th>\n",
       "      <th>host_about</th>\n",
       "      <th>host_response_time</th>\n",
       "      <th>host_response_rate</th>\n",
       "      <th>...</th>\n",
       "      <th>review_scores_location</th>\n",
       "      <th>review_scores_value</th>\n",
       "      <th>instant_bookable</th>\n",
       "      <th>calculated_host_listings_count</th>\n",
       "      <th>calculated_host_listings_count_entire_homes</th>\n",
       "      <th>calculated_host_listings_count_private_rooms</th>\n",
       "      <th>calculated_host_listings_count_shared_rooms</th>\n",
       "      <th>reviews_per_month</th>\n",
       "      <th>desc_len</th>\n",
       "      <th>name_len</th>\n",
       "    </tr>\n",
       "  </thead>\n",
       "  <tbody>\n",
       "    <tr>\n",
       "      <th>1747</th>\n",
       "      <td>1550558</td>\n",
       "      <td>https://www.airbnb.com/rooms/1550558</td>\n",
       "      <td>Williamsburg Gem!</td>\n",
       "      <td>NaN</td>\n",
       "      <td>NaN</td>\n",
       "      <td>2013-04-22</td>\n",
       "      <td>New York, New York, United States</td>\n",
       "      <td>artist and chef that loves learning about the ...</td>\n",
       "      <td>within a few hours</td>\n",
       "      <td>100%</td>\n",
       "      <td>...</td>\n",
       "      <td>10.0</td>\n",
       "      <td>10.0</td>\n",
       "      <td>f</td>\n",
       "      <td>1</td>\n",
       "      <td>1</td>\n",
       "      <td>0</td>\n",
       "      <td>0</td>\n",
       "      <td>0.65</td>\n",
       "      <td>NaN</td>\n",
       "      <td>17</td>\n",
       "    </tr>\n",
       "    <tr>\n",
       "      <th>2281</th>\n",
       "      <td>2237708</td>\n",
       "      <td>https://www.airbnb.com/rooms/2237708</td>\n",
       "      <td>Spacious 1bdrm furnished wifi tv</td>\n",
       "      <td>NaN</td>\n",
       "      <td>NaN</td>\n",
       "      <td>2013-12-23</td>\n",
       "      <td>New York, New York, United States</td>\n",
       "      <td>I am only renting when I am out of town</td>\n",
       "      <td>NaN</td>\n",
       "      <td>NaN</td>\n",
       "      <td>...</td>\n",
       "      <td>NaN</td>\n",
       "      <td>NaN</td>\n",
       "      <td>f</td>\n",
       "      <td>1</td>\n",
       "      <td>1</td>\n",
       "      <td>0</td>\n",
       "      <td>0</td>\n",
       "      <td>NaN</td>\n",
       "      <td>NaN</td>\n",
       "      <td>32</td>\n",
       "    </tr>\n",
       "    <tr>\n",
       "      <th>2466</th>\n",
       "      <td>2478933</td>\n",
       "      <td>https://www.airbnb.com/rooms/2478933</td>\n",
       "      <td>Ambient stylish bedroom with private bathroom</td>\n",
       "      <td>NaN</td>\n",
       "      <td>NaN</td>\n",
       "      <td>2012-02-16</td>\n",
       "      <td>New York, New York, United States</td>\n",
       "      <td>NaN</td>\n",
       "      <td>within a day</td>\n",
       "      <td>75%</td>\n",
       "      <td>...</td>\n",
       "      <td>NaN</td>\n",
       "      <td>NaN</td>\n",
       "      <td>t</td>\n",
       "      <td>3</td>\n",
       "      <td>1</td>\n",
       "      <td>2</td>\n",
       "      <td>0</td>\n",
       "      <td>NaN</td>\n",
       "      <td>NaN</td>\n",
       "      <td>45</td>\n",
       "    </tr>\n",
       "    <tr>\n",
       "      <th>2533</th>\n",
       "      <td>2592533</td>\n",
       "      <td>https://www.airbnb.com/rooms/2592533</td>\n",
       "      <td>Private room in the heart of Williamsburg- L, G</td>\n",
       "      <td>NaN</td>\n",
       "      <td>NaN</td>\n",
       "      <td>2014-03-18</td>\n",
       "      <td>Brooklyn, New York, United States</td>\n",
       "      <td>NaN</td>\n",
       "      <td>within a day</td>\n",
       "      <td>50%</td>\n",
       "      <td>...</td>\n",
       "      <td>10.0</td>\n",
       "      <td>10.0</td>\n",
       "      <td>f</td>\n",
       "      <td>1</td>\n",
       "      <td>0</td>\n",
       "      <td>1</td>\n",
       "      <td>0</td>\n",
       "      <td>0.09</td>\n",
       "      <td>NaN</td>\n",
       "      <td>47</td>\n",
       "    </tr>\n",
       "    <tr>\n",
       "      <th>2981</th>\n",
       "      <td>3368427</td>\n",
       "      <td>https://www.airbnb.com/rooms/3368427</td>\n",
       "      <td>Happy big family</td>\n",
       "      <td>NaN</td>\n",
       "      <td>NaN</td>\n",
       "      <td>2012-11-02</td>\n",
       "      <td>Oslo, Oslo, Norway</td>\n",
       "      <td>NaN</td>\n",
       "      <td>NaN</td>\n",
       "      <td>NaN</td>\n",
       "      <td>...</td>\n",
       "      <td>NaN</td>\n",
       "      <td>NaN</td>\n",
       "      <td>f</td>\n",
       "      <td>1</td>\n",
       "      <td>0</td>\n",
       "      <td>1</td>\n",
       "      <td>0</td>\n",
       "      <td>NaN</td>\n",
       "      <td>NaN</td>\n",
       "      <td>16</td>\n",
       "    </tr>\n",
       "    <tr>\n",
       "      <th>...</th>\n",
       "      <td>...</td>\n",
       "      <td>...</td>\n",
       "      <td>...</td>\n",
       "      <td>...</td>\n",
       "      <td>...</td>\n",
       "      <td>...</td>\n",
       "      <td>...</td>\n",
       "      <td>...</td>\n",
       "      <td>...</td>\n",
       "      <td>...</td>\n",
       "      <td>...</td>\n",
       "      <td>...</td>\n",
       "      <td>...</td>\n",
       "      <td>...</td>\n",
       "      <td>...</td>\n",
       "      <td>...</td>\n",
       "      <td>...</td>\n",
       "      <td>...</td>\n",
       "      <td>...</td>\n",
       "      <td>...</td>\n",
       "      <td>...</td>\n",
       "    </tr>\n",
       "    <tr>\n",
       "      <th>36868</th>\n",
       "      <td>49063413</td>\n",
       "      <td>https://www.airbnb.com/rooms/49063413</td>\n",
       "      <td>Very cute bushwick apartment</td>\n",
       "      <td>NaN</td>\n",
       "      <td>NaN</td>\n",
       "      <td>2019-08-07</td>\n",
       "      <td>Queens, New York, United States</td>\n",
       "      <td>NaN</td>\n",
       "      <td>within an hour</td>\n",
       "      <td>100%</td>\n",
       "      <td>...</td>\n",
       "      <td>NaN</td>\n",
       "      <td>NaN</td>\n",
       "      <td>t</td>\n",
       "      <td>1</td>\n",
       "      <td>0</td>\n",
       "      <td>1</td>\n",
       "      <td>0</td>\n",
       "      <td>NaN</td>\n",
       "      <td>NaN</td>\n",
       "      <td>28</td>\n",
       "    </tr>\n",
       "    <tr>\n",
       "      <th>36869</th>\n",
       "      <td>49065181</td>\n",
       "      <td>https://www.airbnb.com/rooms/49065181</td>\n",
       "      <td>New location/ Bushwick BK / Big Room w TV in Bsmt</td>\n",
       "      <td>NaN</td>\n",
       "      <td>NaN</td>\n",
       "      <td>2016-07-02</td>\n",
       "      <td>New York, New York, United States</td>\n",
       "      <td>Hablo español, 我說廣東話, I'm learning English.\\nI...</td>\n",
       "      <td>within an hour</td>\n",
       "      <td>96%</td>\n",
       "      <td>...</td>\n",
       "      <td>NaN</td>\n",
       "      <td>NaN</td>\n",
       "      <td>f</td>\n",
       "      <td>3</td>\n",
       "      <td>0</td>\n",
       "      <td>3</td>\n",
       "      <td>0</td>\n",
       "      <td>NaN</td>\n",
       "      <td>NaN</td>\n",
       "      <td>49</td>\n",
       "    </tr>\n",
       "    <tr>\n",
       "      <th>36871</th>\n",
       "      <td>49069387</td>\n",
       "      <td>https://www.airbnb.com/rooms/49069387</td>\n",
       "      <td>BIG QUITE 1 BR CAN BE USE AS 2 BR.30 MIN TO NYC ,</td>\n",
       "      <td>NaN</td>\n",
       "      <td>NaN</td>\n",
       "      <td>2014-06-16</td>\n",
       "      <td>Bronx, New York, United States</td>\n",
       "      <td>I'm working  hard in the hospitality and Reale...</td>\n",
       "      <td>within an hour</td>\n",
       "      <td>100%</td>\n",
       "      <td>...</td>\n",
       "      <td>NaN</td>\n",
       "      <td>NaN</td>\n",
       "      <td>f</td>\n",
       "      <td>12</td>\n",
       "      <td>11</td>\n",
       "      <td>1</td>\n",
       "      <td>0</td>\n",
       "      <td>NaN</td>\n",
       "      <td>NaN</td>\n",
       "      <td>49</td>\n",
       "    </tr>\n",
       "    <tr>\n",
       "      <th>36873</th>\n",
       "      <td>49070478</td>\n",
       "      <td>https://www.airbnb.com/rooms/49070478</td>\n",
       "      <td>NEWLY 4 BEDROOM APARTMENT IN BEDSTUY</td>\n",
       "      <td>NaN</td>\n",
       "      <td>NaN</td>\n",
       "      <td>2020-11-17</td>\n",
       "      <td>New York, New York, United States</td>\n",
       "      <td>NaN</td>\n",
       "      <td>within a few hours</td>\n",
       "      <td>87%</td>\n",
       "      <td>...</td>\n",
       "      <td>NaN</td>\n",
       "      <td>NaN</td>\n",
       "      <td>f</td>\n",
       "      <td>28</td>\n",
       "      <td>11</td>\n",
       "      <td>17</td>\n",
       "      <td>0</td>\n",
       "      <td>NaN</td>\n",
       "      <td>NaN</td>\n",
       "      <td>36</td>\n",
       "    </tr>\n",
       "    <tr>\n",
       "      <th>36887</th>\n",
       "      <td>49078228</td>\n",
       "      <td>https://www.airbnb.com/rooms/49078228</td>\n",
       "      <td>Cozy 3 bedroom Apartment in Manhattan</td>\n",
       "      <td>NaN</td>\n",
       "      <td>NaN</td>\n",
       "      <td>2020-08-19</td>\n",
       "      <td>Ningbo, Zhejiang, China</td>\n",
       "      <td>Hi I’m from New York City and love to travel a...</td>\n",
       "      <td>NaN</td>\n",
       "      <td>NaN</td>\n",
       "      <td>...</td>\n",
       "      <td>NaN</td>\n",
       "      <td>NaN</td>\n",
       "      <td>t</td>\n",
       "      <td>1</td>\n",
       "      <td>1</td>\n",
       "      <td>0</td>\n",
       "      <td>0</td>\n",
       "      <td>NaN</td>\n",
       "      <td>NaN</td>\n",
       "      <td>37</td>\n",
       "    </tr>\n",
       "  </tbody>\n",
       "</table>\n",
       "<p>1265 rows × 49 columns</p>\n",
       "</div>"
      ],
      "text/plain": [
       "             id                            listing_url  \\\n",
       "1747    1550558   https://www.airbnb.com/rooms/1550558   \n",
       "2281    2237708   https://www.airbnb.com/rooms/2237708   \n",
       "2466    2478933   https://www.airbnb.com/rooms/2478933   \n",
       "2533    2592533   https://www.airbnb.com/rooms/2592533   \n",
       "2981    3368427   https://www.airbnb.com/rooms/3368427   \n",
       "...         ...                                    ...   \n",
       "36868  49063413  https://www.airbnb.com/rooms/49063413   \n",
       "36869  49065181  https://www.airbnb.com/rooms/49065181   \n",
       "36871  49069387  https://www.airbnb.com/rooms/49069387   \n",
       "36873  49070478  https://www.airbnb.com/rooms/49070478   \n",
       "36887  49078228  https://www.airbnb.com/rooms/49078228   \n",
       "\n",
       "                                                    name description  \\\n",
       "1747                                   Williamsburg Gem!         NaN   \n",
       "2281                    Spacious 1bdrm furnished wifi tv         NaN   \n",
       "2466       Ambient stylish bedroom with private bathroom         NaN   \n",
       "2533     Private room in the heart of Williamsburg- L, G         NaN   \n",
       "2981                                    Happy big family         NaN   \n",
       "...                                                  ...         ...   \n",
       "36868                       Very cute bushwick apartment         NaN   \n",
       "36869  New location/ Bushwick BK / Big Room w TV in Bsmt         NaN   \n",
       "36871  BIG QUITE 1 BR CAN BE USE AS 2 BR.30 MIN TO NYC ,         NaN   \n",
       "36873               NEWLY 4 BEDROOM APARTMENT IN BEDSTUY         NaN   \n",
       "36887              Cozy 3 bedroom Apartment in Manhattan         NaN   \n",
       "\n",
       "      neighborhood_overview  host_since                      host_location  \\\n",
       "1747                    NaN  2013-04-22  New York, New York, United States   \n",
       "2281                    NaN  2013-12-23  New York, New York, United States   \n",
       "2466                    NaN  2012-02-16  New York, New York, United States   \n",
       "2533                    NaN  2014-03-18  Brooklyn, New York, United States   \n",
       "2981                    NaN  2012-11-02                 Oslo, Oslo, Norway   \n",
       "...                     ...         ...                                ...   \n",
       "36868                   NaN  2019-08-07    Queens, New York, United States   \n",
       "36869                   NaN  2016-07-02  New York, New York, United States   \n",
       "36871                   NaN  2014-06-16     Bronx, New York, United States   \n",
       "36873                   NaN  2020-11-17  New York, New York, United States   \n",
       "36887                   NaN  2020-08-19            Ningbo, Zhejiang, China   \n",
       "\n",
       "                                              host_about  host_response_time  \\\n",
       "1747   artist and chef that loves learning about the ...  within a few hours   \n",
       "2281             I am only renting when I am out of town                 NaN   \n",
       "2466                                                 NaN        within a day   \n",
       "2533                                                 NaN        within a day   \n",
       "2981                                                 NaN                 NaN   \n",
       "...                                                  ...                 ...   \n",
       "36868                                                NaN      within an hour   \n",
       "36869  Hablo español, 我說廣東話, I'm learning English.\\nI...      within an hour   \n",
       "36871  I'm working  hard in the hospitality and Reale...      within an hour   \n",
       "36873                                                NaN  within a few hours   \n",
       "36887  Hi I’m from New York City and love to travel a...                 NaN   \n",
       "\n",
       "      host_response_rate  ... review_scores_location review_scores_value  \\\n",
       "1747                100%  ...                   10.0                10.0   \n",
       "2281                 NaN  ...                    NaN                 NaN   \n",
       "2466                 75%  ...                    NaN                 NaN   \n",
       "2533                 50%  ...                   10.0                10.0   \n",
       "2981                 NaN  ...                    NaN                 NaN   \n",
       "...                  ...  ...                    ...                 ...   \n",
       "36868               100%  ...                    NaN                 NaN   \n",
       "36869                96%  ...                    NaN                 NaN   \n",
       "36871               100%  ...                    NaN                 NaN   \n",
       "36873                87%  ...                    NaN                 NaN   \n",
       "36887                NaN  ...                    NaN                 NaN   \n",
       "\n",
       "      instant_bookable calculated_host_listings_count  \\\n",
       "1747                 f                              1   \n",
       "2281                 f                              1   \n",
       "2466                 t                              3   \n",
       "2533                 f                              1   \n",
       "2981                 f                              1   \n",
       "...                ...                            ...   \n",
       "36868                t                              1   \n",
       "36869                f                              3   \n",
       "36871                f                             12   \n",
       "36873                f                             28   \n",
       "36887                t                              1   \n",
       "\n",
       "      calculated_host_listings_count_entire_homes  \\\n",
       "1747                                            1   \n",
       "2281                                            1   \n",
       "2466                                            1   \n",
       "2533                                            0   \n",
       "2981                                            0   \n",
       "...                                           ...   \n",
       "36868                                           0   \n",
       "36869                                           0   \n",
       "36871                                          11   \n",
       "36873                                          11   \n",
       "36887                                           1   \n",
       "\n",
       "      calculated_host_listings_count_private_rooms  \\\n",
       "1747                                             0   \n",
       "2281                                             0   \n",
       "2466                                             2   \n",
       "2533                                             1   \n",
       "2981                                             1   \n",
       "...                                            ...   \n",
       "36868                                            1   \n",
       "36869                                            3   \n",
       "36871                                            1   \n",
       "36873                                           17   \n",
       "36887                                            0   \n",
       "\n",
       "      calculated_host_listings_count_shared_rooms  reviews_per_month  \\\n",
       "1747                                            0               0.65   \n",
       "2281                                            0                NaN   \n",
       "2466                                            0                NaN   \n",
       "2533                                            0               0.09   \n",
       "2981                                            0                NaN   \n",
       "...                                           ...                ...   \n",
       "36868                                           0                NaN   \n",
       "36869                                           0                NaN   \n",
       "36871                                           0                NaN   \n",
       "36873                                           0                NaN   \n",
       "36887                                           0                NaN   \n",
       "\n",
       "       desc_len name_len  \n",
       "1747        NaN       17  \n",
       "2281        NaN       32  \n",
       "2466        NaN       45  \n",
       "2533        NaN       47  \n",
       "2981        NaN       16  \n",
       "...         ...      ...  \n",
       "36868       NaN       28  \n",
       "36869       NaN       49  \n",
       "36871       NaN       49  \n",
       "36873       NaN       36  \n",
       "36887       NaN       37  \n",
       "\n",
       "[1265 rows x 49 columns]"
      ]
     },
     "execution_count": 33,
     "metadata": {},
     "output_type": "execute_result"
    }
   ],
   "source": [
    "# Create a mask for null value in 'desc_len'\n",
    "null_desc_len = airbnb_nyc[airbnb_nyc['desc_len'].isnull()]\n",
    "null_desc_len"
   ]
  },
  {
   "cell_type": "code",
   "execution_count": 34,
   "id": "50d49fb7-a4d6-4bab-8bf5-ce4969cf94db",
   "metadata": {},
   "outputs": [],
   "source": [
    "# Replace NaN with 0 because those are listings with no description\n",
    "airbnb_nyc['desc_len'] = airbnb_nyc['desc_len'].fillna(0)"
   ]
  },
  {
   "cell_type": "code",
   "execution_count": 37,
   "id": "5e04b7aa-db2c-4120-891b-b36dd5ddb168",
   "metadata": {},
   "outputs": [
    {
     "data": {
      "text/html": [
       "<div>\n",
       "<style scoped>\n",
       "    .dataframe tbody tr th:only-of-type {\n",
       "        vertical-align: middle;\n",
       "    }\n",
       "\n",
       "    .dataframe tbody tr th {\n",
       "        vertical-align: top;\n",
       "    }\n",
       "\n",
       "    .dataframe thead th {\n",
       "        text-align: right;\n",
       "    }\n",
       "</style>\n",
       "<table border=\"1\" class=\"dataframe\">\n",
       "  <thead>\n",
       "    <tr style=\"text-align: right;\">\n",
       "      <th></th>\n",
       "      <th>description</th>\n",
       "      <th>desc_len</th>\n",
       "    </tr>\n",
       "  </thead>\n",
       "  <tbody>\n",
       "    <tr>\n",
       "      <th>0</th>\n",
       "      <td>Beautiful, spacious skylit studio in the heart...</td>\n",
       "      <td>1000.0</td>\n",
       "    </tr>\n",
       "    <tr>\n",
       "      <th>1</th>\n",
       "      <td>Enjoy 500 s.f. top floor in 1899 brownstone, w...</td>\n",
       "      <td>1000.0</td>\n",
       "    </tr>\n",
       "    <tr>\n",
       "      <th>2</th>\n",
       "      <td>&lt;b&gt;The space&lt;/b&gt;&lt;br /&gt;HELLO EVERYONE AND THANK...</td>\n",
       "      <td>1000.0</td>\n",
       "    </tr>\n",
       "    <tr>\n",
       "      <th>3</th>\n",
       "      <td>We welcome you to stay in our lovely 2 br dupl...</td>\n",
       "      <td>1000.0</td>\n",
       "    </tr>\n",
       "    <tr>\n",
       "      <th>4</th>\n",
       "      <td>Please don’t expect the luxury here just a bas...</td>\n",
       "      <td>1000.0</td>\n",
       "    </tr>\n",
       "    <tr>\n",
       "      <th>...</th>\n",
       "      <td>...</td>\n",
       "      <td>...</td>\n",
       "    </tr>\n",
       "    <tr>\n",
       "      <th>36900</th>\n",
       "      <td>SharedEasy is the only community-oriented Coli...</td>\n",
       "      <td>1000.0</td>\n",
       "    </tr>\n",
       "    <tr>\n",
       "      <th>36901</th>\n",
       "      <td>2 bedroom apartment in Upper East Side.&lt;br /&gt;&lt;...</td>\n",
       "      <td>1000.0</td>\n",
       "    </tr>\n",
       "    <tr>\n",
       "      <th>36902</th>\n",
       "      <td>Beautifully recently renovated and furnished J...</td>\n",
       "      <td>444.0</td>\n",
       "    </tr>\n",
       "    <tr>\n",
       "      <th>36903</th>\n",
       "      <td>1 bedroom apartment in Hell's Kitchen.&lt;br /&gt;Mo...</td>\n",
       "      <td>1000.0</td>\n",
       "    </tr>\n",
       "    <tr>\n",
       "      <th>36904</th>\n",
       "      <td>You’ll be right in the heart of everything at ...</td>\n",
       "      <td>607.0</td>\n",
       "    </tr>\n",
       "  </tbody>\n",
       "</table>\n",
       "<p>36892 rows × 2 columns</p>\n",
       "</div>"
      ],
      "text/plain": [
       "                                             description  desc_len\n",
       "0      Beautiful, spacious skylit studio in the heart...    1000.0\n",
       "1      Enjoy 500 s.f. top floor in 1899 brownstone, w...    1000.0\n",
       "2      <b>The space</b><br />HELLO EVERYONE AND THANK...    1000.0\n",
       "3      We welcome you to stay in our lovely 2 br dupl...    1000.0\n",
       "4      Please don’t expect the luxury here just a bas...    1000.0\n",
       "...                                                  ...       ...\n",
       "36900  SharedEasy is the only community-oriented Coli...    1000.0\n",
       "36901  2 bedroom apartment in Upper East Side.<br /><...    1000.0\n",
       "36902  Beautifully recently renovated and furnished J...     444.0\n",
       "36903  1 bedroom apartment in Hell's Kitchen.<br />Mo...    1000.0\n",
       "36904  You’ll be right in the heart of everything at ...     607.0\n",
       "\n",
       "[36892 rows x 2 columns]"
      ]
     },
     "execution_count": 37,
     "metadata": {},
     "output_type": "execute_result"
    }
   ],
   "source": [
    "airbnb_nyc[['description','desc_len']]"
   ]
  },
  {
   "cell_type": "code",
   "execution_count": 39,
   "id": "04126b37-7fff-4a0b-b3b6-b6d6b6e88d84",
   "metadata": {},
   "outputs": [
    {
     "data": {
      "text/plain": [
       "0    1000\n",
       "Name: description, dtype: int64"
      ]
     },
     "execution_count": 39,
     "metadata": {},
     "output_type": "execute_result"
    }
   ],
   "source": [
    "# Double check the length count formula worked correctly\n",
    "airbnb_nyc['description'].head(1).str.len()"
   ]
  },
  {
   "cell_type": "markdown",
   "id": "604f1914-c519-42d8-a8f5-a8f69b664d6b",
   "metadata": {},
   "source": [
    "## Neighbourhood Overview"
   ]
  },
  {
   "cell_type": "code",
   "execution_count": 41,
   "id": "7af358bd-092d-47b6-969d-3879dbd17564",
   "metadata": {},
   "outputs": [
    {
     "data": {
      "text/plain": [
       "True"
      ]
     },
     "execution_count": 41,
     "metadata": {},
     "output_type": "execute_result"
    }
   ],
   "source": [
    "# Check there is no null value in the column 'neighbourhood_overview'\n",
    "airbnb_nyc['neighborhood_overview'].isnull().values.any()"
   ]
  },
  {
   "cell_type": "code",
   "execution_count": 43,
   "id": "c1547b20-64f8-4591-9b8b-ebff6c5f6941",
   "metadata": {},
   "outputs": [
    {
     "data": {
      "text/plain": [
       "False    23084\n",
       "True     13808\n",
       "Name: neighborhood_overview, dtype: int64"
      ]
     },
     "execution_count": 43,
     "metadata": {},
     "output_type": "execute_result"
    }
   ],
   "source": [
    "# Check how many values are null\n",
    "airbnb_nyc['neighborhood_overview'].isnull().value_counts()"
   ]
  },
  {
   "cell_type": "code",
   "execution_count": 44,
   "id": "0ac6f19a-cdd4-4ab2-bc01-df8dfb12ca06",
   "metadata": {},
   "outputs": [],
   "source": [
    "# Create new column counting the characters included in the neighborhood_overview (hyp: length of description might impact user's decision-making about a listing)\n",
    "airbnb_nyc['neighborhood_len']= airbnb_nyc['neighborhood_overview'].str.len()"
   ]
  },
  {
   "cell_type": "code",
   "execution_count": 45,
   "id": "a9b83408-2d53-41c3-8273-c27202cbdcb3",
   "metadata": {},
   "outputs": [],
   "source": [
    "# Replace NaN with 0 because those are listings with no neighborhood_overview\n",
    "airbnb_nyc['neighborhood_len'] = airbnb_nyc['neighborhood_len'].fillna(0)"
   ]
  },
  {
   "cell_type": "code",
   "execution_count": 46,
   "id": "97fb871a-fbe9-48b9-a026-d9f83eddd81e",
   "metadata": {},
   "outputs": [
    {
     "data": {
      "text/plain": [
       "False"
      ]
     },
     "execution_count": 46,
     "metadata": {},
     "output_type": "execute_result"
    }
   ],
   "source": [
    "# Check there is no null value in the column 'neighbourhood_len'\n",
    "airbnb_nyc['neighborhood_len'].isnull().values.any()"
   ]
  },
  {
   "cell_type": "markdown",
   "id": "04beddbc-8308-44b0-8f32-2c17df287c67",
   "metadata": {},
   "source": [
    "## Host Since"
   ]
  },
  {
   "cell_type": "code",
   "execution_count": 47,
   "id": "40db1956-2cb3-4d1c-8dcc-12be70536eb9",
   "metadata": {},
   "outputs": [
    {
     "data": {
      "text/plain": [
       "True"
      ]
     },
     "execution_count": 47,
     "metadata": {},
     "output_type": "execute_result"
    }
   ],
   "source": [
    "# Check there is no null value in the column 'host_since'\n",
    "airbnb_nyc['host_since'].isnull().values.any()"
   ]
  },
  {
   "cell_type": "code",
   "execution_count": 57,
   "id": "d58a74e2-81bb-4c63-b889-6551ceafe5ca",
   "metadata": {},
   "outputs": [
    {
     "data": {
      "text/plain": [
       "False    35625\n",
       "True      1267\n",
       "Name: host_since, dtype: int64"
      ]
     },
     "execution_count": 57,
     "metadata": {},
     "output_type": "execute_result"
    }
   ],
   "source": [
    "# Check how many values are null\n",
    "airbnb_nyc['host_since'].isnull().value_counts()"
   ]
  },
  {
   "cell_type": "code",
   "execution_count": 71,
   "id": "1b4e9603-37af-4476-af0f-22ef1b69091f",
   "metadata": {},
   "outputs": [],
   "source": [
    "# Redefine our df as including only rows with a non NA 'host_since'\n",
    "airbnb_nyc = airbnb_nyc[airbnb_nyc['host_since'].notna()]"
   ]
  },
  {
   "cell_type": "code",
   "execution_count": 72,
   "id": "34c220e3-1569-4406-8894-bd28adaeb398",
   "metadata": {},
   "outputs": [
    {
     "data": {
      "text/plain": [
       "(35625, 50)"
      ]
     },
     "execution_count": 72,
     "metadata": {},
     "output_type": "execute_result"
    }
   ],
   "source": [
    "airbnb_nyc.shape"
   ]
  },
  {
   "cell_type": "code",
   "execution_count": 73,
   "id": "ad6918a7-c2e1-4538-9172-14b0aec83fc5",
   "metadata": {},
   "outputs": [
    {
     "data": {
      "text/plain": [
       "0"
      ]
     },
     "execution_count": 73,
     "metadata": {},
     "output_type": "execute_result"
    }
   ],
   "source": [
    "# Check how many values are null\n",
    "airbnb_nyc['host_since'].isnull().sum()"
   ]
  },
  {
   "cell_type": "markdown",
   "id": "48cb0aeb-59b1-4369-9d71-485d01c0dd80",
   "metadata": {},
   "source": [
    "## Host Location"
   ]
  },
  {
   "cell_type": "code",
   "execution_count": 74,
   "id": "efd5429d-c44a-47f5-b48c-fa94fe003b1f",
   "metadata": {},
   "outputs": [
    {
     "data": {
      "text/plain": [
       "88"
      ]
     },
     "execution_count": 74,
     "metadata": {},
     "output_type": "execute_result"
    }
   ],
   "source": [
    "# Check how many values are null\n",
    "airbnb_nyc['host_location'].isnull().sum()"
   ]
  },
  {
   "cell_type": "code",
   "execution_count": 113,
   "id": "a4a95934-a236-4bb6-995a-ef58867b4fb4",
   "metadata": {},
   "outputs": [
    {
     "data": {
      "text/plain": [
       "(35625, 52)"
      ]
     },
     "execution_count": 113,
     "metadata": {},
     "output_type": "execute_result"
    }
   ],
   "source": [
    "airbnb_nyc.shape"
   ]
  },
  {
   "cell_type": "code",
   "execution_count": 114,
   "id": "81b1e143-ef85-4df3-80d9-10f4ccc20a9a",
   "metadata": {},
   "outputs": [],
   "source": [
    "# Drop NA\n",
    "airbnb_nyc = airbnb_nyc[airbnb_nyc['host_location'].notna()]"
   ]
  },
  {
   "cell_type": "code",
   "execution_count": 115,
   "id": "0397f0cd-e561-4a1b-952a-951be2f23a70",
   "metadata": {},
   "outputs": [
    {
     "data": {
      "text/plain": [
       "(35537, 52)"
      ]
     },
     "execution_count": 115,
     "metadata": {},
     "output_type": "execute_result"
    }
   ],
   "source": [
    "airbnb_nyc.shape"
   ]
  },
  {
   "cell_type": "code",
   "execution_count": 116,
   "id": "4f3b28a9-1b8f-4479-b7c7-42ee1d0b8335",
   "metadata": {},
   "outputs": [
    {
     "data": {
      "text/plain": [
       "New York, New York, United States            22091\n",
       "US                                            4066\n",
       "Brooklyn, New York, United States             2798\n",
       "Queens, New York, United States               1411\n",
       "Los Angeles, California, United States         256\n",
       "                                             ...  \n",
       "Springfield, Massachusetts, United States        1\n",
       "Nancy, Lorraine, France                          1\n",
       "Reykjavík, Iceland                               1\n",
       "Napanoch, New York, United States                1\n",
       "North Potomac, Maryland, United States           1\n",
       "Name: host_location, Length: 1393, dtype: int64"
      ]
     },
     "execution_count": 116,
     "metadata": {},
     "output_type": "execute_result"
    }
   ],
   "source": [
    "airbnb_nyc['host_location'].value_counts()"
   ]
  },
  {
   "cell_type": "code",
   "execution_count": 118,
   "id": "3cdbf1ce-dcf0-4187-9ba1-29b3805f2a6a",
   "metadata": {},
   "outputs": [],
   "source": [
    "# Define function to strip the host's country from host_location\n",
    "\n",
    "def get_host_country(location):\n",
    "    list_loc = location.split(',')\n",
    "    host_country = list_loc[-1].strip()\n",
    "    return host_country"
   ]
  },
  {
   "cell_type": "code",
   "execution_count": 119,
   "id": "9d023c32-977d-49cb-9e6b-a9fd00437100",
   "metadata": {},
   "outputs": [],
   "source": [
    "# Apply function to the df\n",
    "airbnb_nyc['host_country'] = airbnb_nyc['host_location'].apply(get_host_country)"
   ]
  },
  {
   "cell_type": "code",
   "execution_count": 132,
   "id": "a093b48c-cfae-4e8b-8b96-df0b0aeef5f2",
   "metadata": {},
   "outputs": [
    {
     "data": {
      "text/plain": [
       "United States               29730\n",
       "US                           4068\n",
       "France                        158\n",
       "United Kingdom                120\n",
       "JP                             99\n",
       "                            ...  \n",
       "househacking.co                 1\n",
       "CR                              1\n",
       "AL                              1\n",
       "Singapore/ New York City        1\n",
       "Bulgaria                        1\n",
       "Name: host_country, Length: 194, dtype: int64"
      ]
     },
     "execution_count": 132,
     "metadata": {},
     "output_type": "execute_result"
    }
   ],
   "source": [
    "airbnb_nyc['host_country'].value_counts()"
   ]
  },
  {
   "cell_type": "code",
   "execution_count": 129,
   "id": "4c0577da-c3ec-4e5c-ab50-1090c117fb16",
   "metadata": {},
   "outputs": [],
   "source": [
    "# Define function to strip the host's state from host_location\n",
    "\n",
    "def get_host_state(location):\n",
    "    list_loc = location.split(',')\n",
    "    if len(list_loc) >= 2:\n",
    "        host_state = list_loc[1].strip()\n",
    "    else:\n",
    "        host_state = list_loc[0].strip()\n",
    "    return host_state"
   ]
  },
  {
   "cell_type": "code",
   "execution_count": 130,
   "id": "61c2705d-fcc1-43cd-9d33-fd1f7e8ca57d",
   "metadata": {},
   "outputs": [],
   "source": [
    "# Apply function to the df\n",
    "airbnb_nyc['host_state'] = airbnb_nyc['host_location'].apply(get_host_state)"
   ]
  },
  {
   "cell_type": "code",
   "execution_count": 131,
   "id": "a1f87812-dc1b-4228-9ff0-24ab521cb82b",
   "metadata": {
    "tags": []
   },
   "outputs": [
    {
     "data": {
      "text/plain": [
       "New York                  27174\n",
       "US                         4068\n",
       "California                  712\n",
       "New Jersey                  322\n",
       "Florida                     224\n",
       "                          ...  \n",
       "Makedonia Thraki              1\n",
       "NYC                           1\n",
       "Norway                        1\n",
       "hong kong                     1\n",
       "Saint Catherine Parish        1\n",
       "Name: host_state, Length: 420, dtype: int64"
      ]
     },
     "execution_count": 131,
     "metadata": {},
     "output_type": "execute_result"
    }
   ],
   "source": [
    "airbnb_nyc['host_state'].value_counts()"
   ]
  },
  {
   "cell_type": "markdown",
   "id": "ffc67b97-141e-45c7-b582-9980585fe418",
   "metadata": {},
   "source": [
    "## Host About"
   ]
  },
  {
   "cell_type": "code",
   "execution_count": 76,
   "id": "9ad410dc-5a2e-4ebd-96fd-4c2c3bc31c46",
   "metadata": {},
   "outputs": [
    {
     "data": {
      "text/plain": [
       "14385"
      ]
     },
     "execution_count": 76,
     "metadata": {},
     "output_type": "execute_result"
    }
   ],
   "source": [
    "# Check how many values are null\n",
    "airbnb_nyc['host_about'].isnull().sum()"
   ]
  },
  {
   "cell_type": "code",
   "execution_count": 77,
   "id": "ae430b59-e1d6-482c-99d4-ffa5761d2b99",
   "metadata": {},
   "outputs": [
    {
     "name": "stderr",
     "output_type": "stream",
     "text": [
      "<ipython-input-77-0087aa57b7c1>:2: SettingWithCopyWarning: \n",
      "A value is trying to be set on a copy of a slice from a DataFrame.\n",
      "Try using .loc[row_indexer,col_indexer] = value instead\n",
      "\n",
      "See the caveats in the documentation: https://pandas.pydata.org/pandas-docs/stable/user_guide/indexing.html#returning-a-view-versus-a-copy\n",
      "  airbnb_nyc['host_about_len']= airbnb_nyc['host_about'].str.len()\n"
     ]
    }
   ],
   "source": [
    "# Create new column counting the characters included in the description (hyp: length of host description might impact user's decision-making about a listing)\n",
    "airbnb_nyc['host_about_len'] = airbnb_nyc['host_about'].str.len()"
   ]
  },
  {
   "cell_type": "code",
   "execution_count": 82,
   "id": "6c519bcd-d58d-4185-a3c9-0abf365cf77e",
   "metadata": {},
   "outputs": [
    {
     "data": {
      "text/plain": [
       "1649.0    266\n",
       "807.0     242\n",
       "810.0     203\n",
       "45.0      166\n",
       "3776.0    166\n",
       "         ... \n",
       "1712.0      1\n",
       "946.0       1\n",
       "646.0       1\n",
       "1368.0      1\n",
       "1174.0      1\n",
       "Name: host_about_len, Length: 1216, dtype: int64"
      ]
     },
     "execution_count": 82,
     "metadata": {},
     "output_type": "execute_result"
    }
   ],
   "source": [
    "airbnb_nyc['host_about_len'].value_counts()"
   ]
  },
  {
   "cell_type": "code",
   "execution_count": 83,
   "id": "695b496a-9e37-4f96-8b2d-bb262874a853",
   "metadata": {},
   "outputs": [
    {
     "data": {
      "text/plain": [
       "14385"
      ]
     },
     "execution_count": 83,
     "metadata": {},
     "output_type": "execute_result"
    }
   ],
   "source": [
    "# Check how many values are null\n",
    "airbnb_nyc['host_about_len'].isnull().sum()"
   ]
  },
  {
   "cell_type": "code",
   "execution_count": 84,
   "id": "025aff49-d657-4192-b797-b9f4d847d12f",
   "metadata": {},
   "outputs": [],
   "source": [
    "# Replace NaN with 0 because those are listings with no description for the host\n",
    "airbnb_nyc['host_about_len'] = airbnb_nyc['host_about_len'].fillna(0)"
   ]
  },
  {
   "cell_type": "code",
   "execution_count": 85,
   "id": "db546269-36a6-4148-a474-b0a9f8851468",
   "metadata": {},
   "outputs": [
    {
     "data": {
      "text/plain": [
       "0"
      ]
     },
     "execution_count": 85,
     "metadata": {},
     "output_type": "execute_result"
    }
   ],
   "source": [
    "# Check how many values are null\n",
    "airbnb_nyc['host_about_len'].isnull().sum()"
   ]
  },
  {
   "cell_type": "markdown",
   "id": "428a634f-0a10-4131-b9c0-8c072b50a1d7",
   "metadata": {},
   "source": [
    "## Host Response Time"
   ]
  },
  {
   "cell_type": "code",
   "execution_count": 98,
   "id": "1d80b44a-2325-4eec-a473-fee553ead3e5",
   "metadata": {},
   "outputs": [
    {
     "data": {
      "text/plain": [
       "16963"
      ]
     },
     "execution_count": 98,
     "metadata": {},
     "output_type": "execute_result"
    }
   ],
   "source": [
    "# Check how many values are null\n",
    "airbnb_nyc['host_response_time'].isnull().sum()"
   ]
  },
  {
   "cell_type": "markdown",
   "id": "ce71e40b-1225-4b6f-92d7-ca6d09e17f03",
   "metadata": {},
   "source": [
    "Due to the large amount of null variables, I will disregard this feature as part of the analysis."
   ]
  },
  {
   "cell_type": "markdown",
   "id": "86e1a502-67dc-4587-b7fa-3a9a6c54f16d",
   "metadata": {},
   "source": [
    "## Host Response Rate"
   ]
  },
  {
   "cell_type": "code",
   "execution_count": 89,
   "id": "b749146e-43a6-411a-a34b-29ef42430ee0",
   "metadata": {},
   "outputs": [
    {
     "data": {
      "text/plain": [
       "16963"
      ]
     },
     "execution_count": 89,
     "metadata": {},
     "output_type": "execute_result"
    }
   ],
   "source": [
    "# Check how many values are null\n",
    "airbnb_nyc['host_response_rate'].isnull().sum()"
   ]
  },
  {
   "cell_type": "markdown",
   "id": "fd4415e0-dd16-43ba-a9cc-7f5625be9d15",
   "metadata": {},
   "source": [
    "Due to the large amount of null variables, I will disregard this feature as part of the analysis."
   ]
  },
  {
   "cell_type": "markdown",
   "id": "9ec3c03e-05ab-42b4-a1fe-6123dc11d1d3",
   "metadata": {},
   "source": [
    "## Host Acceptance Rate"
   ]
  },
  {
   "cell_type": "code",
   "execution_count": 87,
   "id": "383c119e-6218-44d1-b8f2-797b6ce56efd",
   "metadata": {},
   "outputs": [
    {
     "data": {
      "text/plain": [
       "15440"
      ]
     },
     "execution_count": 87,
     "metadata": {},
     "output_type": "execute_result"
    }
   ],
   "source": [
    "# Check how many values are null\n",
    "airbnb_nyc['host_acceptance_rate'].isnull().sum()"
   ]
  },
  {
   "cell_type": "markdown",
   "id": "5fc22490-a567-4507-bbb7-6dbefa38f814",
   "metadata": {},
   "source": [
    "Due to the large amount of null variables, I will disregard this feature as part of the analysis."
   ]
  },
  {
   "cell_type": "markdown",
   "id": "defe5362-7fbf-4e47-9543-2414100aa698",
   "metadata": {},
   "source": [
    "## Superhost"
   ]
  },
  {
   "cell_type": "code",
   "execution_count": 90,
   "id": "7d32fb87-04e1-4baa-b420-fd52fa8633f0",
   "metadata": {},
   "outputs": [
    {
     "data": {
      "text/plain": [
       "0"
      ]
     },
     "execution_count": 90,
     "metadata": {},
     "output_type": "execute_result"
    }
   ],
   "source": [
    "# Check how many values are null\n",
    "airbnb_nyc['host_is_superhost'].isnull().sum()"
   ]
  },
  {
   "cell_type": "code",
   "execution_count": 95,
   "id": "4ad9ccb0-afcc-411b-b65a-586ef5c8c07c",
   "metadata": {},
   "outputs": [
    {
     "data": {
      "text/plain": [
       "f    29289\n",
       "t     6336\n",
       "Name: host_is_superhost, dtype: int64"
      ]
     },
     "execution_count": 95,
     "metadata": {},
     "output_type": "execute_result"
    }
   ],
   "source": [
    "airbnb_nyc['host_is_superhost'].value_counts()"
   ]
  },
  {
   "cell_type": "code",
   "execution_count": 96,
   "id": "baa85694-65e9-45a0-b509-2f362fdd01fa",
   "metadata": {},
   "outputs": [],
   "source": [
    "# Substitute true with 1 and false with 0\n",
    "airbnb_nyc['host_is_superhost'].replace({'f': 0, 't': 1}, inplace=True)"
   ]
  },
  {
   "cell_type": "code",
   "execution_count": 97,
   "id": "98ca3d02-f4aa-42e2-84a1-05d52a4aaa27",
   "metadata": {},
   "outputs": [
    {
     "data": {
      "text/plain": [
       "0    29289\n",
       "1     6336\n",
       "Name: host_is_superhost, dtype: int64"
      ]
     },
     "execution_count": 97,
     "metadata": {},
     "output_type": "execute_result"
    }
   ],
   "source": [
    "airbnb_nyc['host_is_superhost'].value_counts()"
   ]
  },
  {
   "cell_type": "markdown",
   "id": "affe7717-0255-4322-a410-a66875040cfd",
   "metadata": {},
   "source": [
    "## Host verifications"
   ]
  },
  {
   "cell_type": "code",
   "execution_count": 133,
   "id": "b38b3df8-6a13-4f78-be78-95e812abf2c1",
   "metadata": {},
   "outputs": [
    {
     "data": {
      "text/plain": [
       "0"
      ]
     },
     "execution_count": 133,
     "metadata": {},
     "output_type": "execute_result"
    }
   ],
   "source": [
    "# Check how many values are null\n",
    "airbnb_nyc['host_verifications'].isnull().sum()"
   ]
  },
  {
   "cell_type": "code",
   "execution_count": 145,
   "id": "2f3e5f96-68ed-401e-a362-8468e6d61e14",
   "metadata": {},
   "outputs": [
    {
     "data": {
      "text/plain": [
       "['email', 'phone', 'reviews', 'kba']                                                                                                              2871\n",
       "['email', 'phone']                                                                                                                                2700\n",
       "['email', 'phone', 'reviews', 'jumio', 'government_id']                                                                                           2578\n",
       "['email', 'phone', 'offline_government_id', 'selfie', 'government_id', 'identity_manual']                                                         2331\n",
       "['email', 'phone', 'reviews']                                                                                                                     1597\n",
       "                                                                                                                                                  ... \n",
       "['email', 'phone', 'reviews', 'weibo', 'jumio', 'offline_government_id', 'selfie', 'government_id', 'identity_manual']                               1\n",
       "['google', 'kba']                                                                                                                                    1\n",
       "['phone', 'manual_online', 'reviews', 'manual_offline', 'jumio', 'offline_government_id', 'kba', 'selfie', 'government_id', 'identity_manual']       1\n",
       "['kba']                                                                                                                                              1\n",
       "['email', 'phone', 'facebook', 'reviews', 'sesame', 'sesame_offline']                                                                                1\n",
       "Name: host_verifications, Length: 525, dtype: int64"
      ]
     },
     "execution_count": 145,
     "metadata": {},
     "output_type": "execute_result"
    }
   ],
   "source": [
    "airbnb_nyc['host_verifications'].value_counts()"
   ]
  },
  {
   "cell_type": "code",
   "execution_count": 149,
   "id": "2320f96a-ea92-4ec0-8949-5eee53c279c3",
   "metadata": {},
   "outputs": [],
   "source": [
    "# Check all None have been eliminated\n",
    "verif_none = airbnb_nyc[airbnb_nyc['host_verifications'] == None]"
   ]
  },
  {
   "cell_type": "code",
   "execution_count": 150,
   "id": "810b091d-2c49-4537-b17a-bb46b126e807",
   "metadata": {},
   "outputs": [
    {
     "data": {
      "text/html": [
       "<div>\n",
       "<style scoped>\n",
       "    .dataframe tbody tr th:only-of-type {\n",
       "        vertical-align: middle;\n",
       "    }\n",
       "\n",
       "    .dataframe tbody tr th {\n",
       "        vertical-align: top;\n",
       "    }\n",
       "\n",
       "    .dataframe thead th {\n",
       "        text-align: right;\n",
       "    }\n",
       "</style>\n",
       "<table border=\"1\" class=\"dataframe\">\n",
       "  <thead>\n",
       "    <tr style=\"text-align: right;\">\n",
       "      <th></th>\n",
       "      <th>id</th>\n",
       "      <th>listing_url</th>\n",
       "      <th>name</th>\n",
       "      <th>description</th>\n",
       "      <th>neighborhood_overview</th>\n",
       "      <th>host_since</th>\n",
       "      <th>host_location</th>\n",
       "      <th>host_about</th>\n",
       "      <th>host_response_time</th>\n",
       "      <th>host_response_rate</th>\n",
       "      <th>...</th>\n",
       "      <th>calculated_host_listings_count_entire_homes</th>\n",
       "      <th>calculated_host_listings_count_private_rooms</th>\n",
       "      <th>calculated_host_listings_count_shared_rooms</th>\n",
       "      <th>reviews_per_month</th>\n",
       "      <th>desc_len</th>\n",
       "      <th>name_len</th>\n",
       "      <th>neighborhood_len</th>\n",
       "      <th>host_about_len</th>\n",
       "      <th>host_country</th>\n",
       "      <th>host_state</th>\n",
       "    </tr>\n",
       "  </thead>\n",
       "  <tbody>\n",
       "  </tbody>\n",
       "</table>\n",
       "<p>0 rows × 53 columns</p>\n",
       "</div>"
      ],
      "text/plain": [
       "Empty DataFrame\n",
       "Columns: [id, listing_url, name, description, neighborhood_overview, host_since, host_location, host_about, host_response_time, host_response_rate, host_acceptance_rate, host_is_superhost, host_verifications, host_has_profile_pic, host_identity_verified, neighbourhood_cleansed, neighbourhood_group_cleansed, latitude, longitude, property_type, room_type, accommodates, bathrooms_text, bedrooms, beds, amenities, price, minimum_nights, has_availability, availability_30, availability_60, availability_90, availability_365, number_of_reviews, review_scores_rating, review_scores_accuracy, review_scores_cleanliness, review_scores_checkin, review_scores_communication, review_scores_location, review_scores_value, instant_bookable, calculated_host_listings_count, calculated_host_listings_count_entire_homes, calculated_host_listings_count_private_rooms, calculated_host_listings_count_shared_rooms, reviews_per_month, desc_len, name_len, neighborhood_len, host_about_len, host_country, host_state]\n",
       "Index: []\n",
       "\n",
       "[0 rows x 53 columns]"
      ]
     },
     "execution_count": 150,
     "metadata": {},
     "output_type": "execute_result"
    }
   ],
   "source": [
    "verif_none"
   ]
  },
  {
   "cell_type": "code",
   "execution_count": 174,
   "id": "dd5f766a-6304-4f37-a57a-9ce5d04a0dfa",
   "metadata": {},
   "outputs": [],
   "source": [
    "# Define function to extract the count of host verifications\n",
    "\n",
    "def get_verif_count(verifications):\n",
    "    verif_list = verifications.strip('][').split(', ')\n",
    "    verif_count = len(verif_list)\n",
    "    return verif_count"
   ]
  },
  {
   "cell_type": "code",
   "execution_count": 175,
   "id": "4a20b126-ff5e-4c54-a164-b2d9804e6a02",
   "metadata": {},
   "outputs": [],
   "source": [
    "# Apply function to the df\n",
    "airbnb_nyc['host_verif_count'] = airbnb_nyc['host_verifications'].apply(get_verif_count)"
   ]
  },
  {
   "cell_type": "code",
   "execution_count": 176,
   "id": "9bf15caa-f1de-4268-b928-238e1c8dfb18",
   "metadata": {},
   "outputs": [
    {
     "data": {
      "text/plain": [
       "6     7280\n",
       "5     6768\n",
       "4     5569\n",
       "7     4748\n",
       "2     3021\n",
       "8     2782\n",
       "3     2710\n",
       "9     1539\n",
       "1      734\n",
       "10     327\n",
       "11      50\n",
       "12       8\n",
       "13       1\n",
       "Name: host_verif_count, dtype: int64"
      ]
     },
     "execution_count": 176,
     "metadata": {},
     "output_type": "execute_result"
    }
   ],
   "source": [
    "airbnb_nyc['host_verif_count'].value_counts()"
   ]
  },
  {
   "cell_type": "code",
   "execution_count": 179,
   "id": "8230f86e-99a8-458f-9aa9-c62ca1fe3a6b",
   "metadata": {},
   "outputs": [
    {
     "data": {
      "text/html": [
       "<div>\n",
       "<style scoped>\n",
       "    .dataframe tbody tr th:only-of-type {\n",
       "        vertical-align: middle;\n",
       "    }\n",
       "\n",
       "    .dataframe tbody tr th {\n",
       "        vertical-align: top;\n",
       "    }\n",
       "\n",
       "    .dataframe thead th {\n",
       "        text-align: right;\n",
       "    }\n",
       "</style>\n",
       "<table border=\"1\" class=\"dataframe\">\n",
       "  <thead>\n",
       "    <tr style=\"text-align: right;\">\n",
       "      <th></th>\n",
       "      <th>host_verifications</th>\n",
       "      <th>host_verif_count</th>\n",
       "    </tr>\n",
       "  </thead>\n",
       "  <tbody>\n",
       "    <tr>\n",
       "      <th>0</th>\n",
       "      <td>['email', 'phone', 'reviews', 'offline_governm...</td>\n",
       "      <td>9</td>\n",
       "    </tr>\n",
       "    <tr>\n",
       "      <th>1</th>\n",
       "      <td>['email', 'phone', 'reviews', 'offline_governm...</td>\n",
       "      <td>6</td>\n",
       "    </tr>\n",
       "    <tr>\n",
       "      <th>2</th>\n",
       "      <td>['email', 'phone', 'facebook', 'reviews', 'off...</td>\n",
       "      <td>8</td>\n",
       "    </tr>\n",
       "    <tr>\n",
       "      <th>3</th>\n",
       "      <td>['email', 'phone', 'reviews']</td>\n",
       "      <td>3</td>\n",
       "    </tr>\n",
       "    <tr>\n",
       "      <th>4</th>\n",
       "      <td>['email', 'phone', 'facebook', 'reviews']</td>\n",
       "      <td>4</td>\n",
       "    </tr>\n",
       "    <tr>\n",
       "      <th>...</th>\n",
       "      <td>...</td>\n",
       "      <td>...</td>\n",
       "    </tr>\n",
       "    <tr>\n",
       "      <th>36900</th>\n",
       "      <td>['email', 'phone', 'offline_government_id', 'g...</td>\n",
       "      <td>4</td>\n",
       "    </tr>\n",
       "    <tr>\n",
       "      <th>36901</th>\n",
       "      <td>['email', 'phone', 'jumio', 'offline_governmen...</td>\n",
       "      <td>7</td>\n",
       "    </tr>\n",
       "    <tr>\n",
       "      <th>36902</th>\n",
       "      <td>['email', 'phone', 'identity_manual']</td>\n",
       "      <td>3</td>\n",
       "    </tr>\n",
       "    <tr>\n",
       "      <th>36903</th>\n",
       "      <td>['email', 'phone', 'jumio', 'offline_governmen...</td>\n",
       "      <td>7</td>\n",
       "    </tr>\n",
       "    <tr>\n",
       "      <th>36904</th>\n",
       "      <td>['email', 'phone', 'reviews', 'offline_governm...</td>\n",
       "      <td>6</td>\n",
       "    </tr>\n",
       "  </tbody>\n",
       "</table>\n",
       "<p>35537 rows × 2 columns</p>\n",
       "</div>"
      ],
      "text/plain": [
       "                                      host_verifications  host_verif_count\n",
       "0      ['email', 'phone', 'reviews', 'offline_governm...                 9\n",
       "1      ['email', 'phone', 'reviews', 'offline_governm...                 6\n",
       "2      ['email', 'phone', 'facebook', 'reviews', 'off...                 8\n",
       "3                          ['email', 'phone', 'reviews']                 3\n",
       "4              ['email', 'phone', 'facebook', 'reviews']                 4\n",
       "...                                                  ...               ...\n",
       "36900  ['email', 'phone', 'offline_government_id', 'g...                 4\n",
       "36901  ['email', 'phone', 'jumio', 'offline_governmen...                 7\n",
       "36902              ['email', 'phone', 'identity_manual']                 3\n",
       "36903  ['email', 'phone', 'jumio', 'offline_governmen...                 7\n",
       "36904  ['email', 'phone', 'reviews', 'offline_governm...                 6\n",
       "\n",
       "[35537 rows x 2 columns]"
      ]
     },
     "execution_count": 179,
     "metadata": {},
     "output_type": "execute_result"
    }
   ],
   "source": [
    "# Check that host_verif_count and host_verifications have been mapped correctly\n",
    "airbnb_nyc.loc[:,['host_verifications','host_verif_count']]"
   ]
  },
  {
   "cell_type": "markdown",
   "id": "a450d972-70ad-49fc-ab17-736a313f19ab",
   "metadata": {},
   "source": [
    "## Host profile pic"
   ]
  },
  {
   "cell_type": "code",
   "execution_count": 180,
   "id": "8e2217e4-e7d3-487e-9d60-bc8da74ae563",
   "metadata": {},
   "outputs": [
    {
     "data": {
      "text/plain": [
       "t    35435\n",
       "f      102\n",
       "Name: host_has_profile_pic, dtype: int64"
      ]
     },
     "execution_count": 180,
     "metadata": {},
     "output_type": "execute_result"
    }
   ],
   "source": [
    "airbnb_nyc['host_has_profile_pic'].value_counts()"
   ]
  },
  {
   "cell_type": "code",
   "execution_count": 181,
   "id": "51a19e83-9393-4097-9c00-e798668b6689",
   "metadata": {},
   "outputs": [],
   "source": [
    "# Substitute true with 1 and false with 0\n",
    "airbnb_nyc['host_has_profile_pic'].replace({'f': 0, 't': 1}, inplace=True)"
   ]
  },
  {
   "cell_type": "code",
   "execution_count": 182,
   "id": "358f3f72-715e-4196-8e77-740657fda80e",
   "metadata": {},
   "outputs": [
    {
     "data": {
      "text/plain": [
       "1    35435\n",
       "0      102\n",
       "Name: host_has_profile_pic, dtype: int64"
      ]
     },
     "execution_count": 182,
     "metadata": {},
     "output_type": "execute_result"
    }
   ],
   "source": [
    "airbnb_nyc['host_has_profile_pic'].value_counts()"
   ]
  },
  {
   "cell_type": "markdown",
   "id": "0212a40f-f2eb-4941-8816-37f05644f63d",
   "metadata": {},
   "source": [
    "## Host identity verified"
   ]
  },
  {
   "cell_type": "code",
   "execution_count": 183,
   "id": "4eb3d39c-bdb5-4958-9ac0-b3ded16a4a7a",
   "metadata": {},
   "outputs": [
    {
     "data": {
      "text/plain": [
       "t    28692\n",
       "f     6845\n",
       "Name: host_identity_verified, dtype: int64"
      ]
     },
     "execution_count": 183,
     "metadata": {},
     "output_type": "execute_result"
    }
   ],
   "source": [
    "airbnb_nyc['host_identity_verified'].value_counts()"
   ]
  },
  {
   "cell_type": "code",
   "execution_count": 184,
   "id": "7858d668-9452-48b3-8eb5-55e34d261e4d",
   "metadata": {},
   "outputs": [],
   "source": [
    "# Substitute true with 1 and false with 0\n",
    "airbnb_nyc['host_identity_verified'].replace({'f': 0, 't': 1}, inplace=True)"
   ]
  },
  {
   "cell_type": "code",
   "execution_count": 186,
   "id": "28b8ef05-ebf3-407e-ace5-45fd2cef336c",
   "metadata": {},
   "outputs": [
    {
     "data": {
      "text/plain": [
       "1    28692\n",
       "0     6845\n",
       "Name: host_identity_verified, dtype: int64"
      ]
     },
     "execution_count": 186,
     "metadata": {},
     "output_type": "execute_result"
    }
   ],
   "source": [
    "airbnb_nyc['host_identity_verified'].value_counts()"
   ]
  },
  {
   "cell_type": "markdown",
   "id": "03cce1f7-b566-43eb-83bc-753913feb25b",
   "metadata": {},
   "source": [
    "## Neighbourhood & Neighbourhood Group"
   ]
  },
  {
   "cell_type": "code",
   "execution_count": 189,
   "id": "f7e6fd8d-0164-4be2-a9d8-66e234db71aa",
   "metadata": {},
   "outputs": [
    {
     "data": {
      "text/plain": [
       "Bedford-Stuyvesant    2626\n",
       "Williamsburg          2588\n",
       "Harlem                1860\n",
       "Bushwick              1625\n",
       "Hell's Kitchen        1428\n",
       "                      ... \n",
       "Graniteville             1\n",
       "Country Club             1\n",
       "Gerritsen Beach          1\n",
       "Fort Wadsworth           1\n",
       "Westerleigh              1\n",
       "Name: neighbourhood_cleansed, Length: 220, dtype: int64"
      ]
     },
     "execution_count": 189,
     "metadata": {},
     "output_type": "execute_result"
    }
   ],
   "source": [
    "airbnb_nyc['neighbourhood_cleansed'].value_counts()"
   ]
  },
  {
   "cell_type": "code",
   "execution_count": 190,
   "id": "effb2881-5785-41b6-9d50-647117e6cf60",
   "metadata": {},
   "outputs": [
    {
     "data": {
      "text/plain": [
       "False"
      ]
     },
     "execution_count": 190,
     "metadata": {},
     "output_type": "execute_result"
    }
   ],
   "source": [
    "# Check for missing values\n",
    "airbnb_nyc['neighbourhood_cleansed'].isnull().values.any()"
   ]
  },
  {
   "cell_type": "code",
   "execution_count": 191,
   "id": "28fe1989-2b6f-487b-bacc-24542c0d766d",
   "metadata": {},
   "outputs": [
    {
     "data": {
      "text/plain": [
       "Manhattan        15674\n",
       "Brooklyn         13938\n",
       "Queens            4663\n",
       "Bronx              973\n",
       "Staten Island      289\n",
       "Name: neighbourhood_group_cleansed, dtype: int64"
      ]
     },
     "execution_count": 191,
     "metadata": {},
     "output_type": "execute_result"
    }
   ],
   "source": [
    "airbnb_nyc['neighbourhood_group_cleansed'].value_counts()"
   ]
  },
  {
   "cell_type": "code",
   "execution_count": 192,
   "id": "8e72cb8d-e94e-4183-9146-45a122815ac9",
   "metadata": {},
   "outputs": [],
   "source": [
    "# Rename columns\n",
    "airbnb_nyc = airbnb_nyc.rename(columns={'neighbourhood_cleansed': 'neighbourhood', 'neighbourhood_group_cleansed': 'borough'})"
   ]
  },
  {
   "cell_type": "markdown",
   "id": "0027bc32-5bb5-44ff-af66-80ddc6516105",
   "metadata": {},
   "source": [
    "## Room Type"
   ]
  },
  {
   "cell_type": "code",
   "execution_count": 196,
   "id": "cd1d0684-28a2-4ef6-bd2a-887ca601753b",
   "metadata": {},
   "outputs": [
    {
     "data": {
      "text/plain": [
       "array(['Entire home/apt', 'Private room', 'Hotel room', 'Shared room'],\n",
       "      dtype=object)"
      ]
     },
     "execution_count": 196,
     "metadata": {},
     "output_type": "execute_result"
    }
   ],
   "source": [
    "airbnb_nyc['room_type'].unique()"
   ]
  },
  {
   "cell_type": "code",
   "execution_count": 197,
   "id": "78192962-ccfc-4cb2-be26-0feadf8ef877",
   "metadata": {},
   "outputs": [
    {
     "data": {
      "text/plain": [
       "Entire home/apt    18586\n",
       "Private room       16027\n",
       "Shared room          650\n",
       "Hotel room           274\n",
       "Name: room_type, dtype: int64"
      ]
     },
     "execution_count": 197,
     "metadata": {},
     "output_type": "execute_result"
    }
   ],
   "source": [
    "airbnb_nyc['room_type'].value_counts()"
   ]
  },
  {
   "cell_type": "markdown",
   "id": "4544f470-401b-4c47-a09e-26570c85ac55",
   "metadata": {},
   "source": [
    "## Accomodates"
   ]
  },
  {
   "cell_type": "code",
   "execution_count": 199,
   "id": "75a9482c-57ac-4114-b4fe-dd276eb4134d",
   "metadata": {},
   "outputs": [
    {
     "data": {
      "text/plain": [
       "2     16127\n",
       "1      6089\n",
       "4      5329\n",
       "3      3638\n",
       "6      1648\n",
       "5      1419\n",
       "8       481\n",
       "7       305\n",
       "10      162\n",
       "16       94\n",
       "12       90\n",
       "9        53\n",
       "11       28\n",
       "13       25\n",
       "0        18\n",
       "14       17\n",
       "15       14\n",
       "Name: accommodates, dtype: int64"
      ]
     },
     "execution_count": 199,
     "metadata": {},
     "output_type": "execute_result"
    }
   ],
   "source": [
    "airbnb_nyc['accommodates'].value_counts()"
   ]
  },
  {
   "cell_type": "code",
   "execution_count": 201,
   "id": "2b8e1197-9575-476a-8df9-0f5ab76c27f1",
   "metadata": {},
   "outputs": [
    {
     "data": {
      "text/plain": [
       "array([ 2,  3,  4,  1,  5,  6,  8, 13, 16,  7, 12,  9, 10, 11, 14, 15,  0])"
      ]
     },
     "execution_count": 201,
     "metadata": {},
     "output_type": "execute_result"
    }
   ],
   "source": [
    "airbnb_nyc['accommodates'].unique()"
   ]
  },
  {
   "cell_type": "code",
   "execution_count": 202,
   "id": "f416397f-d10c-4e7e-98e0-d246f2b3e968",
   "metadata": {},
   "outputs": [
    {
     "data": {
      "text/html": [
       "<div>\n",
       "<style scoped>\n",
       "    .dataframe tbody tr th:only-of-type {\n",
       "        vertical-align: middle;\n",
       "    }\n",
       "\n",
       "    .dataframe tbody tr th {\n",
       "        vertical-align: top;\n",
       "    }\n",
       "\n",
       "    .dataframe thead th {\n",
       "        text-align: right;\n",
       "    }\n",
       "</style>\n",
       "<table border=\"1\" class=\"dataframe\">\n",
       "  <thead>\n",
       "    <tr style=\"text-align: right;\">\n",
       "      <th></th>\n",
       "      <th>id</th>\n",
       "      <th>listing_url</th>\n",
       "      <th>name</th>\n",
       "      <th>description</th>\n",
       "      <th>neighborhood_overview</th>\n",
       "      <th>host_since</th>\n",
       "      <th>host_location</th>\n",
       "      <th>host_about</th>\n",
       "      <th>host_response_time</th>\n",
       "      <th>host_response_rate</th>\n",
       "      <th>...</th>\n",
       "      <th>calculated_host_listings_count_private_rooms</th>\n",
       "      <th>calculated_host_listings_count_shared_rooms</th>\n",
       "      <th>reviews_per_month</th>\n",
       "      <th>desc_len</th>\n",
       "      <th>name_len</th>\n",
       "      <th>neighborhood_len</th>\n",
       "      <th>host_about_len</th>\n",
       "      <th>host_country</th>\n",
       "      <th>host_state</th>\n",
       "      <th>host_verif_count</th>\n",
       "    </tr>\n",
       "  </thead>\n",
       "  <tbody>\n",
       "    <tr>\n",
       "      <th>29527</th>\n",
       "      <td>42830099</td>\n",
       "      <td>https://www.airbnb.com/rooms/42830099</td>\n",
       "      <td>Hotel Hugo</td>\n",
       "      <td>NaN</td>\n",
       "      <td>NaN</td>\n",
       "      <td>2019-10-07</td>\n",
       "      <td>New York, New York, United States</td>\n",
       "      <td>Located in West SoHo, otherwise known as Hudso...</td>\n",
       "      <td>within an hour</td>\n",
       "      <td>100%</td>\n",
       "      <td>...</td>\n",
       "      <td>0</td>\n",
       "      <td>0</td>\n",
       "      <td>NaN</td>\n",
       "      <td>0.0</td>\n",
       "      <td>10</td>\n",
       "      <td>0.0</td>\n",
       "      <td>687.0</td>\n",
       "      <td>United States</td>\n",
       "      <td>New York</td>\n",
       "      <td>2</td>\n",
       "    </tr>\n",
       "    <tr>\n",
       "      <th>29729</th>\n",
       "      <td>43035720</td>\n",
       "      <td>https://www.airbnb.com/rooms/43035720</td>\n",
       "      <td>Executive Hotel LeSoleil New York</td>\n",
       "      <td>NaN</td>\n",
       "      <td>NaN</td>\n",
       "      <td>2019-12-17</td>\n",
       "      <td>CA</td>\n",
       "      <td>NaN</td>\n",
       "      <td>NaN</td>\n",
       "      <td>NaN</td>\n",
       "      <td>...</td>\n",
       "      <td>0</td>\n",
       "      <td>0</td>\n",
       "      <td>NaN</td>\n",
       "      <td>0.0</td>\n",
       "      <td>33</td>\n",
       "      <td>0.0</td>\n",
       "      <td>0.0</td>\n",
       "      <td>CA</td>\n",
       "      <td>CA</td>\n",
       "      <td>1</td>\n",
       "    </tr>\n",
       "    <tr>\n",
       "      <th>29788</th>\n",
       "      <td>43078550</td>\n",
       "      <td>https://www.airbnb.com/rooms/43078550</td>\n",
       "      <td>The Lex Hotel NYC</td>\n",
       "      <td>NaN</td>\n",
       "      <td>NaN</td>\n",
       "      <td>2020-02-07</td>\n",
       "      <td>US</td>\n",
       "      <td>NaN</td>\n",
       "      <td>NaN</td>\n",
       "      <td>NaN</td>\n",
       "      <td>...</td>\n",
       "      <td>0</td>\n",
       "      <td>0</td>\n",
       "      <td>NaN</td>\n",
       "      <td>0.0</td>\n",
       "      <td>17</td>\n",
       "      <td>0.0</td>\n",
       "      <td>0.0</td>\n",
       "      <td>US</td>\n",
       "      <td>US</td>\n",
       "      <td>1</td>\n",
       "    </tr>\n",
       "    <tr>\n",
       "      <th>29789</th>\n",
       "      <td>43078552</td>\n",
       "      <td>https://www.airbnb.com/rooms/43078552</td>\n",
       "      <td>SIXTY LES</td>\n",
       "      <td>NaN</td>\n",
       "      <td>NaN</td>\n",
       "      <td>2020-03-19</td>\n",
       "      <td>US</td>\n",
       "      <td>NaN</td>\n",
       "      <td>within an hour</td>\n",
       "      <td>100%</td>\n",
       "      <td>...</td>\n",
       "      <td>0</td>\n",
       "      <td>0</td>\n",
       "      <td>NaN</td>\n",
       "      <td>0.0</td>\n",
       "      <td>9</td>\n",
       "      <td>0.0</td>\n",
       "      <td>0.0</td>\n",
       "      <td>US</td>\n",
       "      <td>US</td>\n",
       "      <td>2</td>\n",
       "    </tr>\n",
       "    <tr>\n",
       "      <th>29950</th>\n",
       "      <td>43205598</td>\n",
       "      <td>https://www.airbnb.com/rooms/43205598</td>\n",
       "      <td>Wellington Hotel</td>\n",
       "      <td>NaN</td>\n",
       "      <td>NaN</td>\n",
       "      <td>2020-02-11</td>\n",
       "      <td>New York, New York, United States</td>\n",
       "      <td>NaN</td>\n",
       "      <td>within an hour</td>\n",
       "      <td>100%</td>\n",
       "      <td>...</td>\n",
       "      <td>0</td>\n",
       "      <td>0</td>\n",
       "      <td>NaN</td>\n",
       "      <td>0.0</td>\n",
       "      <td>16</td>\n",
       "      <td>0.0</td>\n",
       "      <td>0.0</td>\n",
       "      <td>United States</td>\n",
       "      <td>New York</td>\n",
       "      <td>2</td>\n",
       "    </tr>\n",
       "    <tr>\n",
       "      <th>30006</th>\n",
       "      <td>43247472</td>\n",
       "      <td>https://www.airbnb.com/rooms/43247472</td>\n",
       "      <td>Hotel 57</td>\n",
       "      <td>NaN</td>\n",
       "      <td>NaN</td>\n",
       "      <td>2020-01-06</td>\n",
       "      <td>New York, New York, United States</td>\n",
       "      <td>DAZZLING BOUTIQUE ACCOMMODATIONS IN MIDTOWN MA...</td>\n",
       "      <td>within an hour</td>\n",
       "      <td>88%</td>\n",
       "      <td>...</td>\n",
       "      <td>0</td>\n",
       "      <td>0</td>\n",
       "      <td>NaN</td>\n",
       "      <td>0.0</td>\n",
       "      <td>8</td>\n",
       "      <td>0.0</td>\n",
       "      <td>845.0</td>\n",
       "      <td>United States</td>\n",
       "      <td>New York</td>\n",
       "      <td>1</td>\n",
       "    </tr>\n",
       "    <tr>\n",
       "      <th>31337</th>\n",
       "      <td>44567521</td>\n",
       "      <td>https://www.airbnb.com/rooms/44567521</td>\n",
       "      <td>The Standard, East Village</td>\n",
       "      <td>NaN</td>\n",
       "      <td>NaN</td>\n",
       "      <td>2020-08-05</td>\n",
       "      <td>US</td>\n",
       "      <td>NaN</td>\n",
       "      <td>within an hour</td>\n",
       "      <td>100%</td>\n",
       "      <td>...</td>\n",
       "      <td>0</td>\n",
       "      <td>0</td>\n",
       "      <td>NaN</td>\n",
       "      <td>0.0</td>\n",
       "      <td>26</td>\n",
       "      <td>0.0</td>\n",
       "      <td>0.0</td>\n",
       "      <td>US</td>\n",
       "      <td>US</td>\n",
       "      <td>2</td>\n",
       "    </tr>\n",
       "    <tr>\n",
       "      <th>31555</th>\n",
       "      <td>45063489</td>\n",
       "      <td>https://www.airbnb.com/rooms/45063489</td>\n",
       "      <td>5th and 55th Residence Club</td>\n",
       "      <td>NaN</td>\n",
       "      <td>NaN</td>\n",
       "      <td>2020-08-21</td>\n",
       "      <td>New York, New York, United States</td>\n",
       "      <td>Timeless luxury abounds at 5th &amp; 55th Residenc...</td>\n",
       "      <td>NaN</td>\n",
       "      <td>NaN</td>\n",
       "      <td>...</td>\n",
       "      <td>0</td>\n",
       "      <td>0</td>\n",
       "      <td>NaN</td>\n",
       "      <td>0.0</td>\n",
       "      <td>27</td>\n",
       "      <td>0.0</td>\n",
       "      <td>135.0</td>\n",
       "      <td>United States</td>\n",
       "      <td>New York</td>\n",
       "      <td>2</td>\n",
       "    </tr>\n",
       "    <tr>\n",
       "      <th>32133</th>\n",
       "      <td>45494997</td>\n",
       "      <td>https://www.airbnb.com/rooms/45494997</td>\n",
       "      <td>OYO Times Square</td>\n",
       "      <td>NaN</td>\n",
       "      <td>NaN</td>\n",
       "      <td>2019-10-23</td>\n",
       "      <td>New York, New York, United States</td>\n",
       "      <td>We have created a modern place to spend the ni...</td>\n",
       "      <td>NaN</td>\n",
       "      <td>NaN</td>\n",
       "      <td>...</td>\n",
       "      <td>0</td>\n",
       "      <td>0</td>\n",
       "      <td>NaN</td>\n",
       "      <td>0.0</td>\n",
       "      <td>16</td>\n",
       "      <td>0.0</td>\n",
       "      <td>660.0</td>\n",
       "      <td>United States</td>\n",
       "      <td>New York</td>\n",
       "      <td>1</td>\n",
       "    </tr>\n",
       "    <tr>\n",
       "      <th>32551</th>\n",
       "      <td>45789481</td>\n",
       "      <td>https://www.airbnb.com/rooms/45789481</td>\n",
       "      <td>The Williamsburg Hotel</td>\n",
       "      <td>NaN</td>\n",
       "      <td>NaN</td>\n",
       "      <td>2020-10-08</td>\n",
       "      <td>US</td>\n",
       "      <td>NaN</td>\n",
       "      <td>within an hour</td>\n",
       "      <td>100%</td>\n",
       "      <td>...</td>\n",
       "      <td>0</td>\n",
       "      <td>0</td>\n",
       "      <td>NaN</td>\n",
       "      <td>0.0</td>\n",
       "      <td>22</td>\n",
       "      <td>0.0</td>\n",
       "      <td>0.0</td>\n",
       "      <td>US</td>\n",
       "      <td>US</td>\n",
       "      <td>2</td>\n",
       "    </tr>\n",
       "    <tr>\n",
       "      <th>32616</th>\n",
       "      <td>45841514</td>\n",
       "      <td>https://www.airbnb.com/rooms/45841514</td>\n",
       "      <td>Pestana Park Avenue</td>\n",
       "      <td>NaN</td>\n",
       "      <td>NaN</td>\n",
       "      <td>2020-10-12</td>\n",
       "      <td>PT</td>\n",
       "      <td>NaN</td>\n",
       "      <td>NaN</td>\n",
       "      <td>NaN</td>\n",
       "      <td>...</td>\n",
       "      <td>0</td>\n",
       "      <td>0</td>\n",
       "      <td>NaN</td>\n",
       "      <td>0.0</td>\n",
       "      <td>19</td>\n",
       "      <td>0.0</td>\n",
       "      <td>0.0</td>\n",
       "      <td>PT</td>\n",
       "      <td>PT</td>\n",
       "      <td>2</td>\n",
       "    </tr>\n",
       "    <tr>\n",
       "      <th>32793</th>\n",
       "      <td>45985185</td>\n",
       "      <td>https://www.airbnb.com/rooms/45985185</td>\n",
       "      <td>Hotel Scherman</td>\n",
       "      <td>NaN</td>\n",
       "      <td>NaN</td>\n",
       "      <td>2020-10-21</td>\n",
       "      <td>Cliffside Park, New Jersey, United States</td>\n",
       "      <td>NaN</td>\n",
       "      <td>within an hour</td>\n",
       "      <td>100%</td>\n",
       "      <td>...</td>\n",
       "      <td>0</td>\n",
       "      <td>0</td>\n",
       "      <td>NaN</td>\n",
       "      <td>0.0</td>\n",
       "      <td>14</td>\n",
       "      <td>0.0</td>\n",
       "      <td>0.0</td>\n",
       "      <td>United States</td>\n",
       "      <td>New Jersey</td>\n",
       "      <td>2</td>\n",
       "    </tr>\n",
       "    <tr>\n",
       "      <th>32894</th>\n",
       "      <td>46059074</td>\n",
       "      <td>https://www.airbnb.com/rooms/46059074</td>\n",
       "      <td>CITIZENM NEW YORK TIMES SQUARE HOTEL</td>\n",
       "      <td>NaN</td>\n",
       "      <td>NaN</td>\n",
       "      <td>2020-10-26</td>\n",
       "      <td>New York, New York, United States</td>\n",
       "      <td>NaN</td>\n",
       "      <td>within an hour</td>\n",
       "      <td>100%</td>\n",
       "      <td>...</td>\n",
       "      <td>0</td>\n",
       "      <td>0</td>\n",
       "      <td>NaN</td>\n",
       "      <td>0.0</td>\n",
       "      <td>36</td>\n",
       "      <td>0.0</td>\n",
       "      <td>0.0</td>\n",
       "      <td>United States</td>\n",
       "      <td>New York</td>\n",
       "      <td>1</td>\n",
       "    </tr>\n",
       "    <tr>\n",
       "      <th>33138</th>\n",
       "      <td>46251446</td>\n",
       "      <td>https://www.airbnb.com/rooms/46251446</td>\n",
       "      <td>citizenM New York Bowery</td>\n",
       "      <td>NaN</td>\n",
       "      <td>NaN</td>\n",
       "      <td>2020-11-05</td>\n",
       "      <td>New York, New York, United States</td>\n",
       "      <td>NaN</td>\n",
       "      <td>within an hour</td>\n",
       "      <td>100%</td>\n",
       "      <td>...</td>\n",
       "      <td>0</td>\n",
       "      <td>0</td>\n",
       "      <td>NaN</td>\n",
       "      <td>0.0</td>\n",
       "      <td>24</td>\n",
       "      <td>0.0</td>\n",
       "      <td>0.0</td>\n",
       "      <td>United States</td>\n",
       "      <td>New York</td>\n",
       "      <td>1</td>\n",
       "    </tr>\n",
       "    <tr>\n",
       "      <th>33236</th>\n",
       "      <td>46336133</td>\n",
       "      <td>https://www.airbnb.com/rooms/46336133</td>\n",
       "      <td>Equinox Hotel New York</td>\n",
       "      <td>NaN</td>\n",
       "      <td>NaN</td>\n",
       "      <td>2020-11-09</td>\n",
       "      <td>US</td>\n",
       "      <td>NaN</td>\n",
       "      <td>NaN</td>\n",
       "      <td>NaN</td>\n",
       "      <td>...</td>\n",
       "      <td>0</td>\n",
       "      <td>0</td>\n",
       "      <td>NaN</td>\n",
       "      <td>0.0</td>\n",
       "      <td>22</td>\n",
       "      <td>0.0</td>\n",
       "      <td>0.0</td>\n",
       "      <td>US</td>\n",
       "      <td>US</td>\n",
       "      <td>2</td>\n",
       "    </tr>\n",
       "    <tr>\n",
       "      <th>33744</th>\n",
       "      <td>46723973</td>\n",
       "      <td>https://www.airbnb.com/rooms/46723973</td>\n",
       "      <td>Ink 48 Hotel</td>\n",
       "      <td>NaN</td>\n",
       "      <td>NaN</td>\n",
       "      <td>2020-11-24</td>\n",
       "      <td>US</td>\n",
       "      <td>NaN</td>\n",
       "      <td>NaN</td>\n",
       "      <td>NaN</td>\n",
       "      <td>...</td>\n",
       "      <td>0</td>\n",
       "      <td>0</td>\n",
       "      <td>NaN</td>\n",
       "      <td>0.0</td>\n",
       "      <td>12</td>\n",
       "      <td>0.0</td>\n",
       "      <td>0.0</td>\n",
       "      <td>US</td>\n",
       "      <td>US</td>\n",
       "      <td>2</td>\n",
       "    </tr>\n",
       "    <tr>\n",
       "      <th>35360</th>\n",
       "      <td>48089897</td>\n",
       "      <td>https://www.airbnb.com/rooms/48089897</td>\n",
       "      <td>Condor Hotel</td>\n",
       "      <td>NaN</td>\n",
       "      <td>NaN</td>\n",
       "      <td>2019-05-10</td>\n",
       "      <td>US</td>\n",
       "      <td>NaN</td>\n",
       "      <td>within an hour</td>\n",
       "      <td>100%</td>\n",
       "      <td>...</td>\n",
       "      <td>0</td>\n",
       "      <td>0</td>\n",
       "      <td>NaN</td>\n",
       "      <td>0.0</td>\n",
       "      <td>12</td>\n",
       "      <td>0.0</td>\n",
       "      <td>0.0</td>\n",
       "      <td>US</td>\n",
       "      <td>US</td>\n",
       "      <td>2</td>\n",
       "    </tr>\n",
       "    <tr>\n",
       "      <th>35793</th>\n",
       "      <td>48325676</td>\n",
       "      <td>https://www.airbnb.com/rooms/48325676</td>\n",
       "      <td>Hotel Beacon</td>\n",
       "      <td>NaN</td>\n",
       "      <td>NaN</td>\n",
       "      <td>2021-02-25</td>\n",
       "      <td>US</td>\n",
       "      <td>NaN</td>\n",
       "      <td>within an hour</td>\n",
       "      <td>100%</td>\n",
       "      <td>...</td>\n",
       "      <td>0</td>\n",
       "      <td>0</td>\n",
       "      <td>NaN</td>\n",
       "      <td>0.0</td>\n",
       "      <td>12</td>\n",
       "      <td>0.0</td>\n",
       "      <td>0.0</td>\n",
       "      <td>US</td>\n",
       "      <td>US</td>\n",
       "      <td>2</td>\n",
       "    </tr>\n",
       "  </tbody>\n",
       "</table>\n",
       "<p>18 rows × 54 columns</p>\n",
       "</div>"
      ],
      "text/plain": [
       "             id                            listing_url  \\\n",
       "29527  42830099  https://www.airbnb.com/rooms/42830099   \n",
       "29729  43035720  https://www.airbnb.com/rooms/43035720   \n",
       "29788  43078550  https://www.airbnb.com/rooms/43078550   \n",
       "29789  43078552  https://www.airbnb.com/rooms/43078552   \n",
       "29950  43205598  https://www.airbnb.com/rooms/43205598   \n",
       "30006  43247472  https://www.airbnb.com/rooms/43247472   \n",
       "31337  44567521  https://www.airbnb.com/rooms/44567521   \n",
       "31555  45063489  https://www.airbnb.com/rooms/45063489   \n",
       "32133  45494997  https://www.airbnb.com/rooms/45494997   \n",
       "32551  45789481  https://www.airbnb.com/rooms/45789481   \n",
       "32616  45841514  https://www.airbnb.com/rooms/45841514   \n",
       "32793  45985185  https://www.airbnb.com/rooms/45985185   \n",
       "32894  46059074  https://www.airbnb.com/rooms/46059074   \n",
       "33138  46251446  https://www.airbnb.com/rooms/46251446   \n",
       "33236  46336133  https://www.airbnb.com/rooms/46336133   \n",
       "33744  46723973  https://www.airbnb.com/rooms/46723973   \n",
       "35360  48089897  https://www.airbnb.com/rooms/48089897   \n",
       "35793  48325676  https://www.airbnb.com/rooms/48325676   \n",
       "\n",
       "                                       name description neighborhood_overview  \\\n",
       "29527                            Hotel Hugo         NaN                   NaN   \n",
       "29729     Executive Hotel LeSoleil New York         NaN                   NaN   \n",
       "29788                     The Lex Hotel NYC         NaN                   NaN   \n",
       "29789                             SIXTY LES         NaN                   NaN   \n",
       "29950                      Wellington Hotel         NaN                   NaN   \n",
       "30006                              Hotel 57         NaN                   NaN   \n",
       "31337            The Standard, East Village         NaN                   NaN   \n",
       "31555           5th and 55th Residence Club         NaN                   NaN   \n",
       "32133                      OYO Times Square         NaN                   NaN   \n",
       "32551                The Williamsburg Hotel         NaN                   NaN   \n",
       "32616                   Pestana Park Avenue         NaN                   NaN   \n",
       "32793                        Hotel Scherman         NaN                   NaN   \n",
       "32894  CITIZENM NEW YORK TIMES SQUARE HOTEL         NaN                   NaN   \n",
       "33138              citizenM New York Bowery         NaN                   NaN   \n",
       "33236                Equinox Hotel New York         NaN                   NaN   \n",
       "33744                          Ink 48 Hotel         NaN                   NaN   \n",
       "35360                          Condor Hotel         NaN                   NaN   \n",
       "35793                          Hotel Beacon         NaN                   NaN   \n",
       "\n",
       "       host_since                              host_location  \\\n",
       "29527  2019-10-07          New York, New York, United States   \n",
       "29729  2019-12-17                                         CA   \n",
       "29788  2020-02-07                                         US   \n",
       "29789  2020-03-19                                         US   \n",
       "29950  2020-02-11          New York, New York, United States   \n",
       "30006  2020-01-06          New York, New York, United States   \n",
       "31337  2020-08-05                                         US   \n",
       "31555  2020-08-21          New York, New York, United States   \n",
       "32133  2019-10-23          New York, New York, United States   \n",
       "32551  2020-10-08                                         US   \n",
       "32616  2020-10-12                                         PT   \n",
       "32793  2020-10-21  Cliffside Park, New Jersey, United States   \n",
       "32894  2020-10-26          New York, New York, United States   \n",
       "33138  2020-11-05          New York, New York, United States   \n",
       "33236  2020-11-09                                         US   \n",
       "33744  2020-11-24                                         US   \n",
       "35360  2019-05-10                                         US   \n",
       "35793  2021-02-25                                         US   \n",
       "\n",
       "                                              host_about host_response_time  \\\n",
       "29527  Located in West SoHo, otherwise known as Hudso...     within an hour   \n",
       "29729                                                NaN                NaN   \n",
       "29788                                                NaN                NaN   \n",
       "29789                                                NaN     within an hour   \n",
       "29950                                                NaN     within an hour   \n",
       "30006  DAZZLING BOUTIQUE ACCOMMODATIONS IN MIDTOWN MA...     within an hour   \n",
       "31337                                                NaN     within an hour   \n",
       "31555  Timeless luxury abounds at 5th & 55th Residenc...                NaN   \n",
       "32133  We have created a modern place to spend the ni...                NaN   \n",
       "32551                                                NaN     within an hour   \n",
       "32616                                                NaN                NaN   \n",
       "32793                                                NaN     within an hour   \n",
       "32894                                                NaN     within an hour   \n",
       "33138                                                NaN     within an hour   \n",
       "33236                                                NaN                NaN   \n",
       "33744                                                NaN                NaN   \n",
       "35360                                                NaN     within an hour   \n",
       "35793                                                NaN     within an hour   \n",
       "\n",
       "      host_response_rate  ... calculated_host_listings_count_private_rooms  \\\n",
       "29527               100%  ...                                            0   \n",
       "29729                NaN  ...                                            0   \n",
       "29788                NaN  ...                                            0   \n",
       "29789               100%  ...                                            0   \n",
       "29950               100%  ...                                            0   \n",
       "30006                88%  ...                                            0   \n",
       "31337               100%  ...                                            0   \n",
       "31555                NaN  ...                                            0   \n",
       "32133                NaN  ...                                            0   \n",
       "32551               100%  ...                                            0   \n",
       "32616                NaN  ...                                            0   \n",
       "32793               100%  ...                                            0   \n",
       "32894               100%  ...                                            0   \n",
       "33138               100%  ...                                            0   \n",
       "33236                NaN  ...                                            0   \n",
       "33744                NaN  ...                                            0   \n",
       "35360               100%  ...                                            0   \n",
       "35793               100%  ...                                            0   \n",
       "\n",
       "       calculated_host_listings_count_shared_rooms reviews_per_month  \\\n",
       "29527                                            0               NaN   \n",
       "29729                                            0               NaN   \n",
       "29788                                            0               NaN   \n",
       "29789                                            0               NaN   \n",
       "29950                                            0               NaN   \n",
       "30006                                            0               NaN   \n",
       "31337                                            0               NaN   \n",
       "31555                                            0               NaN   \n",
       "32133                                            0               NaN   \n",
       "32551                                            0               NaN   \n",
       "32616                                            0               NaN   \n",
       "32793                                            0               NaN   \n",
       "32894                                            0               NaN   \n",
       "33138                                            0               NaN   \n",
       "33236                                            0               NaN   \n",
       "33744                                            0               NaN   \n",
       "35360                                            0               NaN   \n",
       "35793                                            0               NaN   \n",
       "\n",
       "       desc_len  name_len neighborhood_len host_about_len   host_country  \\\n",
       "29527       0.0        10              0.0          687.0  United States   \n",
       "29729       0.0        33              0.0            0.0             CA   \n",
       "29788       0.0        17              0.0            0.0             US   \n",
       "29789       0.0         9              0.0            0.0             US   \n",
       "29950       0.0        16              0.0            0.0  United States   \n",
       "30006       0.0         8              0.0          845.0  United States   \n",
       "31337       0.0        26              0.0            0.0             US   \n",
       "31555       0.0        27              0.0          135.0  United States   \n",
       "32133       0.0        16              0.0          660.0  United States   \n",
       "32551       0.0        22              0.0            0.0             US   \n",
       "32616       0.0        19              0.0            0.0             PT   \n",
       "32793       0.0        14              0.0            0.0  United States   \n",
       "32894       0.0        36              0.0            0.0  United States   \n",
       "33138       0.0        24              0.0            0.0  United States   \n",
       "33236       0.0        22              0.0            0.0             US   \n",
       "33744       0.0        12              0.0            0.0             US   \n",
       "35360       0.0        12              0.0            0.0             US   \n",
       "35793       0.0        12              0.0            0.0             US   \n",
       "\n",
       "       host_state host_verif_count  \n",
       "29527    New York                2  \n",
       "29729          CA                1  \n",
       "29788          US                1  \n",
       "29789          US                2  \n",
       "29950    New York                2  \n",
       "30006    New York                1  \n",
       "31337          US                2  \n",
       "31555    New York                2  \n",
       "32133    New York                1  \n",
       "32551          US                2  \n",
       "32616          PT                2  \n",
       "32793  New Jersey                2  \n",
       "32894    New York                1  \n",
       "33138    New York                1  \n",
       "33236          US                2  \n",
       "33744          US                2  \n",
       "35360          US                2  \n",
       "35793          US                2  \n",
       "\n",
       "[18 rows x 54 columns]"
      ]
     },
     "execution_count": 202,
     "metadata": {},
     "output_type": "execute_result"
    }
   ],
   "source": [
    "airbnb_nyc[airbnb_nyc['accommodates']==0]"
   ]
  },
  {
   "cell_type": "markdown",
   "id": "c9be458f-55ac-4799-9bd7-92850bb90963",
   "metadata": {},
   "source": [
    "All listings presenting 0 in *accommodates* are hotel rooms. For the purpose of our categorization (see below), the 0 values don't need to be eliminated."
   ]
  },
  {
   "cell_type": "code",
   "execution_count": 207,
   "id": "d6b77ee1-b7b8-49b2-b339-3d6148c6b30e",
   "metadata": {},
   "outputs": [],
   "source": [
    "airbnb_nyc['capacity'] = pd.qcut(airbnb_nyc['accommodates'].rank(method = 'first'),3,['low','medium','high'])"
   ]
  },
  {
   "cell_type": "code",
   "execution_count": 208,
   "id": "90b28cac-8dad-442a-9768-cc2ec896bb16",
   "metadata": {},
   "outputs": [
    {
     "data": {
      "text/plain": [
       "low       11846\n",
       "high      11846\n",
       "medium    11845\n",
       "Name: capacity, dtype: int64"
      ]
     },
     "execution_count": 208,
     "metadata": {},
     "output_type": "execute_result"
    }
   ],
   "source": [
    "airbnb_nyc['capacity'].value_counts()"
   ]
  },
  {
   "cell_type": "markdown",
   "id": "2151f7bb-ea9b-4e01-9c1f-bb57aadf5144",
   "metadata": {},
   "source": [
    "## Bathrooms"
   ]
  },
  {
   "cell_type": "code",
   "execution_count": 209,
   "id": "ac19337f-72f5-4659-bd06-b0878fe54c5e",
   "metadata": {},
   "outputs": [
    {
     "data": {
      "text/plain": [
       "1 bath               18373\n",
       "1 shared bath         9008\n",
       "2 baths               2079\n",
       "1 private bath        2052\n",
       "1.5 baths             1014\n",
       "2 shared baths         995\n",
       "1.5 shared baths       716\n",
       "2.5 baths              279\n",
       "3 baths                211\n",
       "0 shared baths         170\n",
       "3 shared baths         110\n",
       "2.5 shared baths        86\n",
       "3.5 baths               66\n",
       "4 baths                 52\n",
       "4 shared baths          44\n",
       "0 baths                 36\n",
       "Half-bath               33\n",
       "4.5 baths               19\n",
       "Shared half-bath        18\n",
       "Private half-bath       16\n",
       "5 baths                 10\n",
       "6 baths                  7\n",
       "6 shared baths           7\n",
       "5.5 baths                4\n",
       "8 baths                  3\n",
       "4.5 shared baths         3\n",
       "6.5 shared baths         3\n",
       "7.5 baths                3\n",
       "3.5 shared baths         2\n",
       "5 shared baths           2\n",
       "7 baths                  2\n",
       "7 shared baths           1\n",
       "6.5 baths                1\n",
       "15.5 baths               1\n",
       "9.5 baths                1\n",
       "5.5 shared baths         1\n",
       "Name: bathrooms_text, dtype: int64"
      ]
     },
     "execution_count": 209,
     "metadata": {},
     "output_type": "execute_result"
    }
   ],
   "source": [
    "airbnb_nyc['bathrooms_text'].value_counts()"
   ]
  },
  {
   "cell_type": "code",
   "execution_count": 235,
   "id": "c9cc6396-3b0f-4eef-8984-a953159d4bc8",
   "metadata": {},
   "outputs": [
    {
     "data": {
      "text/plain": [
       "True"
      ]
     },
     "execution_count": 235,
     "metadata": {},
     "output_type": "execute_result"
    }
   ],
   "source": [
    "airbnb_nyc['bathrooms_text'].isnull().values.any()"
   ]
  },
  {
   "cell_type": "code",
   "execution_count": 236,
   "id": "4b1930de-43c7-4e5d-abc8-b7b97bd411d8",
   "metadata": {},
   "outputs": [
    {
     "data": {
      "text/plain": [
       "109"
      ]
     },
     "execution_count": 236,
     "metadata": {},
     "output_type": "execute_result"
    }
   ],
   "source": [
    "airbnb_nyc['bathrooms_text'].isnull().sum()"
   ]
  },
  {
   "cell_type": "markdown",
   "id": "b9095778-766a-43fe-a265-600fc484c7d2",
   "metadata": {},
   "source": [
    "After examining the urls, I've noticed that the missing values correspond to legitimate listings that have a bathroom. I will impute a value of 1 instead of the missing value under the assumption that:<br />\n",
    "1. It is pretty unrealistic to list a room or apartment without a bathroom\n",
    "2. In NYC it is [illegal](https://www.renthop.com/qa/nyc/what-makes-an-apartment-illegal) to rent an apartment with no bathroom"
   ]
  },
  {
   "cell_type": "code",
   "execution_count": 237,
   "id": "2a7ebad6-fe0c-4b05-88ee-6177b98f65e0",
   "metadata": {},
   "outputs": [],
   "source": [
    "airbnb_nyc['bathrooms_text'].fillna(1, inplace = True)"
   ]
  },
  {
   "cell_type": "code",
   "execution_count": 238,
   "id": "395c6c5a-dd05-4573-b91e-3c38d0df44fa",
   "metadata": {},
   "outputs": [
    {
     "data": {
      "text/plain": [
       "False"
      ]
     },
     "execution_count": 238,
     "metadata": {},
     "output_type": "execute_result"
    }
   ],
   "source": [
    "airbnb_nyc['bathrooms_text'].isnull().values.any()"
   ]
  },
  {
   "cell_type": "code",
   "execution_count": 242,
   "id": "dd4a1017-82e4-4aff-b9bf-434a8b112d5a",
   "metadata": {},
   "outputs": [
    {
     "data": {
      "text/plain": [
       "1 bath               18373\n",
       "1 shared bath         9008\n",
       "2 baths               2079\n",
       "1 private bath        2052\n",
       "1.5 baths             1014\n",
       "2 shared baths         995\n",
       "1.5 shared baths       716\n",
       "2.5 baths              279\n",
       "3 baths                211\n",
       "0 shared baths         170\n",
       "3 shared baths         110\n",
       "1                      109\n",
       "2.5 shared baths        86\n",
       "3.5 baths               66\n",
       "4 baths                 52\n",
       "4 shared baths          44\n",
       "0 baths                 36\n",
       "Half-bath               33\n",
       "4.5 baths               19\n",
       "Shared half-bath        18\n",
       "Private half-bath       16\n",
       "5 baths                 10\n",
       "6 shared baths           7\n",
       "6 baths                  7\n",
       "5.5 baths                4\n",
       "6.5 shared baths         3\n",
       "8 baths                  3\n",
       "7.5 baths                3\n",
       "4.5 shared baths         3\n",
       "5 shared baths           2\n",
       "7 baths                  2\n",
       "3.5 shared baths         2\n",
       "6.5 baths                1\n",
       "9.5 baths                1\n",
       "15.5 baths               1\n",
       "7 shared baths           1\n",
       "5.5 shared baths         1\n",
       "Name: bathrooms_text, dtype: int64"
      ]
     },
     "execution_count": 242,
     "metadata": {},
     "output_type": "execute_result"
    }
   ],
   "source": [
    "airbnb_nyc['bathrooms_text'].value_counts()"
   ]
  },
  {
   "cell_type": "code",
   "execution_count": 243,
   "id": "917a0fbc-6234-48cb-995c-6f96c9b971df",
   "metadata": {},
   "outputs": [],
   "source": [
    "# Define function to get bath type\n",
    "\n",
    "def bath_type(bath_string):\n",
    "    if type(bath_string) == int:\n",
    "        bathroom_type = 1 # private bathroom because there is no mention of 'shared'\n",
    "    else:\n",
    "        list_bath_string = bath_string.split(' ')\n",
    "        if 'shared' in list_bath_string or 'Shared' in list_bath_string:\n",
    "            bathroom_type = 0 # shared bathroom\n",
    "        else:\n",
    "            bathroom_type = 1 # private bathroom\n",
    "    return bathroom_type"
   ]
  },
  {
   "cell_type": "code",
   "execution_count": 244,
   "id": "6488680d-3ab6-42b2-88ff-6683166c27dc",
   "metadata": {},
   "outputs": [
    {
     "data": {
      "text/plain": [
       "0"
      ]
     },
     "execution_count": 244,
     "metadata": {},
     "output_type": "execute_result"
    }
   ],
   "source": [
    "bath_type('2.5 shared baths')"
   ]
  },
  {
   "cell_type": "code",
   "execution_count": 245,
   "id": "53e5b02e-794f-49c5-a601-ae3d18ba6dbd",
   "metadata": {},
   "outputs": [],
   "source": [
    "# Create new column\n",
    "airbnb_nyc['bath_type'] = airbnb_nyc['bathrooms_text'].apply(bath_type)"
   ]
  },
  {
   "cell_type": "code",
   "execution_count": 246,
   "id": "0db9e2fe-8fb9-46fc-b865-9535e3f6ba9e",
   "metadata": {},
   "outputs": [
    {
     "data": {
      "text/plain": [
       "1    24371\n",
       "0    11166\n",
       "Name: bath_type, dtype: int64"
      ]
     },
     "execution_count": 246,
     "metadata": {},
     "output_type": "execute_result"
    }
   ],
   "source": [
    "airbnb_nyc['bath_type'].value_counts()"
   ]
  },
  {
   "cell_type": "code",
   "execution_count": 247,
   "id": "bae924f0-7985-4dcf-83e3-4c7932cd614a",
   "metadata": {},
   "outputs": [],
   "source": [
    "# Define function to get number of bathrooms\n",
    "\n",
    "def bath_count(bath_string):\n",
    "    if type(bath_string) == int:\n",
    "        bathroom_count = bath_string\n",
    "    else:\n",
    "        list_bath_list = bath_string.split(' ')\n",
    "        if 'Half-bath' in list_bath_list or 'half-bath' in list_bath_list:\n",
    "            bathroom_count = 0.5\n",
    "        else:\n",
    "            bathroom_count = list_bath_list[0]\n",
    "    return bathroom_count"
   ]
  },
  {
   "cell_type": "code",
   "execution_count": 248,
   "id": "184a71fe-fe18-4782-9f3c-c64ee31b8db0",
   "metadata": {},
   "outputs": [],
   "source": [
    "# Create new column\n",
    "airbnb_nyc['bath_count'] = airbnb_nyc['bathrooms_text'].apply(bath_count)"
   ]
  },
  {
   "cell_type": "code",
   "execution_count": 249,
   "id": "976b309c-cb9e-42a3-845c-5eafdb59efbb",
   "metadata": {},
   "outputs": [
    {
     "data": {
      "text/plain": [
       "1       29433\n",
       "2        3074\n",
       "1.5      1730\n",
       "2.5       365\n",
       "3         321\n",
       "0         206\n",
       "1         109\n",
       "4          96\n",
       "3.5        68\n",
       "0.5        67\n",
       "4.5        22\n",
       "6          14\n",
       "5          12\n",
       "5.5         5\n",
       "6.5         4\n",
       "7.5         3\n",
       "8           3\n",
       "7           3\n",
       "9.5         1\n",
       "15.5        1\n",
       "Name: bath_count, dtype: int64"
      ]
     },
     "execution_count": 249,
     "metadata": {},
     "output_type": "execute_result"
    }
   ],
   "source": [
    "airbnb_nyc['bath_count'].value_counts()"
   ]
  },
  {
   "cell_type": "markdown",
   "id": "34f1308c-6445-4cfd-8230-1edefce3aa79",
   "metadata": {},
   "source": [
    "## Beds"
   ]
  },
  {
   "cell_type": "code",
   "execution_count": 253,
   "id": "96edb83b-f30b-45d2-b836-58d098919d28",
   "metadata": {},
   "outputs": [
    {
     "data": {
      "text/plain": [
       "1.0     21739\n",
       "2.0      7374\n",
       "3.0      2636\n",
       "0.0      1336\n",
       "4.0      1113\n",
       "5.0       379\n",
       "6.0       191\n",
       "7.0        83\n",
       "8.0        53\n",
       "9.0        27\n",
       "12.0       15\n",
       "10.0       11\n",
       "11.0       10\n",
       "13.0        3\n",
       "15.0        3\n",
       "16.0        2\n",
       "18.0        1\n",
       "42.0        1\n",
       "24.0        1\n",
       "21.0        1\n",
       "Name: beds, dtype: int64"
      ]
     },
     "execution_count": 253,
     "metadata": {},
     "output_type": "execute_result"
    }
   ],
   "source": [
    "airbnb_nyc['beds'].value_counts()"
   ]
  },
  {
   "cell_type": "code",
   "execution_count": 255,
   "id": "7728db73-146c-46e6-b1a4-1c13acfbaca8",
   "metadata": {},
   "outputs": [
    {
     "data": {
      "text/plain": [
       "True"
      ]
     },
     "execution_count": 255,
     "metadata": {},
     "output_type": "execute_result"
    }
   ],
   "source": [
    "airbnb_nyc['beds'].isnull().values.any()"
   ]
  },
  {
   "cell_type": "code",
   "execution_count": 257,
   "id": "5457b99b-9848-4bfa-acd4-e897857da202",
   "metadata": {},
   "outputs": [
    {
     "data": {
      "text/plain": [
       "558"
      ]
     },
     "execution_count": 257,
     "metadata": {},
     "output_type": "execute_result"
    }
   ],
   "source": [
    "airbnb_nyc['beds'].isnull().sum()"
   ]
  },
  {
   "cell_type": "code",
   "execution_count": 258,
   "id": "55000bea-7fbc-4fa5-b5d8-bcd74a121660",
   "metadata": {},
   "outputs": [],
   "source": [
    "# Inpute value of bedrooms into bed's missing values\n",
    "airbnb_nyc['beds'].fillna(airbnb_nyc['bedrooms'], inplace=True)"
   ]
  },
  {
   "cell_type": "code",
   "execution_count": 259,
   "id": "71fb086b-7c99-4520-b3f4-8093256f3449",
   "metadata": {},
   "outputs": [
    {
     "data": {
      "text/plain": [
       "90"
      ]
     },
     "execution_count": 259,
     "metadata": {},
     "output_type": "execute_result"
    }
   ],
   "source": [
    "airbnb_nyc['beds'].isnull().sum()"
   ]
  },
  {
   "cell_type": "code",
   "execution_count": 260,
   "id": "6504b23e-8c81-4919-80d8-20a6a65d50a1",
   "metadata": {},
   "outputs": [],
   "source": [
    "# Eliminate NAs in beds\n",
    "airbnb_nyc = airbnb_nyc[airbnb_nyc['beds'].notna()]"
   ]
  },
  {
   "cell_type": "code",
   "execution_count": 261,
   "id": "07e6382c-024d-493e-b90f-0faa90aee928",
   "metadata": {},
   "outputs": [
    {
     "data": {
      "text/plain": [
       "0"
      ]
     },
     "execution_count": 261,
     "metadata": {},
     "output_type": "execute_result"
    }
   ],
   "source": [
    "airbnb_nyc['beds'].isnull().sum()"
   ]
  },
  {
   "cell_type": "code",
   "execution_count": 262,
   "id": "028f355a-6de2-457b-bd70-f61a3430d55f",
   "metadata": {},
   "outputs": [
    {
     "data": {
      "text/plain": [
       "(35447, 57)"
      ]
     },
     "execution_count": 262,
     "metadata": {},
     "output_type": "execute_result"
    }
   ],
   "source": [
    "airbnb_nyc.shape"
   ]
  },
  {
   "cell_type": "markdown",
   "id": "e53b5552-1a12-4d7f-ba01-4bed2bde0109",
   "metadata": {},
   "source": [
    "## Amenities"
   ]
  },
  {
   "cell_type": "code",
   "execution_count": 264,
   "id": "ff71ea1f-7420-47d7-811e-ebd3ef336158",
   "metadata": {},
   "outputs": [
    {
     "data": {
      "text/plain": [
       "[\"Long term stays allowed\"]                                                                                                                                                                                                                                                                                                                                                                                                                                                        135\n",
       "[\"Refrigerator\", \"Shower gel\", \"Essentials\", \"Dryer\", \"Long term stays allowed\", \"Private entrance\", \"Dishes and silverware\", \"Elevator\", \"Kitchen\", \"TV\", \"Cooking basics\", \"Shampoo\", \"Stove\", \"BBQ grill\", \"Lockbox\", \"Hot water\", \"Gym\", \"Wifi\", \"Hair dryer\", \"Dishwasher\", \"Iron\", \"Extra pillows and blankets\", \"Coffee maker\", \"Carbon monoxide alarm\", \"Microwave\", \"Hangers\", \"Washer\", \"Smoke alarm\", \"Oven\", \"Bed linens\"]                                              62\n",
       "[\"Kitchen\", \"Carbon monoxide alarm\", \"Hangers\", \"Lock on bedroom door\", \"Smoke alarm\", \"Heating\", \"Wifi\", \"Long term stays allowed\", \"Dedicated workspace\"]                                                                                                                                                                                                                                                                                                                         60\n",
       "[\"Kitchen\", \"Security cameras on property\", \"TV\", \"Carbon monoxide alarm\", \"Hangers\", \"Washer\", \"Dryer\", \"Essentials\", \"Heating\", \"Smoke alarm\", \"Wifi\", \"Long term stays allowed\", \"Air conditioning\", \"Iron\"]                                                                                                                                                                                                                                                                     48\n",
       "[\"Shower gel\", \"Essentials\", \"Long term stays allowed\", \"Luggage dropoff allowed\", \"First aid kit\", \"Conditioner\", \"TV\", \"Heating\", \"Fire extinguisher\", \"Shampoo\", \"Body soap\", \"Hot water\", \"Wifi\", \"Hair dryer\", \"Dedicated workspace\", \"Iron\", \"Building staff\", \"Carbon monoxide alarm\", \"Hangers\", \"Smoke alarm\", \"Lock on bedroom door\", \"Bed linens\", \"Air conditioning\"]                                                                                                   48\n",
       "                                                                                                                                                                                                                                                                                                                                                                                                                                                                                  ... \n",
       "[\"Shampoo\", \"Hot water\", \"Dryer\", \"Essentials\", \"Smoke alarm\", \"Hangers\", \"Dedicated workspace\", \"Elevator\", \"Long term stays allowed\", \"Washer\", \"Heating\", \"Carbon monoxide alarm\", \"Kitchen\", \"Air conditioning\"]                                                                                                                                                                                                                                                                 1\n",
       "[\"Kitchen\", \"Cable TV\", \"Security cameras on property\", \"TV\", \"Hot water\", \"Carbon monoxide alarm\", \"Hangers\", \"Washer\", \"Dryer\", \"Essentials\", \"Heating\", \"Smoke alarm\", \"Hair dryer\", \"Lock on bedroom door\", \"Wifi\", \"Long term stays allowed\", \"Air conditioning\", \"Iron\", \"First aid kit\", \"Elevator\"]                                                                                                                                                                          1\n",
       "[\"Refrigerator\", \"Essentials\", \"Long term stays allowed\", \"Baking sheet\", \"Dishes and silverware\", \"Kitchen\", \"Heating\", \"Paid parking off premises\", \"Free street parking\", \"Cooking basics\", \"Shampoo\", \"Stove\", \"Hot water\", \"Wifi\", \"Hair dryer\", \"Dedicated workspace\", \"Coffee maker\", \"Carbon monoxide alarm\", \"Microwave\", \"Hangers\", \"Smoke alarm\", \"Host greets you\", \"Oven\"]                                                                                              1\n",
       "[\"Kitchen\", \"Cable TV\", \"TV\", \"Carbon monoxide alarm\", \"Essentials\", \"Washer\", \"Dryer\", \"Smoke alarm\", \"Fire extinguisher\", \"Wifi\", \"Long term stays allowed\", \"Air conditioning\", \"First aid kit\", \"Elevator\"]                                                                                                                                                                                                                                                                      1\n",
       "[\"Refrigerator\", \"Essentials\", \"Dryer\", \"Long term stays allowed\", \"Clothing storage\", \"Dishes and silverware\", \"Elevator\", \"Kitchen\", \"Keypad\", \"TV\", \"Heating\", \"Fire extinguisher\", \"Free street parking\", \"Cooking basics\", \"Shampoo\", \"Hot water\", \"Gym\", \"Wifi\", \"Hair dryer\", \"Dedicated workspace\", \"Iron\", \"Coffee maker\", \"Carbon monoxide alarm\", \"Microwave\", \"Hangers\", \"Washer\", \"Smoke alarm\", \"Lock on bedroom door\", \"Oven\", \"Bed linens\", \"Air conditioning\"]      1\n",
       "Name: amenities, Length: 30209, dtype: int64"
      ]
     },
     "execution_count": 264,
     "metadata": {},
     "output_type": "execute_result"
    }
   ],
   "source": [
    "airbnb_nyc['amenities'].value_counts()"
   ]
  },
  {
   "cell_type": "code",
   "execution_count": 270,
   "id": "dd0e6ded-1846-4aea-83ac-6e70664dc9b9",
   "metadata": {},
   "outputs": [
    {
     "data": {
      "text/plain": [
       "False"
      ]
     },
     "execution_count": 270,
     "metadata": {},
     "output_type": "execute_result"
    }
   ],
   "source": [
    "airbnb_nyc['amenities'].isnull().values.any()"
   ]
  },
  {
   "cell_type": "code",
   "execution_count": 266,
   "id": "d4210d22-4cce-4ea9-8d9c-d76d563d36ed",
   "metadata": {},
   "outputs": [],
   "source": [
    "# Define function to extract the count of amenities\n",
    "\n",
    "def get_amenities_count(amenities):\n",
    "    amenities_list = amenities.strip('][').split(', ')\n",
    "    amenities_count = len(amenities_list)\n",
    "    return amenities_count"
   ]
  },
  {
   "cell_type": "code",
   "execution_count": 267,
   "id": "9f7021cf-3980-43a6-9482-d24242deb7cb",
   "metadata": {},
   "outputs": [],
   "source": [
    "# Apply function to the df\n",
    "airbnb_nyc['amenities_count'] = airbnb_nyc['amenities'].apply(get_amenities_count)"
   ]
  },
  {
   "cell_type": "code",
   "execution_count": 268,
   "id": "f953405e-7536-400c-b582-3881598e5432",
   "metadata": {},
   "outputs": [
    {
     "data": {
      "text/plain": [
       "15    1712\n",
       "13    1675\n",
       "14    1668\n",
       "12    1615\n",
       "16    1497\n",
       "      ... \n",
       "71       2\n",
       "63       2\n",
       "68       1\n",
       "67       1\n",
       "66       1\n",
       "Name: amenities_count, Length: 69, dtype: int64"
      ]
     },
     "execution_count": 268,
     "metadata": {},
     "output_type": "execute_result"
    }
   ],
   "source": [
    "airbnb_nyc['amenities_count'].value_counts()"
   ]
  },
  {
   "cell_type": "markdown",
   "id": "2835d305-a55d-41e6-88ff-9bd2f5b16d23",
   "metadata": {},
   "source": [
    "## Price"
   ]
  },
  {
   "cell_type": "code",
   "execution_count": 271,
   "id": "a7d48356-0a1e-4437-9571-e320e66a06db",
   "metadata": {},
   "outputs": [
    {
     "data": {
      "text/plain": [
       "False"
      ]
     },
     "execution_count": 271,
     "metadata": {},
     "output_type": "execute_result"
    }
   ],
   "source": [
    "airbnb_nyc['price'].isnull().values.any()"
   ]
  },
  {
   "cell_type": "markdown",
   "id": "6ba3493a-7bd6-4437-a593-8808e86ddb18",
   "metadata": {},
   "source": [
    "## Minimum Nights"
   ]
  },
  {
   "cell_type": "markdown",
   "id": "6a0cbcf8-dda2-4995-9aac-757d4c6b4fd1",
   "metadata": {},
   "source": [
    "Any rental that lasts for 30 days or more is considered as a long-term rental in NYC. See [here](https://www.airbnb.com/help/article/2484/longterm-rentals-in-nyc)."
   ]
  },
  {
   "cell_type": "code",
   "execution_count": 274,
   "id": "c50d90ec-148a-4ccd-94c3-b7fa8327faf5",
   "metadata": {},
   "outputs": [
    {
     "data": {
      "text/plain": [
       "False"
      ]
     },
     "execution_count": 274,
     "metadata": {},
     "output_type": "execute_result"
    }
   ],
   "source": [
    "airbnb_nyc['minimum_nights'].isnull().values.any()"
   ]
  },
  {
   "cell_type": "code",
   "execution_count": 275,
   "id": "0cec9ccf-3763-455b-9a3d-d8b1bb23b0ed",
   "metadata": {},
   "outputs": [
    {
     "data": {
      "text/plain": [
       "30      22014\n",
       "1        3627\n",
       "2        2808\n",
       "3        2167\n",
       "5         885\n",
       "        ...  \n",
       "69          1\n",
       "1124        1\n",
       "117         1\n",
       "68          1\n",
       "53          1\n",
       "Name: minimum_nights, Length: 115, dtype: int64"
      ]
     },
     "execution_count": 275,
     "metadata": {},
     "output_type": "execute_result"
    }
   ],
   "source": [
    "airbnb_nyc['minimum_nights'].value_counts()"
   ]
  },
  {
   "cell_type": "code",
   "execution_count": 276,
   "id": "a632cb00-c026-4ff3-8fee-ebf054420afa",
   "metadata": {},
   "outputs": [],
   "source": [
    "# Define a function to recategorize the min nights column\n",
    "\n",
    "def get_stay_length(min_stay):\n",
    "    if min_stay >= 30:\n",
    "        long_term_stay = 1\n",
    "    else:\n",
    "        long_term_stay = 0\n",
    "    return long_term_stay"
   ]
  },
  {
   "cell_type": "code",
   "execution_count": 278,
   "id": "ef646fa7-c501-468d-b1c5-f94e31fa5fa3",
   "metadata": {},
   "outputs": [],
   "source": [
    "# Apply function to the df\n",
    "airbnb_nyc['long_term_rental'] = airbnb_nyc['minimum_nights'].apply(get_stay_length)"
   ]
  },
  {
   "cell_type": "code",
   "execution_count": 279,
   "id": "98b05629-4ce3-4668-b20b-8924dd312d5b",
   "metadata": {},
   "outputs": [
    {
     "data": {
      "text/plain": [
       "1    23298\n",
       "0    12149\n",
       "Name: long_term_rental, dtype: int64"
      ]
     },
     "execution_count": 279,
     "metadata": {},
     "output_type": "execute_result"
    }
   ],
   "source": [
    "airbnb_nyc['long_term_rental'].value_counts()"
   ]
  },
  {
   "cell_type": "markdown",
   "id": "78232486-910b-42af-9bb8-d9b659d2f0e5",
   "metadata": {},
   "source": [
    "## Avail 30 days"
   ]
  },
  {
   "cell_type": "code",
   "execution_count": 283,
   "id": "e6e70349-38a0-486a-8681-1bf0e3b05c9d",
   "metadata": {},
   "outputs": [
    {
     "data": {
      "text/plain": [
       "False"
      ]
     },
     "execution_count": 283,
     "metadata": {},
     "output_type": "execute_result"
    }
   ],
   "source": [
    "airbnb_nyc['availability_30'].isnull().values.any()"
   ]
  },
  {
   "cell_type": "code",
   "execution_count": 284,
   "id": "6cca18b9-c2b7-498f-8189-212da8875892",
   "metadata": {},
   "outputs": [
    {
     "data": {
      "text/plain": [
       "0     19217\n",
       "30     4151\n",
       "29     2031\n",
       "1      1040\n",
       "28      951\n",
       "8       670\n",
       "9       660\n",
       "27      561\n",
       "23      518\n",
       "2       403\n",
       "10      354\n",
       "7       324\n",
       "5       319\n",
       "24      319\n",
       "6       308\n",
       "4       303\n",
       "3       285\n",
       "22      272\n",
       "25      247\n",
       "21      235\n",
       "14      231\n",
       "20      229\n",
       "15      227\n",
       "11      226\n",
       "26      219\n",
       "16      217\n",
       "13      206\n",
       "19      197\n",
       "18      186\n",
       "12      174\n",
       "17      167\n",
       "Name: availability_30, dtype: int64"
      ]
     },
     "execution_count": 284,
     "metadata": {},
     "output_type": "execute_result"
    }
   ],
   "source": [
    "airbnb_nyc['availability_30'].value_counts()"
   ]
  },
  {
   "cell_type": "markdown",
   "id": "72c61e18-3ef3-4d8f-b100-c3b3b93c49ce",
   "metadata": {},
   "source": [
    "## Avail 60 days"
   ]
  },
  {
   "cell_type": "code",
   "execution_count": 285,
   "id": "ae228e02-fe53-4073-84da-fe9acba7083d",
   "metadata": {},
   "outputs": [
    {
     "data": {
      "text/plain": [
       "False"
      ]
     },
     "execution_count": 285,
     "metadata": {},
     "output_type": "execute_result"
    }
   ],
   "source": [
    "airbnb_nyc['availability_60'].isnull().values.any()"
   ]
  },
  {
   "cell_type": "markdown",
   "id": "c335d938-4cc4-4b56-ae08-ca3fcb5c2d87",
   "metadata": {},
   "source": [
    "## Avail 90 days"
   ]
  },
  {
   "cell_type": "code",
   "execution_count": 286,
   "id": "50ec00c8-7271-41cb-a5b8-c6f2a5836b85",
   "metadata": {},
   "outputs": [
    {
     "data": {
      "text/plain": [
       "False"
      ]
     },
     "execution_count": 286,
     "metadata": {},
     "output_type": "execute_result"
    }
   ],
   "source": [
    "airbnb_nyc['availability_90'].isnull().values.any()"
   ]
  },
  {
   "cell_type": "markdown",
   "id": "b495f991-f5de-4ba5-adb1-824a72918ee6",
   "metadata": {},
   "source": [
    "## Avail 365 days"
   ]
  },
  {
   "cell_type": "code",
   "execution_count": 287,
   "id": "682828a7-695f-4c97-b72f-f68e39fc17c3",
   "metadata": {},
   "outputs": [
    {
     "data": {
      "text/plain": [
       "False"
      ]
     },
     "execution_count": 287,
     "metadata": {},
     "output_type": "execute_result"
    }
   ],
   "source": [
    "airbnb_nyc['availability_365'].isnull().values.any()"
   ]
  },
  {
   "cell_type": "markdown",
   "id": "95a688df-99f7-4ae1-8746-d6e05780f65f",
   "metadata": {},
   "source": [
    "This is the target for the classification task at hand. Based on the *availability_365* column, I will create a new column indicating if a listing is a Top Listing or not. "
   ]
  },
  {
   "cell_type": "code",
   "execution_count": 371,
   "id": "685598bc-bed2-42e2-862e-eab533705c2a",
   "metadata": {},
   "outputs": [],
   "source": [
    "# Establish function to identify Top Listing\n",
    "\n",
    "median_avail = airbnb_nyc['availability_365'].median()\n",
    "\n",
    "def get_top_listing(availability):\n",
    "    if availability <= median_avail:\n",
    "        top_l = 1\n",
    "    else:\n",
    "        top_l = 0\n",
    "    return top_l"
   ]
  },
  {
   "cell_type": "code",
   "execution_count": 290,
   "id": "3a759d6f-41c0-4fb8-b2be-f3010ad1bb43",
   "metadata": {},
   "outputs": [],
   "source": [
    "# Apply function to the df\n",
    "airbnb_nyc['top_listing'] = airbnb_nyc['availability_365'].apply(get_top_listing)"
   ]
  },
  {
   "cell_type": "code",
   "execution_count": 292,
   "id": "25363890-0a76-4425-a1ce-0b6bb2caeb74",
   "metadata": {},
   "outputs": [
    {
     "data": {
      "text/plain": [
       "1    17737\n",
       "0    17710\n",
       "Name: top_listing, dtype: int64"
      ]
     },
     "execution_count": 292,
     "metadata": {},
     "output_type": "execute_result"
    }
   ],
   "source": [
    "airbnb_nyc['top_listing'].value_counts()"
   ]
  },
  {
   "cell_type": "markdown",
   "id": "f598bd65-4773-429c-9c99-9f16a2fc64f6",
   "metadata": {},
   "source": [
    "## Number of Reviews"
   ]
  },
  {
   "cell_type": "code",
   "execution_count": 296,
   "id": "4a784222-476c-4f0f-8e4a-c9663e4e6011",
   "metadata": {},
   "outputs": [
    {
     "data": {
      "text/plain": [
       "False"
      ]
     },
     "execution_count": 296,
     "metadata": {},
     "output_type": "execute_result"
    }
   ],
   "source": [
    "airbnb_nyc['number_of_reviews'].isnull().values.any()"
   ]
  },
  {
   "cell_type": "code",
   "execution_count": 299,
   "id": "48a5d479-84d5-4ad7-8f7e-6e51407d4ca7",
   "metadata": {},
   "outputs": [
    {
     "data": {
      "text/plain": [
       "count    35447.000000\n",
       "mean        22.785341\n",
       "std         48.100702\n",
       "min          0.000000\n",
       "25%          0.000000\n",
       "50%          4.000000\n",
       "75%         20.000000\n",
       "max        755.000000\n",
       "Name: number_of_reviews, dtype: float64"
      ]
     },
     "execution_count": 299,
     "metadata": {},
     "output_type": "execute_result"
    }
   ],
   "source": [
    "airbnb_nyc['number_of_reviews'].describe()"
   ]
  },
  {
   "cell_type": "markdown",
   "id": "68ec831a-52b6-469b-8f5b-07e297d59515",
   "metadata": {},
   "source": [
    "## Review Score Ratings"
   ]
  },
  {
   "cell_type": "code",
   "execution_count": 311,
   "id": "b313395d-96d2-42bd-8b3a-7202f24e668c",
   "metadata": {},
   "outputs": [
    {
     "name": "stdout",
     "output_type": "stream",
     "text": [
      "review_scores_rating Nulls:  9929\n",
      "review_scores_accuracy Nulls:  9953\n",
      "review_scores_cleanliness Nulls:  9943\n",
      "review_scores_checkin Nulls:  9962\n",
      "review_scores_communication Nulls:  9949\n",
      "review_scores_location Nulls:  9963\n",
      "reviews_per_month Nulls:  9279\n"
     ]
    }
   ],
   "source": [
    "review_scores = ['review_scores_rating','review_scores_accuracy','review_scores_cleanliness',\n",
    "                'review_scores_checkin','review_scores_communication','review_scores_location',\n",
    "                'reviews_per_month']\n",
    "\n",
    "for i in review_scores:\n",
    "    print(i,\"Nulls: \",airbnb_nyc[i].isnull().sum())"
   ]
  },
  {
   "cell_type": "markdown",
   "id": "5b9d4fbb-922d-4f52-a2f1-17e790b71164",
   "metadata": {},
   "source": [
    "Every review score metric presents between 9000 and 10000 nulls, which represent roughly 28% of the size of the dataset. Hence, I will try a first iteration of the model by excluding these features with the option of possibly including them in a random forest model which can accept missing values. "
   ]
  },
  {
   "cell_type": "markdown",
   "id": "854c4529-452f-44dd-a45d-3ce97e13c6a6",
   "metadata": {},
   "source": [
    "## Instant booking"
   ]
  },
  {
   "cell_type": "code",
   "execution_count": 302,
   "id": "4e27ba2d-792d-494f-b253-2bd665bced4e",
   "metadata": {},
   "outputs": [
    {
     "data": {
      "text/plain": [
       "0"
      ]
     },
     "execution_count": 302,
     "metadata": {},
     "output_type": "execute_result"
    }
   ],
   "source": [
    "airbnb_nyc['instant_bookable'].isnull().sum()"
   ]
  },
  {
   "cell_type": "code",
   "execution_count": 303,
   "id": "1e8cd597-ff38-4e1d-9a9a-04f581015e78",
   "metadata": {},
   "outputs": [
    {
     "data": {
      "text/plain": [
       "f    25263\n",
       "t    10184\n",
       "Name: instant_bookable, dtype: int64"
      ]
     },
     "execution_count": 303,
     "metadata": {},
     "output_type": "execute_result"
    }
   ],
   "source": [
    "airbnb_nyc['instant_bookable'].value_counts()"
   ]
  },
  {
   "cell_type": "code",
   "execution_count": 304,
   "id": "8805e92a-f885-4578-b153-50f69294843e",
   "metadata": {},
   "outputs": [],
   "source": [
    "# Substitute true with 1 and false with 0\n",
    "airbnb_nyc['instant_bookable'].replace({'f': 0, 't': 1}, inplace=True)"
   ]
  },
  {
   "cell_type": "code",
   "execution_count": 305,
   "id": "7b91f717-4824-4a19-aeed-294de72de63e",
   "metadata": {},
   "outputs": [
    {
     "data": {
      "text/plain": [
       "0    25263\n",
       "1    10184\n",
       "Name: instant_bookable, dtype: int64"
      ]
     },
     "execution_count": 305,
     "metadata": {},
     "output_type": "execute_result"
    }
   ],
   "source": [
    "airbnb_nyc['instant_bookable'].value_counts()"
   ]
  },
  {
   "cell_type": "markdown",
   "id": "1254e7f7-c1f6-4a4e-ac8d-e0f08bd0cdb9",
   "metadata": {},
   "source": [
    "## Listings Count"
   ]
  },
  {
   "cell_type": "code",
   "execution_count": 306,
   "id": "00c4f4ae-56ed-49d7-ac6d-8389002d5700",
   "metadata": {},
   "outputs": [
    {
     "data": {
      "text/plain": [
       "0"
      ]
     },
     "execution_count": 306,
     "metadata": {},
     "output_type": "execute_result"
    }
   ],
   "source": [
    "airbnb_nyc['calculated_host_listings_count'].isnull().sum()"
   ]
  },
  {
   "cell_type": "code",
   "execution_count": 307,
   "id": "a6f8e805-459c-4d17-82a2-db6f86af0b47",
   "metadata": {},
   "outputs": [
    {
     "data": {
      "text/plain": [
       "1      21496\n",
       "2       4591\n",
       "3       1979\n",
       "4       1063\n",
       "5        570\n",
       "6        497\n",
       "7        350\n",
       "8        336\n",
       "266      266\n",
       "10       250\n",
       "241      241\n",
       "9        187\n",
       "12       180\n",
       "166      166\n",
       "11       154\n",
       "152      149\n",
       "28       140\n",
       "128      128\n",
       "123      121\n",
       "120      120\n",
       "16       109\n",
       "107      107\n",
       "52       104\n",
       "17       102\n",
       "20       100\n",
       "94        94\n",
       "92        92\n",
       "18        90\n",
       "15        90\n",
       "86        86\n",
       "43        86\n",
       "83        83\n",
       "41        81\n",
       "26        78\n",
       "38        76\n",
       "75        75\n",
       "14        70\n",
       "35        70\n",
       "68        68\n",
       "66        65\n",
       "61        61\n",
       "19        57\n",
       "56        56\n",
       "54        54\n",
       "13        52\n",
       "25        50\n",
       "48        48\n",
       "45        45\n",
       "44        44\n",
       "34        34\n",
       "33        33\n",
       "31        31\n",
       "30        30\n",
       "29        29\n",
       "27        27\n",
       "24        24\n",
       "23        23\n",
       "21        21\n",
       "22        18\n",
       "Name: calculated_host_listings_count, dtype: int64"
      ]
     },
     "execution_count": 307,
     "metadata": {},
     "output_type": "execute_result"
    }
   ],
   "source": [
    "airbnb_nyc['calculated_host_listings_count'].value_counts()"
   ]
  },
  {
   "cell_type": "markdown",
   "id": "19d32fd6-5ebb-4935-9876-8b36c27630f2",
   "metadata": {},
   "source": [
    "## Prepare dataframe for modeling"
   ]
  },
  {
   "cell_type": "markdown",
   "id": "ff428f00-e673-409e-8e6b-07a977690f2c",
   "metadata": {},
   "source": [
    "### 1. Logistic Regression "
   ]
  },
  {
   "cell_type": "markdown",
   "id": "928203a4-ca02-42f8-985f-8740f2826b6e",
   "metadata": {},
   "source": [
    "A logistic regression model can't consist of columns with missing values. In line with these principle, I'll create a df that is appropriate for logistic regression modeling."
   ]
  },
  {
   "cell_type": "code",
   "execution_count": 313,
   "id": "932bdd68-156f-4330-886b-ae605db3c3fd",
   "metadata": {},
   "outputs": [],
   "source": [
    "# Substitute host_location with a dummy variable indicating if the host is in the US or not (hyp: host in the US will know the market more and \n",
    "# be more engaged in marketing their listing)\n",
    "\n",
    "def get_host_US(country):\n",
    "    if country == 'United States' or country == 'US':\n",
    "        host_in_US = 1\n",
    "    else:\n",
    "        host_in_US = 0\n",
    "    return host_in_US"
   ]
  },
  {
   "cell_type": "code",
   "execution_count": 314,
   "id": "384f67e0-386f-49a6-814b-94b2a810509e",
   "metadata": {},
   "outputs": [],
   "source": [
    "# Create new column\n",
    "airbnb_nyc['host_in_US'] = airbnb_nyc['host_country'].apply(get_host_US)"
   ]
  },
  {
   "cell_type": "code",
   "execution_count": 316,
   "id": "3973ba90-fc1b-49d1-8a5e-33a0e4e261de",
   "metadata": {},
   "outputs": [],
   "source": [
    "# Rename cols to more intelligible names\n",
    "airbnb_nyc = airbnb_nyc.rename(columns={'bath_type': 'bath_private', 'calculated_host_listings_count': 'host_listings'})"
   ]
  },
  {
   "cell_type": "code",
   "execution_count": 318,
   "id": "b0cde968-d461-4aa7-bf13-e4bc54c47452",
   "metadata": {},
   "outputs": [],
   "source": [
    "# Rename cols consistently\n",
    "airbnb_nyc = airbnb_nyc.rename(columns={'bath_count': 'baths'})"
   ]
  },
  {
   "cell_type": "code",
   "execution_count": 319,
   "id": "8f3d19e2-fbf3-42f7-ac7e-0df9b24f4753",
   "metadata": {},
   "outputs": [
    {
     "data": {
      "text/plain": [
       "Index(['id', 'listing_url', 'name', 'description', 'neighborhood_overview',\n",
       "       'host_since', 'host_location', 'host_about', 'host_response_time',\n",
       "       'host_response_rate', 'host_acceptance_rate', 'host_is_superhost',\n",
       "       'host_verifications', 'host_has_profile_pic', 'host_identity_verified',\n",
       "       'neighbourhood', 'borough', 'latitude', 'longitude', 'property_type',\n",
       "       'room_type', 'accommodates', 'bathrooms_text', 'bedrooms', 'beds',\n",
       "       'amenities', 'price', 'minimum_nights', 'has_availability',\n",
       "       'availability_30', 'availability_60', 'availability_90',\n",
       "       'availability_365', 'number_of_reviews', 'review_scores_rating',\n",
       "       'review_scores_accuracy', 'review_scores_cleanliness',\n",
       "       'review_scores_checkin', 'review_scores_communication',\n",
       "       'review_scores_location', 'review_scores_value', 'instant_bookable',\n",
       "       'host_listings', 'calculated_host_listings_count_entire_homes',\n",
       "       'calculated_host_listings_count_private_rooms',\n",
       "       'calculated_host_listings_count_shared_rooms', 'reviews_per_month',\n",
       "       'desc_len', 'name_len', 'neighborhood_len', 'host_about_len',\n",
       "       'host_country', 'host_state', 'host_verif_count', 'capacity',\n",
       "       'bath_private', 'baths', 'amenities_count', 'long_term_rental',\n",
       "       'top_listing', 'host_in_US'],\n",
       "      dtype='object')"
      ]
     },
     "execution_count": 319,
     "metadata": {},
     "output_type": "execute_result"
    }
   ],
   "source": [
    "airbnb_nyc.columns"
   ]
  },
  {
   "cell_type": "code",
   "execution_count": 370,
   "id": "32a8e9c6-ebec-48f3-ba80-5a6ab1c0edb7",
   "metadata": {},
   "outputs": [],
   "source": [
    "# Pickle df to use it in modeling notebook\n",
    "airbnb_nyc.to_pickle('airbnb_nyc.pickle')"
   ]
  },
  {
   "cell_type": "code",
   "execution_count": 320,
   "id": "3ab313cd-0a0c-4c4a-ab12-8259e78a6713",
   "metadata": {},
   "outputs": [],
   "source": [
    "listings = airbnb_nyc.drop(['listing_url','name','description','neighborhood_overview','host_location',\n",
    "                'host_about','host_response_time','host_response_rate', 'host_acceptance_rate',\n",
    "                'host_verifications','property_type','accommodates','bathrooms_text', 'bedrooms',\n",
    "                'amenities','minimum_nights', 'has_availability','availability_30', 'availability_60',\n",
    "                'availability_90','review_scores_rating','review_scores_accuracy', 'review_scores_cleanliness',\n",
    "                'review_scores_checkin', 'review_scores_communication','review_scores_location', 'review_scores_value',\n",
    "                'calculated_host_listings_count_entire_homes','calculated_host_listings_count_private_rooms',\n",
    "                'calculated_host_listings_count_shared_rooms', 'reviews_per_month','host_country', 'host_state'], axis = 1)"
   ]
  },
  {
   "cell_type": "code",
   "execution_count": 322,
   "id": "536793be-ee7f-49cc-a394-38f57fa22041",
   "metadata": {},
   "outputs": [
    {
     "data": {
      "text/plain": [
       "(35447, 28)"
      ]
     },
     "execution_count": 322,
     "metadata": {},
     "output_type": "execute_result"
    }
   ],
   "source": [
    "listings.shape"
   ]
  },
  {
   "cell_type": "code",
   "execution_count": 323,
   "id": "62b6b95e-857c-442d-be97-f1dcaf9b02fe",
   "metadata": {},
   "outputs": [
    {
     "data": {
      "text/plain": [
       "Index(['id', 'host_since', 'host_is_superhost', 'host_has_profile_pic',\n",
       "       'host_identity_verified', 'neighbourhood', 'borough', 'latitude',\n",
       "       'longitude', 'room_type', 'beds', 'price', 'availability_365',\n",
       "       'number_of_reviews', 'instant_bookable', 'host_listings', 'desc_len',\n",
       "       'name_len', 'neighborhood_len', 'host_about_len', 'host_verif_count',\n",
       "       'capacity', 'bath_private', 'baths', 'amenities_count',\n",
       "       'long_term_rental', 'top_listing', 'host_in_US'],\n",
       "      dtype='object')"
      ]
     },
     "execution_count": 323,
     "metadata": {},
     "output_type": "execute_result"
    }
   ],
   "source": [
    "listings.columns"
   ]
  },
  {
   "cell_type": "code",
   "execution_count": 325,
   "id": "1cfd8449-be32-4128-ae4e-42a0e0f2e5da",
   "metadata": {},
   "outputs": [
    {
     "name": "stdout",
     "output_type": "stream",
     "text": [
      "<class 'pandas.core.frame.DataFrame'>\n",
      "Int64Index: 35447 entries, 0 to 36904\n",
      "Data columns (total 28 columns):\n",
      " #   Column                  Non-Null Count  Dtype   \n",
      "---  ------                  --------------  -----   \n",
      " 0   id                      35447 non-null  int64   \n",
      " 1   host_since              35447 non-null  object  \n",
      " 2   host_is_superhost       35447 non-null  int64   \n",
      " 3   host_has_profile_pic    35447 non-null  int64   \n",
      " 4   host_identity_verified  35447 non-null  int64   \n",
      " 5   neighbourhood           35447 non-null  object  \n",
      " 6   borough                 35447 non-null  object  \n",
      " 7   latitude                35447 non-null  float64 \n",
      " 8   longitude               35447 non-null  float64 \n",
      " 9   room_type               35447 non-null  object  \n",
      " 10  beds                    35447 non-null  float64 \n",
      " 11  price                   35447 non-null  object  \n",
      " 12  availability_365        35447 non-null  int64   \n",
      " 13  number_of_reviews       35447 non-null  int64   \n",
      " 14  instant_bookable        35447 non-null  int64   \n",
      " 15  host_listings           35447 non-null  int64   \n",
      " 16  desc_len                35447 non-null  float64 \n",
      " 17  name_len                35447 non-null  int64   \n",
      " 18  neighborhood_len        35447 non-null  float64 \n",
      " 19  host_about_len          35447 non-null  float64 \n",
      " 20  host_verif_count        35447 non-null  int64   \n",
      " 21  capacity                35447 non-null  category\n",
      " 22  bath_private            35447 non-null  int64   \n",
      " 23  baths                   35447 non-null  object  \n",
      " 24  amenities_count         35447 non-null  int64   \n",
      " 25  long_term_rental        35447 non-null  int64   \n",
      " 26  top_listing             35447 non-null  int64   \n",
      " 27  host_in_US              35447 non-null  int64   \n",
      "dtypes: category(1), float64(6), int64(15), object(6)\n",
      "memory usage: 7.6+ MB\n"
     ]
    }
   ],
   "source": [
    "# Check for nulls and correct data types for every variable\n",
    "listings.info()"
   ]
  },
  {
   "cell_type": "code",
   "execution_count": 329,
   "id": "dc7bec75-64c4-401d-9565-d47a8e462056",
   "metadata": {},
   "outputs": [
    {
     "name": "stderr",
     "output_type": "stream",
     "text": [
      "<ipython-input-329-2ab38d92ceb1>:2: FutureWarning: The default value of regex will change from True to False in a future version. In addition, single character regular expressions will*not* be treated as literal strings when regex=True.\n",
      "  listings['price'] = listings['price'].str.replace(',', '').str.replace('$', '').astype(float)\n"
     ]
    }
   ],
   "source": [
    "# Convert price to float\n",
    "listings['price'] = listings['price'].str.replace(',', '').str.replace('$', '').astype(float)"
   ]
  },
  {
   "cell_type": "code",
   "execution_count": 330,
   "id": "660dda41-cf9c-42f2-ba1e-94d08848c37c",
   "metadata": {},
   "outputs": [],
   "source": [
    "# Convert name len to float\n",
    "listings['name_len'] = pd.to_numeric(listings['name_len'])"
   ]
  },
  {
   "cell_type": "code",
   "execution_count": 331,
   "id": "1dbd16ac-3315-4a16-a4ab-d61e354c53dd",
   "metadata": {},
   "outputs": [],
   "source": [
    "# Convert baths to float\n",
    "listings['baths'] = pd.to_numeric(listings['baths'])"
   ]
  },
  {
   "cell_type": "code",
   "execution_count": 332,
   "id": "cec527fc-e260-4ccb-badb-f261d37e5256",
   "metadata": {},
   "outputs": [],
   "source": [
    "# Convert host since to datetime\n",
    "listings['host_since'] = listings['host_since'].astype('datetime64[ns]')"
   ]
  },
  {
   "cell_type": "code",
   "execution_count": 333,
   "id": "6c6d9c1e-e232-4f26-bc62-5a64e1489b65",
   "metadata": {},
   "outputs": [
    {
     "name": "stdout",
     "output_type": "stream",
     "text": [
      "<class 'pandas.core.frame.DataFrame'>\n",
      "Int64Index: 35447 entries, 0 to 36904\n",
      "Data columns (total 28 columns):\n",
      " #   Column                  Non-Null Count  Dtype         \n",
      "---  ------                  --------------  -----         \n",
      " 0   id                      35447 non-null  int64         \n",
      " 1   host_since              35447 non-null  datetime64[ns]\n",
      " 2   host_is_superhost       35447 non-null  int64         \n",
      " 3   host_has_profile_pic    35447 non-null  int64         \n",
      " 4   host_identity_verified  35447 non-null  int64         \n",
      " 5   neighbourhood           35447 non-null  object        \n",
      " 6   borough                 35447 non-null  object        \n",
      " 7   latitude                35447 non-null  float64       \n",
      " 8   longitude               35447 non-null  float64       \n",
      " 9   room_type               35447 non-null  object        \n",
      " 10  beds                    35447 non-null  float64       \n",
      " 11  price                   35447 non-null  float64       \n",
      " 12  availability_365        35447 non-null  int64         \n",
      " 13  number_of_reviews       35447 non-null  int64         \n",
      " 14  instant_bookable        35447 non-null  int64         \n",
      " 15  host_listings           35447 non-null  int64         \n",
      " 16  desc_len                35447 non-null  float64       \n",
      " 17  name_len                35447 non-null  int64         \n",
      " 18  neighborhood_len        35447 non-null  float64       \n",
      " 19  host_about_len          35447 non-null  float64       \n",
      " 20  host_verif_count        35447 non-null  int64         \n",
      " 21  capacity                35447 non-null  category      \n",
      " 22  bath_private            35447 non-null  int64         \n",
      " 23  baths                   35447 non-null  float64       \n",
      " 24  amenities_count         35447 non-null  int64         \n",
      " 25  long_term_rental        35447 non-null  int64         \n",
      " 26  top_listing             35447 non-null  int64         \n",
      " 27  host_in_US              35447 non-null  int64         \n",
      "dtypes: category(1), datetime64[ns](1), float64(8), int64(15), object(3)\n",
      "memory usage: 7.6+ MB\n"
     ]
    }
   ],
   "source": [
    "# Check changes were correctly executed\n",
    "listings.info()# Check changes were correctly executed\n",
    "listings.info()"
   ]
  },
  {
   "cell_type": "code",
   "execution_count": 355,
   "id": "7e4e1173-a3dc-4079-99da-28bf25d6fb92",
   "metadata": {},
   "outputs": [],
   "source": [
    "# Change length metrics data type to integer\n",
    "listings['desc_len'] = listings['desc_len'].astype(int)\n",
    "listings['neighborhood_len'] = listings['neighborhood_len'].astype(int)\n",
    "listings['host_about_len'] = listings['host_about_len'].astype(int)"
   ]
  },
  {
   "cell_type": "code",
   "execution_count": 356,
   "id": "a62be8a8-b9e8-4bd8-822b-40e84029caf5",
   "metadata": {},
   "outputs": [
    {
     "name": "stdout",
     "output_type": "stream",
     "text": [
      "<class 'pandas.core.frame.DataFrame'>\n",
      "Int64Index: 35447 entries, 0 to 36904\n",
      "Data columns (total 28 columns):\n",
      " #   Column                  Non-Null Count  Dtype         \n",
      "---  ------                  --------------  -----         \n",
      " 0   id                      35447 non-null  int64         \n",
      " 1   host_since              35447 non-null  datetime64[ns]\n",
      " 2   host_is_superhost       35447 non-null  int64         \n",
      " 3   host_has_profile_pic    35447 non-null  int64         \n",
      " 4   host_identity_verified  35447 non-null  int64         \n",
      " 5   neighbourhood           35447 non-null  object        \n",
      " 6   borough                 35447 non-null  object        \n",
      " 7   latitude                35447 non-null  float64       \n",
      " 8   longitude               35447 non-null  float64       \n",
      " 9   room_type               35447 non-null  object        \n",
      " 10  beds                    35447 non-null  float64       \n",
      " 11  price                   35447 non-null  float64       \n",
      " 12  availability_365        35447 non-null  int64         \n",
      " 13  number_of_reviews       35447 non-null  int64         \n",
      " 14  instant_bookable        35447 non-null  int64         \n",
      " 15  host_listings           35447 non-null  int64         \n",
      " 16  desc_len                35447 non-null  int64         \n",
      " 17  name_len                35447 non-null  int64         \n",
      " 18  neighborhood_len        35447 non-null  int64         \n",
      " 19  host_about_len          35447 non-null  int64         \n",
      " 20  host_verif_count        35447 non-null  int64         \n",
      " 21  capacity                35447 non-null  category      \n",
      " 22  bath_private            35447 non-null  int64         \n",
      " 23  baths                   35447 non-null  float64       \n",
      " 24  amenities_count         35447 non-null  int64         \n",
      " 25  long_term_rental        35447 non-null  int64         \n",
      " 26  top_listing             35447 non-null  int64         \n",
      " 27  host_in_US              35447 non-null  int64         \n",
      "dtypes: category(1), datetime64[ns](1), float64(5), int64(18), object(3)\n",
      "memory usage: 8.6+ MB\n"
     ]
    }
   ],
   "source": [
    "# Check changes were correctly executed\n",
    "listings.info()"
   ]
  },
  {
   "cell_type": "code",
   "execution_count": 367,
   "id": "979e1f27-de86-470b-89d1-c00e0638d61b",
   "metadata": {},
   "outputs": [],
   "source": [
    "# Store df in pickle object to use in a different notebook for modeling\n",
    "listings.to_pickle('listings_logreg.pickle')"
   ]
  },
  {
   "cell_type": "markdown",
   "id": "0ad2d079-a6a2-4db8-a214-1e08cbaf20e3",
   "metadata": {},
   "source": [
    "### 2. Random Forest"
   ]
  },
  {
   "cell_type": "markdown",
   "id": "642a8412-1ab4-4467-b078-5664de8eadcb",
   "metadata": {},
   "source": [
    "A random forest model will accept missing values. Hence, in the data frame below, I will include columns that feature missing values. "
   ]
  },
  {
   "cell_type": "code",
   "execution_count": 357,
   "id": "dac0726b-08c2-4fa7-805e-ff918b1fe6b7",
   "metadata": {},
   "outputs": [
    {
     "data": {
      "text/plain": [
       "Index(['id', 'listing_url', 'name', 'description', 'neighborhood_overview',\n",
       "       'host_since', 'host_location', 'host_about', 'host_response_time',\n",
       "       'host_response_rate', 'host_acceptance_rate', 'host_is_superhost',\n",
       "       'host_verifications', 'host_has_profile_pic', 'host_identity_verified',\n",
       "       'neighbourhood', 'borough', 'latitude', 'longitude', 'property_type',\n",
       "       'room_type', 'accommodates', 'bathrooms_text', 'bedrooms', 'beds',\n",
       "       'amenities', 'price', 'minimum_nights', 'has_availability',\n",
       "       'availability_30', 'availability_60', 'availability_90',\n",
       "       'availability_365', 'number_of_reviews', 'review_scores_rating',\n",
       "       'review_scores_accuracy', 'review_scores_cleanliness',\n",
       "       'review_scores_checkin', 'review_scores_communication',\n",
       "       'review_scores_location', 'review_scores_value', 'instant_bookable',\n",
       "       'host_listings', 'calculated_host_listings_count_entire_homes',\n",
       "       'calculated_host_listings_count_private_rooms',\n",
       "       'calculated_host_listings_count_shared_rooms', 'reviews_per_month',\n",
       "       'desc_len', 'name_len', 'neighborhood_len', 'host_about_len',\n",
       "       'host_country', 'host_state', 'host_verif_count', 'capacity',\n",
       "       'bath_private', 'baths', 'amenities_count', 'long_term_rental',\n",
       "       'top_listing', 'host_in_US'],\n",
       "      dtype='object')"
      ]
     },
     "execution_count": 357,
     "metadata": {},
     "output_type": "execute_result"
    }
   ],
   "source": [
    "airbnb_nyc.columns"
   ]
  },
  {
   "cell_type": "code",
   "execution_count": 358,
   "id": "614594a4-9283-496b-90f9-db4b0c6bd175",
   "metadata": {},
   "outputs": [],
   "source": [
    "listings_nyc = airbnb_nyc.drop(['listing_url','name','description','neighborhood_overview','host_location',\n",
    "                'host_about','host_verifications','property_type','accommodates','bathrooms_text', 'bedrooms',\n",
    "                'amenities','minimum_nights', 'has_availability','availability_30', 'availability_60',\n",
    "                'availability_90','calculated_host_listings_count_entire_homes','calculated_host_listings_count_private_rooms',\n",
    "                'calculated_host_listings_count_shared_rooms','host_country', 'host_state'], axis = 1)"
   ]
  },
  {
   "cell_type": "code",
   "execution_count": 360,
   "id": "02cc242b-8d7a-4109-af06-3efd3fcd9c3d",
   "metadata": {},
   "outputs": [
    {
     "data": {
      "text/plain": [
       "(35447, 39)"
      ]
     },
     "execution_count": 360,
     "metadata": {},
     "output_type": "execute_result"
    }
   ],
   "source": [
    "listings_nyc.shape"
   ]
  },
  {
   "cell_type": "code",
   "execution_count": 362,
   "id": "ef28c100-18b5-4099-b04f-86506d6c054c",
   "metadata": {},
   "outputs": [
    {
     "data": {
      "text/plain": [
       "Index(['id', 'host_since', 'host_response_time', 'host_response_rate',\n",
       "       'host_acceptance_rate', 'host_is_superhost', 'host_has_profile_pic',\n",
       "       'host_identity_verified', 'neighbourhood', 'borough', 'latitude',\n",
       "       'longitude', 'room_type', 'beds', 'price', 'availability_365',\n",
       "       'number_of_reviews', 'review_scores_rating', 'review_scores_accuracy',\n",
       "       'review_scores_cleanliness', 'review_scores_checkin',\n",
       "       'review_scores_communication', 'review_scores_location',\n",
       "       'review_scores_value', 'instant_bookable', 'host_listings',\n",
       "       'reviews_per_month', 'desc_len', 'name_len', 'neighborhood_len',\n",
       "       'host_about_len', 'host_verif_count', 'capacity', 'bath_private',\n",
       "       'baths', 'amenities_count', 'long_term_rental', 'top_listing',\n",
       "       'host_in_US'],\n",
       "      dtype='object')"
      ]
     },
     "execution_count": 362,
     "metadata": {},
     "output_type": "execute_result"
    }
   ],
   "source": [
    "listings_nyc.columns"
   ]
  },
  {
   "cell_type": "code",
   "execution_count": 363,
   "id": "54c43b40-2ced-4987-b02f-1b02a0a53571",
   "metadata": {},
   "outputs": [
    {
     "name": "stdout",
     "output_type": "stream",
     "text": [
      "<class 'pandas.core.frame.DataFrame'>\n",
      "Int64Index: 35447 entries, 0 to 36904\n",
      "Data columns (total 39 columns):\n",
      " #   Column                       Non-Null Count  Dtype   \n",
      "---  ------                       --------------  -----   \n",
      " 0   id                           35447 non-null  int64   \n",
      " 1   host_since                   35447 non-null  object  \n",
      " 2   host_response_time           18564 non-null  object  \n",
      " 3   host_response_rate           18564 non-null  object  \n",
      " 4   host_acceptance_rate         20083 non-null  object  \n",
      " 5   host_is_superhost            35447 non-null  int64   \n",
      " 6   host_has_profile_pic         35447 non-null  int64   \n",
      " 7   host_identity_verified       35447 non-null  int64   \n",
      " 8   neighbourhood                35447 non-null  object  \n",
      " 9   borough                      35447 non-null  object  \n",
      " 10  latitude                     35447 non-null  float64 \n",
      " 11  longitude                    35447 non-null  float64 \n",
      " 12  room_type                    35447 non-null  object  \n",
      " 13  beds                         35447 non-null  float64 \n",
      " 14  price                        35447 non-null  object  \n",
      " 15  availability_365             35447 non-null  int64   \n",
      " 16  number_of_reviews            35447 non-null  int64   \n",
      " 17  review_scores_rating         25518 non-null  float64 \n",
      " 18  review_scores_accuracy       25494 non-null  float64 \n",
      " 19  review_scores_cleanliness    25504 non-null  float64 \n",
      " 20  review_scores_checkin        25485 non-null  float64 \n",
      " 21  review_scores_communication  25498 non-null  float64 \n",
      " 22  review_scores_location       25484 non-null  float64 \n",
      " 23  review_scores_value          25484 non-null  float64 \n",
      " 24  instant_bookable             35447 non-null  int64   \n",
      " 25  host_listings                35447 non-null  int64   \n",
      " 26  reviews_per_month            26168 non-null  float64 \n",
      " 27  desc_len                     35447 non-null  float64 \n",
      " 28  name_len                     35447 non-null  int64   \n",
      " 29  neighborhood_len             35447 non-null  float64 \n",
      " 30  host_about_len               35447 non-null  float64 \n",
      " 31  host_verif_count             35447 non-null  int64   \n",
      " 32  capacity                     35447 non-null  category\n",
      " 33  bath_private                 35447 non-null  int64   \n",
      " 34  baths                        35447 non-null  object  \n",
      " 35  amenities_count              35447 non-null  int64   \n",
      " 36  long_term_rental             35447 non-null  int64   \n",
      " 37  top_listing                  35447 non-null  int64   \n",
      " 38  host_in_US                   35447 non-null  int64   \n",
      "dtypes: category(1), float64(14), int64(15), object(9)\n",
      "memory usage: 11.6+ MB\n"
     ]
    }
   ],
   "source": [
    "# Check for nulls and correct data types for every variable\n",
    "listings_nyc.info()"
   ]
  },
  {
   "cell_type": "code",
   "execution_count": 364,
   "id": "e2cbdd84-dcaa-4514-9bc6-73085afaae0a",
   "metadata": {},
   "outputs": [
    {
     "name": "stderr",
     "output_type": "stream",
     "text": [
      "<ipython-input-364-316009188d73>:2: FutureWarning: The default value of regex will change from True to False in a future version. In addition, single character regular expressions will*not* be treated as literal strings when regex=True.\n",
      "  listings_nyc['price'] = listings_nyc['price'].str.replace(',', '').str.replace('$', '').astype(float)\n"
     ]
    }
   ],
   "source": [
    "# Convert data types\n",
    "listings_nyc['price'] = listings_nyc['price'].str.replace(',', '').str.replace('$', '').astype(float)\n",
    "listings_nyc['baths'] = pd.to_numeric(listings_nyc['baths'])\n",
    "listings_nyc['host_since'] = listings_nyc['host_since'].astype('datetime64[ns]')\n",
    "listings_nyc['desc_len'] = listings_nyc['desc_len'].astype(int)\n",
    "listings_nyc['neighborhood_len'] = listings_nyc['neighborhood_len'].astype(int)\n",
    "listings_nyc['host_about_len'] = listings_nyc['host_about_len'].astype(int)\n",
    "listings_nyc['host_response_rate'] = listings_nyc['host_response_rate'].str.rstrip('%').astype('float') / 100.0\n",
    "listings_nyc['host_acceptance_rate'] = listings_nyc['host_acceptance_rate'].str.rstrip('%').astype('float') / 100.0"
   ]
  },
  {
   "cell_type": "code",
   "execution_count": 365,
   "id": "7a458b78-7595-4e06-bd73-fb22b0420014",
   "metadata": {},
   "outputs": [
    {
     "name": "stdout",
     "output_type": "stream",
     "text": [
      "<class 'pandas.core.frame.DataFrame'>\n",
      "Int64Index: 35447 entries, 0 to 36904\n",
      "Data columns (total 39 columns):\n",
      " #   Column                       Non-Null Count  Dtype         \n",
      "---  ------                       --------------  -----         \n",
      " 0   id                           35447 non-null  int64         \n",
      " 1   host_since                   35447 non-null  datetime64[ns]\n",
      " 2   host_response_time           18564 non-null  object        \n",
      " 3   host_response_rate           18564 non-null  float64       \n",
      " 4   host_acceptance_rate         20083 non-null  float64       \n",
      " 5   host_is_superhost            35447 non-null  int64         \n",
      " 6   host_has_profile_pic         35447 non-null  int64         \n",
      " 7   host_identity_verified       35447 non-null  int64         \n",
      " 8   neighbourhood                35447 non-null  object        \n",
      " 9   borough                      35447 non-null  object        \n",
      " 10  latitude                     35447 non-null  float64       \n",
      " 11  longitude                    35447 non-null  float64       \n",
      " 12  room_type                    35447 non-null  object        \n",
      " 13  beds                         35447 non-null  float64       \n",
      " 14  price                        35447 non-null  float64       \n",
      " 15  availability_365             35447 non-null  int64         \n",
      " 16  number_of_reviews            35447 non-null  int64         \n",
      " 17  review_scores_rating         25518 non-null  float64       \n",
      " 18  review_scores_accuracy       25494 non-null  float64       \n",
      " 19  review_scores_cleanliness    25504 non-null  float64       \n",
      " 20  review_scores_checkin        25485 non-null  float64       \n",
      " 21  review_scores_communication  25498 non-null  float64       \n",
      " 22  review_scores_location       25484 non-null  float64       \n",
      " 23  review_scores_value          25484 non-null  float64       \n",
      " 24  instant_bookable             35447 non-null  int64         \n",
      " 25  host_listings                35447 non-null  int64         \n",
      " 26  reviews_per_month            26168 non-null  float64       \n",
      " 27  desc_len                     35447 non-null  int64         \n",
      " 28  name_len                     35447 non-null  int64         \n",
      " 29  neighborhood_len             35447 non-null  int64         \n",
      " 30  host_about_len               35447 non-null  int64         \n",
      " 31  host_verif_count             35447 non-null  int64         \n",
      " 32  capacity                     35447 non-null  category      \n",
      " 33  bath_private                 35447 non-null  int64         \n",
      " 34  baths                        35447 non-null  float64       \n",
      " 35  amenities_count              35447 non-null  int64         \n",
      " 36  long_term_rental             35447 non-null  int64         \n",
      " 37  top_listing                  35447 non-null  int64         \n",
      " 38  host_in_US                   35447 non-null  int64         \n",
      "dtypes: category(1), datetime64[ns](1), float64(15), int64(18), object(4)\n",
      "memory usage: 11.6+ MB\n"
     ]
    }
   ],
   "source": [
    "# Check changes were correctly executed\n",
    "listings_nyc.info()"
   ]
  },
  {
   "cell_type": "code",
   "execution_count": 368,
   "id": "a2e40e76-a365-4f04-a2c1-b867d241876b",
   "metadata": {},
   "outputs": [],
   "source": [
    "# Store df in pickle object to use in a different notebook for modeling\n",
    "listings_nyc.to_pickle('listings_randomforest.pickle')"
   ]
  }
 ],
 "metadata": {
  "kernelspec": {
   "display_name": "Python [conda env:metis] *",
   "language": "python",
   "name": "conda-env-metis-py"
  },
  "language_info": {
   "codemirror_mode": {
    "name": "ipython",
    "version": 3
   },
   "file_extension": ".py",
   "mimetype": "text/x-python",
   "name": "python",
   "nbconvert_exporter": "python",
   "pygments_lexer": "ipython3",
   "version": "3.8.8"
  }
 },
 "nbformat": 4,
 "nbformat_minor": 5
}
